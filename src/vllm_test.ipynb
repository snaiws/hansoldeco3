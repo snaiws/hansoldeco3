{
  "cells": [
    {
      "cell_type": "markdown",
      "id": "e50eee59-b527-44e0-afa8-7e4ee190affb",
      "metadata": {
        "id": "e50eee59-b527-44e0-afa8-7e4ee190affb"
      },
      "source": [
        "# Import"
      ]
    },
    {
      "cell_type": "code",
      "execution_count": 1,
      "id": "e8de54bc",
      "metadata": {},
      "outputs": [],
      "source": [
        "import time"
      ]
    },
    {
      "cell_type": "code",
      "execution_count": 2,
      "id": "493a074b-5e32-44c1-aee9-d378b1b37003",
      "metadata": {
        "id": "493a074b-5e32-44c1-aee9-d378b1b37003"
      },
      "outputs": [
        {
          "name": "stderr",
          "output_type": "stream",
          "text": [
            "/home/container_user/.cache/pypoetry/virtualenvs/hansoldeco3-QckXwucX-py3.11/lib/python3.11/site-packages/tqdm/auto.py:21: TqdmWarning: IProgress not found. Please update jupyter and ipywidgets. See https://ipywidgets.readthedocs.io/en/stable/user_install.html\n",
            "  from .autonotebook import tqdm as notebook_tqdm\n"
          ]
        }
      ],
      "source": [
        "import pandas as pd\n",
        "\n",
        "from langchain.embeddings import HuggingFaceEmbeddings\n",
        "from langchain.vectorstores import FAISS\n",
        "from langchain.prompts import PromptTemplate\n",
        "from langchain.chains import RetrievalQA\n",
        "from langchain.llms import HuggingFacePipeline\n",
        "\n",
        "from transformers import pipeline, AutoModelForCausalLM, AutoTokenizer, BitsAndBytesConfig\n",
        "import torch"
      ]
    },
    {
      "cell_type": "code",
      "execution_count": 3,
      "id": "WTtQ70sm2xgW",
      "metadata": {
        "colab": {
          "base_uri": "https://localhost:8080/"
        },
        "id": "WTtQ70sm2xgW",
        "outputId": "969d60e8-7f38-4d15-c709-766039e9d6c5"
      },
      "outputs": [
        {
          "name": "stdout",
          "output_type": "stream",
          "text": [
            "4.49.0\n",
            "1.4.0\n"
          ]
        }
      ],
      "source": [
        "import transformers\n",
        "import accelerate\n",
        "print(transformers.__version__)\n",
        "print(accelerate.__version__)"
      ]
    },
    {
      "cell_type": "code",
      "execution_count": 4,
      "id": "KfzwRJkilrEB",
      "metadata": {
        "colab": {
          "base_uri": "https://localhost:8080/"
        },
        "id": "KfzwRJkilrEB",
        "outputId": "f25c5a74-0086-4bb2-b0f2-57f162550773"
      },
      "outputs": [
        {
          "name": "stdout",
          "output_type": "stream",
          "text": [
            "CUDA 사용 가능: True\n",
            "GPU 개수: 1\n",
            "사용 중인 GPU: NVIDIA GeForce RTX 3080\n"
          ]
        }
      ],
      "source": [
        "print(\"CUDA 사용 가능:\", torch.cuda.is_available())\n",
        "print(\"GPU 개수:\", torch.cuda.device_count())\n",
        "print(\"사용 중인 GPU:\", torch.cuda.get_device_name(0) if torch.cuda.is_available() else \"CPU 사용 중\")"
      ]
    },
    {
      "cell_type": "markdown",
      "id": "37f4223e-111b-49a8-a716-5f98caacf12f",
      "metadata": {
        "id": "37f4223e-111b-49a8-a716-5f98caacf12f"
      },
      "source": [
        "# Data Load & Pre-processing"
      ]
    },
    {
      "cell_type": "code",
      "execution_count": 5,
      "id": "b5105439",
      "metadata": {},
      "outputs": [],
      "source": [
        "path_train = \"/workspace/Storage/hansoldeco3/Data/raw/train.csv\"\n",
        "path_test = \"/workspace/Storage/hansoldeco3/Data/raw/test.csv\"\n",
        "sample_idx = \"/workspace/Storage/hansoldeco3/Data/sample/sample_v1.csv\""
      ]
    },
    {
      "cell_type": "code",
      "execution_count": 6,
      "id": "f871264a-ecd6-430d-ab1f-8edad746bd14",
      "metadata": {
        "id": "f871264a-ecd6-430d-ab1f-8edad746bd14"
      },
      "outputs": [],
      "source": [
        "train = pd.read_csv(path_train, encoding = 'utf-8-sig')\n",
        "test = pd.read_csv(path_test, encoding = 'utf-8-sig')\n",
        "sample_idx = pd.read_csv(sample_idx)"
      ]
    },
    {
      "cell_type": "code",
      "execution_count": 7,
      "id": "b636e645",
      "metadata": {},
      "outputs": [],
      "source": [
        "# val 데이터 선택\n",
        "test = train[train[\"ID\"].isin(sample_idx[\"sample_v1\"])]\n",
        "# train 데이터 선택 (val에 포함되지 않은 나머지)\n",
        "train = train[~train[\"ID\"].isin(sample_idx[\"sample_v1\"])]"
      ]
    },
    {
      "cell_type": "code",
      "execution_count": 8,
      "id": "5dcc0921-e9a7-407a-a070-148abb06aca5",
      "metadata": {
        "id": "5dcc0921-e9a7-407a-a070-148abb06aca5"
      },
      "outputs": [],
      "source": [
        "# 데이터 전처리\n",
        "train['공사종류(대분류)'] = train['공사종류'].str.split(' / ').str[0]\n",
        "train['공사종류(중분류)'] = train['공사종류'].str.split(' / ').str[1]\n",
        "train['공종(대분류)'] = train['공종'].str.split(' > ').str[0]\n",
        "train['공종(중분류)'] = train['공종'].str.split(' > ').str[1]\n",
        "train['사고객체(대분류)'] = train['사고객체'].str.split(' > ').str[0]\n",
        "train['사고객체(중분류)'] = train['사고객체'].str.split(' > ').str[1]\n",
        "\n",
        "test['공사종류(대분류)'] = test['공사종류'].str.split(' / ').str[0]\n",
        "test['공사종류(중분류)'] = test['공사종류'].str.split(' / ').str[1]\n",
        "test['공종(대분류)'] = test['공종'].str.split(' > ').str[0]\n",
        "test['공종(중분류)'] = test['공종'].str.split(' > ').str[1]\n",
        "test['사고객체(대분류)'] = test['사고객체'].str.split(' > ').str[0]\n",
        "test['사고객체(중분류)'] = test['사고객체'].str.split(' > ').str[1]"
      ]
    },
    {
      "cell_type": "code",
      "execution_count": 9,
      "id": "90e51bca-0c93-4412-9634-9f86ea9a36ef",
      "metadata": {
        "id": "90e51bca-0c93-4412-9634-9f86ea9a36ef"
      },
      "outputs": [],
      "source": [
        "# 훈련 데이터 통합 생성\n",
        "combined_training_data = train.apply(\n",
        "    lambda row: {\n",
        "        \"question\": (\n",
        "            f\"공사종류 대분류 '{row['공사종류(대분류)']}', 중분류 '{row['공사종류(중분류)']}' 공사 중 \"\n",
        "            f\"공종 대분류 '{row['공종(대분류)']}', 중분류 '{row['공종(중분류)']}' 작업에서 \"\n",
        "            f\"사고객체 '{row['사고객체(대분류)']}'(중분류: '{row['사고객체(중분류)']}')와 관련된 사고가 발생했습니다. \"\n",
        "            f\"작업 프로세스는 '{row['작업프로세스']}'이며, 사고 원인은 '{row['사고원인']}'입니다. \"\n",
        "            f\"재발 방지 대책 및 향후 조치 계획은 무엇인가요?\"\n",
        "        ),\n",
        "        \"answer\": row[\"재발방지대책 및 향후조치계획\"]\n",
        "    },\n",
        "    axis=1\n",
        ")\n",
        "\n",
        "# DataFrame으로 변환\n",
        "combined_training_data = pd.DataFrame(list(combined_training_data))"
      ]
    },
    {
      "cell_type": "code",
      "execution_count": 10,
      "id": "cbf53249-8aae-4308-a476-4200814da53d",
      "metadata": {
        "id": "cbf53249-8aae-4308-a476-4200814da53d",
        "scrolled": true
      },
      "outputs": [],
      "source": [
        "# 테스트 데이터 통합 생성\n",
        "combined_test_data = test.apply(\n",
        "    lambda row: {\n",
        "        \"question\": (\n",
        "            f\"공사종류 대분류 '{row['공사종류(대분류)']}', 중분류 '{row['공사종류(중분류)']}' 공사 중 \"\n",
        "            f\"공종 대분류 '{row['공종(대분류)']}', 중분류 '{row['공종(중분류)']}' 작업에서 \"\n",
        "            f\"사고객체 '{row['사고객체(대분류)']}'(중분류: '{row['사고객체(중분류)']}')와 관련된 사고가 발생했습니다. \"\n",
        "            f\"작업 프로세스는 '{row['작업프로세스']}'이며, 사고 원인은 '{row['사고원인']}'입니다. \"\n",
        "            f\"재발 방지 대책 및 향후 조치 계획은 무엇인가요?\"\n",
        "        )\n",
        "    },\n",
        "    axis=1\n",
        ")\n",
        "\n",
        "# DataFrame으로 변환\n",
        "combined_test_data = pd.DataFrame(list(combined_test_data))"
      ]
    },
    {
      "cell_type": "markdown",
      "id": "45bea209-6521-4974-a785-c2faf5af427c",
      "metadata": {
        "id": "45bea209-6521-4974-a785-c2faf5af427c"
      },
      "source": [
        "# Model import"
      ]
    },
    {
      "cell_type": "code",
      "execution_count": null,
      "id": "56900a24",
      "metadata": {},
      "outputs": [
        {
          "name": "stdout",
          "output_type": "stream",
          "text": [
            "WARNING 03-03 09:15:33 config.py:2448] Casting torch.bfloat16 to torch.float16.\n",
            "INFO 03-03 09:15:33 config.py:549] This model supports multiple tasks: {'generate', 'reward', 'embed', 'classify', 'score'}. Defaulting to 'generate'.\n",
            "WARNING 03-03 09:15:33 config.py:628] bitsandbytes quantization is not fully optimized yet. The speed can be slower than non-quantized models.\n",
            "INFO 03-03 09:15:34 llm_engine.py:234] Initializing a V0 LLM engine (v0.7.3) with config: model='NCSOFT/Llama-VARCO-8B-Instruct', speculative_config=None, tokenizer='NCSOFT/Llama-VARCO-8B-Instruct', skip_tokenizer_init=False, tokenizer_mode=auto, revision=None, override_neuron_config=None, tokenizer_revision=None, trust_remote_code=False, dtype=torch.float16, max_seq_len=8192, download_dir=None, load_format=LoadFormat.BITSANDBYTES, tensor_parallel_size=1, pipeline_parallel_size=1, disable_custom_all_reduce=False, quantization=bitsandbytes, enforce_eager=False, kv_cache_dtype=auto,  device_config=cuda, decoding_config=DecodingConfig(guided_decoding_backend='xgrammar'), observability_config=ObservabilityConfig(otlp_traces_endpoint=None, collect_model_forward_time=False, collect_model_execute_time=False), seed=0, served_model_name=NCSOFT/Llama-VARCO-8B-Instruct, num_scheduler_steps=1, multi_step_stream_outputs=True, enable_prefix_caching=False, chunked_prefill_enabled=False, use_async_output_proc=True, disable_mm_preprocessor_cache=False, mm_processor_kwargs=None, pooler_config=None, compilation_config={\"splitting_ops\":[],\"compile_sizes\":[],\"cudagraph_capture_sizes\":[256,248,240,232,224,216,208,200,192,184,176,168,160,152,144,136,128,120,112,104,96,88,80,72,64,56,48,40,32,24,16,8,4,2,1],\"max_capture_size\":256}, use_cached_outputs=False, \n",
            "WARNING 03-03 09:15:35 interface.py:304] Using 'pin_memory=False' as WSL is detected. This may slow down the performance.\n",
            "INFO 03-03 09:15:35 cuda.py:229] Using Flash Attention backend.\n",
            "INFO 03-03 09:15:35 model_runner.py:1110] Starting to load model NCSOFT/Llama-VARCO-8B-Instruct...\n",
            "INFO 03-03 09:15:36 loader.py:1089] Loading weights with BitsAndBytes quantization.  May take a while ...\n",
            "INFO 03-03 09:16:16 weight_utils.py:254] Using model weights format ['*.safetensors']\n"
          ]
        },
        {
          "name": "stderr",
          "output_type": "stream",
          "text": [
            "Loading safetensors checkpoint shards:   0% Completed | 0/4 [00:00<?, ?it/s]\n",
            "Loading safetensors checkpoint shards:  25% Completed | 1/4 [00:00<00:01,  2.79it/s]\n",
            "Loading safetensors checkpoint shards:  50% Completed | 2/4 [00:05<00:06,  3.00s/it]\n",
            "Loading safetensors checkpoint shards:  75% Completed | 3/4 [00:06<00:02,  2.27s/it]\n",
            "Loading safetensors checkpoint shards: 100% Completed | 4/4 [00:10<00:00,  2.99s/it]\n",
            "Loading safetensors checkpoint shards: 100% Completed | 4/4 [00:10<00:00,  2.68s/it]\n",
            "\n"
          ]
        },
        {
          "name": "stdout",
          "output_type": "stream",
          "text": [
            "INFO 03-03 09:16:27 model_runner.py:1115] Loading model weights took 5.3129 GB\n",
            "INFO 03-03 09:16:30 worker.py:267] Memory profiling takes 2.57 seconds\n",
            "INFO 03-03 09:16:30 worker.py:267] the current vLLM instance can use total_gpu_memory (10.00GiB) x gpu_memory_utilization (0.90) = 9.00GiB\n",
            "INFO 03-03 09:16:30 worker.py:267] model weights take 5.31GiB; non_torch_memory takes 0.06GiB; PyTorch activation peak memory takes 1.23GiB; the rest of the memory reserved for KV Cache is 2.40GiB.\n",
            "INFO 03-03 09:16:30 executor_base.py:111] # cuda blocks: 1227, # CPU blocks: 2048\n",
            "INFO 03-03 09:16:30 executor_base.py:116] Maximum concurrency for 8192 tokens per request: 2.40x\n",
            "INFO 03-03 09:16:31 model_runner.py:1434] Capturing cudagraphs for decoding. This may lead to unexpected consequences if the model is not static. To run the model in eager mode, set 'enforce_eager=True' or use '--enforce-eager' in the CLI. If out-of-memory error occurs during cudagraph capture, consider decreasing `gpu_memory_utilization` or switching to eager mode. You can also reduce the `max_num_seqs` as needed to decrease memory usage.\n"
          ]
        },
        {
          "name": "stderr",
          "output_type": "stream",
          "text": [
            "Capturing CUDA graph shapes: 100%|██████████| 35/35 [00:24<00:00,  1.41it/s]"
          ]
        },
        {
          "name": "stdout",
          "output_type": "stream",
          "text": [
            "INFO 03-03 09:16:56 model_runner.py:1562] Graph capturing finished in 23 secs, took 0.73 GiB\n",
            "INFO 03-03 09:16:56 llm_engine.py:436] init engine (profile, create kv cache, warmup model) took 28.45 seconds\n"
          ]
        },
        {
          "name": "stderr",
          "output_type": "stream",
          "text": [
            "\n"
          ]
        },
        {
          "ename": "AttributeError",
          "evalue": "'LLM' object has no attribute 'device'",
          "output_type": "error",
          "traceback": [
            "\u001b[0;31m---------------------------------------------------------------------------\u001b[0m",
            "\u001b[0;31mAttributeError\u001b[0m                            Traceback (most recent call last)",
            "Cell \u001b[0;32mIn[13], line 17\u001b[0m\n\u001b[1;32m      8\u001b[0m llm \u001b[38;5;241m=\u001b[39m LLM(\n\u001b[1;32m      9\u001b[0m     model\u001b[38;5;241m=\u001b[39mmodel_id,\n\u001b[1;32m     10\u001b[0m     quantization\u001b[38;5;241m=\u001b[39m\u001b[38;5;124m\"\u001b[39m\u001b[38;5;124mbitsandbytes\u001b[39m\u001b[38;5;124m\"\u001b[39m,\n\u001b[0;32m   (...)\u001b[0m\n\u001b[1;32m     13\u001b[0m     gpu_memory_utilization\u001b[38;5;241m=\u001b[39m\u001b[38;5;241m0.9\u001b[39m  \u001b[38;5;66;03m# GPU 메모리 활용율 조정 가능\u001b[39;00m\n\u001b[1;32m     14\u001b[0m )\n\u001b[1;32m     16\u001b[0m \u001b[38;5;66;03m# GPU 정상 할당 여부 확인\u001b[39;00m\n\u001b[0;32m---> 17\u001b[0m \u001b[38;5;28mprint\u001b[39m(\u001b[43mllm\u001b[49m\u001b[38;5;241;43m.\u001b[39;49m\u001b[43mdevice\u001b[49m)\n",
            "\u001b[0;31mAttributeError\u001b[0m: 'LLM' object has no attribute 'device'"
          ]
        }
      ],
      "source": [
        "from vllm import LLM, SamplingParams\n",
        "\n",
        "model_id = \"NCSOFT/Llama-VARCO-8B-Instruct\"\n",
        "\n",
        "tokenizer = AutoTokenizer.from_pretrained(model_id)\n",
        "\n",
        "# vLLM에서 bitsandbytes 8bit 적용\n",
        "llm = LLM(\n",
        "    model=model_id,\n",
        "    quantization=\"bitsandbytes\",\n",
        "    load_format=\"bitsandbytes\",  # 이 옵션 추가\n",
        "    dtype=torch.float16,\n",
        "    gpu_memory_utilization=0.9  # GPU 메모리 활용율 조정 가능\n",
        ")\n"
      ]
    },
    {
      "cell_type": "markdown",
      "id": "021ff667",
      "metadata": {
        "id": "021ff667"
      },
      "source": [
        "# Vector store 생성"
      ]
    },
    {
      "cell_type": "code",
      "execution_count": 14,
      "id": "b4b47aa1",
      "metadata": {
        "colab": {
          "base_uri": "https://localhost:8080/"
        },
        "id": "b4b47aa1",
        "outputId": "29b18a18-285a-4760-b6b3-3336761bd372"
      },
      "outputs": [
        {
          "name": "stderr",
          "output_type": "stream",
          "text": [
            "/tmp/ipykernel_109300/3768745628.py:12: LangChainDeprecationWarning: The class `HuggingFaceEmbeddings` was deprecated in LangChain 0.2.2 and will be removed in 1.0. An updated version of the class exists in the :class:`~langchain-huggingface package and should be used instead. To use it run `pip install -U :class:`~langchain-huggingface` and import as `from :class:`~langchain_huggingface import HuggingFaceEmbeddings``.\n",
            "  embedding = HuggingFaceEmbeddings(model_name=embedding_model_name)\n"
          ]
        }
      ],
      "source": [
        "# Train 데이터 준비\n",
        "train_questions_prevention = combined_training_data['question'].tolist()\n",
        "train_answers_prevention = combined_training_data['answer'].tolist()\n",
        "\n",
        "train_documents = [\n",
        "    f\"Q: {q1}\\nA: {a1}\"\n",
        "    for q1, a1 in zip(train_questions_prevention, train_answers_prevention)\n",
        "]\n",
        "\n",
        "# 임베딩 생성\n",
        "embedding_model_name = \"jhgan/ko-sbert-nli\"  # 임베딩 모델 선택\n",
        "embedding = HuggingFaceEmbeddings(model_name=embedding_model_name)\n",
        "\n",
        "# 벡터 스토어에 문서 추가\n",
        "vector_store = FAISS.from_texts(train_documents, embedding)\n",
        "\n",
        "# Retriever 정의\n",
        "retriever = vector_store.as_retriever(search_type=\"similarity\", search_kwargs={\"k\": 5})\n"
      ]
    },
    {
      "cell_type": "markdown",
      "id": "2533fc9f",
      "metadata": {
        "id": "2533fc9f"
      },
      "source": [
        "# RAG chain 생성"
      ]
    },
    {
      "cell_type": "code",
      "execution_count": 45,
      "id": "6fb60fd0",
      "metadata": {},
      "outputs": [],
      "source": [
        "from langchain_core.runnables import Runnable\n",
        "from langchain_core.pydantic_v1 import BaseModel\n",
        "from langchain_core.runnables import Runnable, RunnableLambda\n",
        "\n",
        "\n",
        "# vLLM을 LangChain 호환 `Runnable`로 감싸는 클래스\n",
        "class VLLMRunner(Runnable, BaseModel):\n",
        "    llm: LLM\n",
        "\n",
        "    class Config:\n",
        "        arbitrary_types_allowed = True  # ✅ vllm.LLM 객체 허용\n",
        "\n",
        "    def invoke(self, input_text: Any, config=None, **kwargs) -> str:\n",
        "        \"\"\"vLLM을 호출하여 응답을 반환하는 함수\"\"\"\n",
        "        # ✅ 입력이 딕셔너리라면 문자열로 변환\n",
        "        if isinstance(input_text, dict):\n",
        "            input_text = input_text.get(\"question\", \"\")\n",
        "\n",
        "        input_text = str(input_text)  # 문자열로 강제 변환\n",
        "\n",
        "        sampling_params = SamplingParams(\n",
        "            temperature=kwargs.get(\"temperature\", 0.7),\n",
        "            max_tokens=kwargs.get(\"max_tokens\", 512),\n",
        "            stop=kwargs.get(\"stop\", None),\n",
        "        )\n",
        "        outputs = self.llm.generate([input_text], sampling_params)\n",
        "        return outputs[0].outputs[0].text  # 생성된 텍스트 반환"
      ]
    },
    {
      "cell_type": "code",
      "execution_count": 46,
      "id": "bc27c5a3",
      "metadata": {},
      "outputs": [],
      "source": [
        "\n",
        "\n",
        "# ✅ vLLM을 `RunnableLambda`로 감싸서 LangChain과 호환되도록 수정\n",
        "wrapped_llm = RunnableLambda(lambda x, **kwargs: VLLMRunner(llm=llm).invoke(x, **kwargs))\n"
      ]
    },
    {
      "cell_type": "code",
      "execution_count": 47,
      "id": "371d4e9e-fd99-4157-abab-a367a24fa269",
      "metadata": {
        "colab": {
          "base_uri": "https://localhost:8080/"
        },
        "id": "371d4e9e-fd99-4157-abab-a367a24fa269",
        "outputId": "8efba910-4fbe-476b-be11-3cbec5902447"
      },
      "outputs": [],
      "source": [
        "\n",
        "prompt_template = \"\"\"\n",
        "### 지침: 당신은 건설 안전 전문가입니다.\n",
        "질문에 대한 답변을 핵심 내용만 요약하여 간략하게 작성하세요.\n",
        "- 서론, 배경 설명 또는 추가 설명을 절대 포함하지 마세요.\n",
        "- 다음과 같은 조치를 취할 것을 제안합니다: 와 같은 내용을 포함하지 마세요.\n",
        "\n",
        "{context}\n",
        "\n",
        "### 질문:\n",
        "{question}\n",
        "\n",
        "[/INST]\n",
        "\n",
        "\"\"\"\n",
        "\n",
        "\n",
        "# 커스텀 프롬프트 생성\n",
        "prompt = PromptTemplate(\n",
        "    input_variables=[\"context\", \"question\"],\n",
        "    template=prompt_template,\n",
        ")\n",
        "\n",
        "\n",
        "# RAG 체인 생성\n",
        "qa_chain = RetrievalQA.from_chain_type(\n",
        "    llm=wrapped_llm,\n",
        "    chain_type=\"stuff\",  # 단순 컨텍스트 결합 방식 사용\n",
        "    retriever=retriever,\n",
        "    return_source_documents=True,\n",
        "    chain_type_kwargs={\"prompt\": prompt}  # 커스텀 프롬프트 적용\n",
        ")"
      ]
    },
    {
      "cell_type": "markdown",
      "id": "7b0b3640-3968-4c2b-a7d4-30f586fadd66",
      "metadata": {
        "id": "7b0b3640-3968-4c2b-a7d4-30f586fadd66"
      },
      "source": [
        "# Inference"
      ]
    },
    {
      "cell_type": "code",
      "execution_count": 48,
      "id": "590331a4-75f0-4012-8f45-8f2652772c43",
      "metadata": {
        "colab": {
          "base_uri": "https://localhost:8080/",
          "height": 577
        },
        "id": "590331a4-75f0-4012-8f45-8f2652772c43",
        "outputId": "f81e62f7-31eb-4d7a-c4bb-091347bfa72b"
      },
      "outputs": [
        {
          "name": "stdout",
          "output_type": "stream",
          "text": [
            "테스트 실행 시작... 총 테스트 샘플 수: 100\n",
            "\n",
            "[샘플 1/100] 진행 중...\n",
            "공사종류 대분류 '토목', 중분류 '도로' 공사 중 공종 대분류 '토목', 중분류 '도로 및 포장공사' 작업에서 사고객체 '건설공구'(중분류: '공구류')와 관련된 사고가 발생했습니다. 작업 프로세스는 '설치작업'이며, 사고 원인은 '거푸집 설치를 위해 함마드릴 사용 중 손목이 뒤틀리며 통증'입니다. 재발 방지 대책 및 향후 조치 계획은 무엇인가요?\n"
          ]
        },
        {
          "name": "stderr",
          "output_type": "stream",
          "text": [
            "Processed prompts:   0%|          | 0/1 [00:00<?, ?it/s, est. speed input: 0.00 toks/s, output: 0.00 toks/s]"
          ]
        },
        {
          "name": "stderr",
          "output_type": "stream",
          "text": [
            "Processed prompts: 100%|██████████| 1/1 [00:04<00:00,  4.72s/it, est. speed input: 245.62 toks/s, output: 68.66 toks/s]\n"
          ]
        },
        {
          "name": "stdout",
          "output_type": "stream",
          "text": [
            "iter 0 완료 : 4.746534824371338초\n",
            "\n",
            "[샘플 2/100] 진행 중...\n",
            "공사종류 대분류 '건축', 중분류 '건축물' 공사 중 공종 대분류 '건축', 중분류 '철근콘크리트공사' 작업에서 사고객체 '건설자재'(중분류: '철근')와 관련된 사고가 발생했습니다. 작업 프로세스는 '설치작업'이며, 사고 원인은 '철근 작업자가 PIT층에서 철근 절곡기를 이용한 절단작업 중 절단된 철근(약 3cm)이 인중으로 튀면서 살짝 찢어짐'입니다. 재발 방지 대책 및 향후 조치 계획은 무엇인가요?\n"
          ]
        },
        {
          "name": "stderr",
          "output_type": "stream",
          "text": [
            "Processed prompts: 100%|██████████| 1/1 [00:04<00:00,  4.35s/it, est. speed input: 288.11 toks/s, output: 67.42 toks/s]\n"
          ]
        },
        {
          "name": "stdout",
          "output_type": "stream",
          "text": [
            "iter 1 완료 : 4.367358446121216초\n",
            "\n",
            "[샘플 3/100] 진행 중...\n",
            "공사종류 대분류 '건축', 중분류 '건축물' 공사 중 공종 대분류 '건축', 중분류 '철근콘크리트공사' 작업에서 사고객체 '가시설'(중분류: '지지대')와 관련된 사고가 발생했습니다. 작업 프로세스는 '설치작업'이며, 사고 원인은 '지정된 이동수단을 사용하지 않고 내려오는 중 미끄러짐'입니다. 재발 방지 대책 및 향후 조치 계획은 무엇인가요?\n"
          ]
        },
        {
          "name": "stderr",
          "output_type": "stream",
          "text": [
            "Processed prompts: 100%|██████████| 1/1 [00:04<00:00,  4.91s/it, est. speed input: 231.21 toks/s, output: 69.40 toks/s]\n"
          ]
        },
        {
          "name": "stdout",
          "output_type": "stream",
          "text": [
            "iter 2 완료 : 4.934078216552734초\n",
            "\n",
            "[샘플 4/100] 진행 중...\n",
            "공사종류 대분류 '건축', 중분류 '건축물' 공사 중 공종 대분류 '건축', 중분류 '철근콘크리트공사' 작업에서 사고객체 '건설자재'(중분류: '자재')와 관련된 사고가 발생했습니다. 작업 프로세스는 '설치작업'이며, 사고 원인은 '젖은 장갑 사용'입니다. 재발 방지 대책 및 향후 조치 계획은 무엇인가요?\n"
          ]
        },
        {
          "name": "stderr",
          "output_type": "stream",
          "text": [
            "Processed prompts: 100%|██████████| 1/1 [00:09<00:00,  9.03s/it, est. speed input: 118.24 toks/s, output: 45.94 toks/s]\n"
          ]
        },
        {
          "name": "stdout",
          "output_type": "stream",
          "text": [
            "iter 3 완료 : 9.054214477539062초\n",
            "\n",
            "[샘플 5/100] 진행 중...\n",
            "공사종류 대분류 '건축', 중분류 '건축물' 공사 중 공종 대분류 '건축', 중분류 '철근콘크리트공사' 작업에서 사고객체 '건설자재'(중분류: '자재')와 관련된 사고가 발생했습니다. 작업 프로세스는 '이동'이며, 사고 원인은 '재해자가 지하3층 주차장 구간 이동중 바닥에 물이 고인구간 상부에 있던 합판을 밟아 미끄러짐'입니다. 재발 방지 대책 및 향후 조치 계획은 무엇인가요?\n"
          ]
        },
        {
          "name": "stderr",
          "output_type": "stream",
          "text": [
            "Processed prompts: 100%|██████████| 1/1 [00:07<00:00,  7.71s/it, est. speed input: 160.30 toks/s, output: 66.46 toks/s]\n"
          ]
        },
        {
          "name": "stdout",
          "output_type": "stream",
          "text": [
            "iter 4 완료 : 7.727658987045288초\n",
            "\n",
            "[샘플 6/100] 진행 중...\n",
            "공사종류 대분류 '건축', 중분류 '건축물' 공사 중 공종 대분류 '건축', 중분류 '철근콘크리트공사' 작업에서 사고객체 '건설자재'(중분류: '철근')와 관련된 사고가 발생했습니다. 작업 프로세스는 '설치작업'이며, 사고 원인은 '작업자의 철근 용접부를 망치로 타격하면서  철근용접부가 분리되면서 반동으로  철근이 튀어올라 작업자 안면부 강타'입니다. 재발 방지 대책 및 향후 조치 계획은 무엇인가요?\n"
          ]
        },
        {
          "name": "stderr",
          "output_type": "stream",
          "text": [
            "Processed prompts: 100%|██████████| 1/1 [00:07<00:00,  7.46s/it, est. speed input: 174.57 toks/s, output: 68.65 toks/s]\n"
          ]
        },
        {
          "name": "stdout",
          "output_type": "stream",
          "text": [
            "iter 5 완료 : 7.479245901107788초\n",
            "\n",
            "[샘플 7/100] 진행 중...\n",
            "공사종류 대분류 '건축', 중분류 '건축물' 공사 중 공종 대분류 '건축', 중분류 '철근콘크리트공사' 작업에서 사고객체 '가시설'(중분류: '거푸집')와 관련된 사고가 발생했습니다. 작업 프로세스는 '운반작업'이며, 사고 원인은 '자재 적재 상태 불량'입니다. 재발 방지 대책 및 향후 조치 계획은 무엇인가요?\n"
          ]
        },
        {
          "name": "stderr",
          "output_type": "stream",
          "text": [
            "Processed prompts: 100%|██████████| 1/1 [00:07<00:00,  7.50s/it, est. speed input: 149.44 toks/s, output: 68.25 toks/s]\n"
          ]
        },
        {
          "name": "stdout",
          "output_type": "stream",
          "text": [
            "iter 6 완료 : 7.522212266921997초\n",
            "\n",
            "[샘플 8/100] 진행 중...\n",
            "공사종류 대분류 '토목', 중분류 '교량' 공사 중 공종 대분류 '토목', 중분류 '교량공사' 작업에서 사고객체 '건설자재'(중분류: '철근')와 관련된 사고가 발생했습니다. 작업 프로세스는 '설치작업'이며, 사고 원인은 '현풍천 신현풍교 교각(P2) 코핑 철근배근작업중 작업발판에 적재된 19mm 철근자재를 꺼내는 과정에서 같이 엮여온 철근 자재 하난가 낙하하면서 왼손 약지손가락을 맞음'입니다. 재발 방지 대책 및 향후 조치 계획은 무엇인가요?\n"
          ]
        },
        {
          "name": "stderr",
          "output_type": "stream",
          "text": [
            "Processed prompts: 100%|██████████| 1/1 [00:07<00:00,  7.57s/it, est. speed input: 191.80 toks/s, output: 67.68 toks/s]\n"
          ]
        },
        {
          "name": "stdout",
          "output_type": "stream",
          "text": [
            "iter 7 완료 : 7.587323188781738초\n",
            "\n",
            "[샘플 9/100] 진행 중...\n",
            "공사종류 대분류 '토목', 중분류 '도로' 공사 중 공종 대분류 '토목', 중분류 '도로 및 포장공사' 작업에서 사고객체 '질병'(중분류: '질병')와 관련된 사고가 발생했습니다. 작업 프로세스는 '보수 및 교체작업'이며, 사고 원인은 '주원인 : 기타(근로자 건강상태 악화)'입니다. 재발 방지 대책 및 향후 조치 계획은 무엇인가요?\n"
          ]
        },
        {
          "name": "stderr",
          "output_type": "stream",
          "text": [
            "Processed prompts: 100%|██████████| 1/1 [00:08<00:00,  8.60s/it, est. speed input: 110.65 toks/s, output: 49.33 toks/s]\n"
          ]
        },
        {
          "name": "stdout",
          "output_type": "stream",
          "text": [
            "iter 8 완료 : 8.615981817245483초\n",
            "\n",
            "[샘플 10/100] 진행 중...\n",
            "공사종류 대분류 '건축', 중분류 '건축물' 공사 중 공종 대분류 '건축', 중분류 '철근콘크리트공사' 작업에서 사고객체 '건설공구'(중분류: '공구류')와 관련된 사고가 발생했습니다. 작업 프로세스는 '형틀 및 목공'이며, 사고 원인은 '1층 벽체 거푸집  창틀 고정을 위해 창틀 왼쪽면에 불안정한 자세(몸을 왼쪽으로 비틀은 자세)로  망치로 못을 박던 재해자가 망치에 본인 손가락을 맞아 골절(왼손 새끼손가락 골절, 6주 진단)'입니다. 재발 방지 대책 및 향후 조치 계획은 무엇인가요?\n"
          ]
        },
        {
          "name": "stderr",
          "output_type": "stream",
          "text": [
            "Processed prompts: 100%|██████████| 1/1 [00:07<00:00,  7.62s/it, est. speed input: 157.19 toks/s, output: 67.18 toks/s]\n"
          ]
        },
        {
          "name": "stdout",
          "output_type": "stream",
          "text": [
            "iter 9 완료 : 7.64505410194397초\n",
            "\n",
            "[샘플 11/100] 진행 중...\n",
            "공사종류 대분류 '토목', 중분류 '기타' 공사 중 공종 대분류 '토목', 중분류 '토공사' 작업에서 사고객체 '건설기계'(중분류: '굴착기')와 관련된 사고가 발생했습니다. 작업 프로세스는 '운반작업'이며, 사고 원인은 '굴삭기 운전원 운전 부주의'입니다. 재발 방지 대책 및 향후 조치 계획은 무엇인가요?\n"
          ]
        },
        {
          "name": "stderr",
          "output_type": "stream",
          "text": [
            "Processed prompts: 100%|██████████| 1/1 [00:07<00:00,  7.49s/it, est. speed input: 160.63 toks/s, output: 68.36 toks/s]\n"
          ]
        },
        {
          "name": "stdout",
          "output_type": "stream",
          "text": [
            "iter 10 완료 : 7.510676383972168초\n",
            "\n",
            "[샘플 12/100] 진행 중...\n",
            "공사종류 대분류 '토목', 중분류 '기타' 공사 중 공종 대분류 '토목', 중분류 '토공사' 작업에서 사고객체 '건설기계'(중분류: '굴착기')와 관련된 사고가 발생했습니다. 작업 프로세스는 '굴착작업'이며, 사고 원인은 '굴삭기 하차시 하차용 발판 딛던 중 궤도발판에 묻어있던 젖은 토사를 확인하지 못해 미끄러짐 사고 발생'입니다. 재발 방지 대책 및 향후 조치 계획은 무엇인가요?\n"
          ]
        },
        {
          "name": "stderr",
          "output_type": "stream",
          "text": [
            "Processed prompts: 100%|██████████| 1/1 [00:07<00:00,  7.03s/it, est. speed input: 159.14 toks/s, output: 67.75 toks/s]\n"
          ]
        },
        {
          "name": "stdout",
          "output_type": "stream",
          "text": [
            "iter 11 완료 : 7.047055721282959초\n",
            "\n",
            "[샘플 13/100] 진행 중...\n",
            "공사종류 대분류 '건축', 중분류 '건축물' 공사 중 공종 대분류 '건축', 중분류 '철근콘크리트공사' 작업에서 사고객체 '질병'(중분류: '질병')와 관련된 사고가 발생했습니다. 작업 프로세스는 '기타'이며, 사고 원인은 '사고원인은 해당되는 사항이 없어 관계없는 주원인 선택,  구체적 사고 원인은 경찰조사결과 사인 미상(심정지 추정)'입니다. 재발 방지 대책 및 향후 조치 계획은 무엇인가요?\n"
          ]
        },
        {
          "name": "stderr",
          "output_type": "stream",
          "text": [
            "Processed prompts: 100%|██████████| 1/1 [00:09<00:00,  9.96s/it, est. speed input: 109.01 toks/s, output: 51.39 toks/s]\n"
          ]
        },
        {
          "name": "stdout",
          "output_type": "stream",
          "text": [
            "iter 12 완료 : 9.98676061630249초\n",
            "\n",
            "[샘플 14/100] 진행 중...\n",
            "공사종류 대분류 '건축', 중분류 '건축물' 공사 중 공종 대분류 '건축', 중분류 '철골공사' 작업에서 사고객체 '부재'(중분류: '철골부재')와 관련된 사고가 발생했습니다. 작업 프로세스는 '조립작업'이며, 사고 원인은 'nan'입니다. 재발 방지 대책 및 향후 조치 계획은 무엇인가요?\n"
          ]
        },
        {
          "name": "stderr",
          "output_type": "stream",
          "text": [
            "Processed prompts: 100%|██████████| 1/1 [00:07<00:00,  7.57s/it, est. speed input: 124.24 toks/s, output: 67.60 toks/s]\n"
          ]
        },
        {
          "name": "stdout",
          "output_type": "stream",
          "text": [
            "iter 13 완료 : 7.595412731170654초\n",
            "\n",
            "[샘플 15/100] 진행 중...\n",
            "공사종류 대분류 '건축', 중분류 '건축물' 공사 중 공종 대분류 '전기설비', 중분류 '전기설비공사' 작업에서 사고객체 '시설물'(중분류: '석축')와 관련된 사고가 발생했습니다. 작업 프로세스는 '이동'이며, 사고 원인은 '외부계단 옆 조경석을 밟고 올라가다 무게중심을 잃고 옆으로 넘어짐'입니다. 재발 방지 대책 및 향후 조치 계획은 무엇인가요?\n"
          ]
        },
        {
          "name": "stderr",
          "output_type": "stream",
          "text": [
            "Processed prompts: 100%|██████████| 1/1 [00:05<00:00,  5.37s/it, est. speed input: 200.00 toks/s, output: 67.04 toks/s]\n"
          ]
        },
        {
          "name": "stdout",
          "output_type": "stream",
          "text": [
            "iter 14 완료 : 5.392094612121582초\n",
            "\n",
            "[샘플 16/100] 진행 중...\n",
            "공사종류 대분류 '건축', 중분류 '건축물' 공사 중 공종 대분류 '건축', 중분류 '철근콘크리트공사' 작업에서 사고객체 '부재'(중분류: '배관')와 관련된 사고가 발생했습니다. 작업 프로세스는 '정리작업'이며, 사고 원인은 '- 2022년 9월 7일 (수)오후 6시 40분경 지하2층 누름 콘크리트 타설작업중 기타설한 구간의 콘크리트배관을 해체정리 하던중 해체한 배관과 충돌( 당시 경미한 통증으로 정상근무후 귀가함)※ 해당일 이후 추석연휴와 코로나 확진으로 인해 당사현장 미근무- 금일(9/26) 해당작업자가 산재처리를 요청하여 사고 정황을 파악한 결과, 생계형 재해로 판단되어산업재해 불승인 요청예정'입니다. 재발 방지 대책 및 향후 조치 계획은 무엇인가요?\n"
          ]
        },
        {
          "name": "stderr",
          "output_type": "stream",
          "text": [
            "Processed prompts: 100%|██████████| 1/1 [00:07<00:00,  7.22s/it, est. speed input: 211.71 toks/s, output: 68.26 toks/s]\n"
          ]
        },
        {
          "name": "stdout",
          "output_type": "stream",
          "text": [
            "iter 15 완료 : 7.248290061950684초\n",
            "\n",
            "[샘플 17/100] 진행 중...\n",
            "공사종류 대분류 '건축', 중분류 '건축물' 공사 중 공종 대분류 '기타', 중분류 '기타' 작업에서 사고객체 '시설물'(중분류: '건물')와 관련된 사고가 발생했습니다. 작업 프로세스는 '이동'이며, 사고 원인은 '작업자 단순과실'입니다. 재발 방지 대책 및 향후 조치 계획은 무엇인가요?\n"
          ]
        },
        {
          "name": "stderr",
          "output_type": "stream",
          "text": [
            "Processed prompts: 100%|██████████| 1/1 [00:04<00:00,  4.18s/it, est. speed input: 234.56 toks/s, output: 65.51 toks/s]\n"
          ]
        },
        {
          "name": "stdout",
          "output_type": "stream",
          "text": [
            "iter 16 완료 : 4.20482873916626초\n",
            "\n",
            "[샘플 18/100] 진행 중...\n",
            "공사종류 대분류 '건축', 중분류 '건축물' 공사 중 공종 대분류 '건축', 중분류 '철근콘크리트공사' 작업에서 사고객체 '기타'(중분류: '기타')와 관련된 사고가 발생했습니다. 작업 프로세스는 '타설작업'이며, 사고 원인은 '(  송**씨 )가  ( 타설 작업 )하던 중 ( 자바라 반동)에 ( 부딪힘)'입니다. 재발 방지 대책 및 향후 조치 계획은 무엇인가요?\n"
          ]
        },
        {
          "name": "stderr",
          "output_type": "stream",
          "text": [
            "Processed prompts: 100%|██████████| 1/1 [00:10<00:00, 10.04s/it, est. speed input: 108.51 toks/s, output: 51.02 toks/s]\n"
          ]
        },
        {
          "name": "stdout",
          "output_type": "stream",
          "text": [
            "iter 17 완료 : 10.058114290237427초\n",
            "\n",
            "[샘플 19/100] 진행 중...\n",
            "공사종류 대분류 '건축', 중분류 '건축물' 공사 중 공종 대분류 '건축', 중분류 '철근콘크리트공사' 작업에서 사고객체 '질병'(중분류: '질병')와 관련된 사고가 발생했습니다. 작업 프로세스는 '형틀 및 목공'이며, 사고 원인은 '21년간 형틀공으로 근무하면서 반복적인 작업으로 인해 허리 통증 호소함.'입니다. 재발 방지 대책 및 향후 조치 계획은 무엇인가요?\n"
          ]
        },
        {
          "name": "stderr",
          "output_type": "stream",
          "text": [
            "Processed prompts: 100%|██████████| 1/1 [00:05<00:00,  5.64s/it, est. speed input: 209.90 toks/s, output: 65.29 toks/s]\n"
          ]
        },
        {
          "name": "stdout",
          "output_type": "stream",
          "text": [
            "iter 18 완료 : 5.657922744750977초\n",
            "\n",
            "[샘플 20/100] 진행 중...\n",
            "공사종류 대분류 '건축', 중분류 '건축물' 공사 중 공종 대분류 '건축', 중분류 '철근콘크리트공사' 작업에서 사고객체 '기타'(중분류: '기타')와 관련된 사고가 발생했습니다. 작업 프로세스는 '이동'이며, 사고 원인은 '현장 작업 후 퇴근길에 배수로에 걸려 넘어진 것으로 추정됨'입니다. 재발 방지 대책 및 향후 조치 계획은 무엇인가요?\n"
          ]
        },
        {
          "name": "stderr",
          "output_type": "stream",
          "text": [
            "Processed prompts: 100%|██████████| 1/1 [00:03<00:00,  3.18s/it, est. speed input: 329.01 toks/s, output: 62.97 toks/s]\n"
          ]
        },
        {
          "name": "stdout",
          "output_type": "stream",
          "text": [
            "iter 19 완료 : 3.1988344192504883초\n",
            "\n",
            "[샘플 21/100] 진행 중...\n",
            "공사종류 대분류 '건축', 중분류 '건축물' 공사 중 공종 대분류 '건축', 중분류 '철근콘크리트공사' 작업에서 사고객체 '건설자재'(중분류: '철근')와 관련된 사고가 발생했습니다. 작업 프로세스는 '이동'이며, 사고 원인은 '철골 위에서 자재 이동중 잘못밟아 미끄러짐'입니다. 재발 방지 대책 및 향후 조치 계획은 무엇인가요?\n"
          ]
        },
        {
          "name": "stderr",
          "output_type": "stream",
          "text": [
            "Processed prompts: 100%|██████████| 1/1 [00:05<00:00,  5.48s/it, est. speed input: 212.17 toks/s, output: 66.83 toks/s]\n"
          ]
        },
        {
          "name": "stdout",
          "output_type": "stream",
          "text": [
            "iter 20 완료 : 5.498042583465576초\n",
            "\n",
            "[샘플 22/100] 진행 중...\n",
            "공사종류 대분류 '건축', 중분류 '건축물' 공사 중 공종 대분류 '기타', 중분류 '기타' 작업에서 사고객체 '기타'(중분류: '기타')와 관련된 사고가 발생했습니다. 작업 프로세스는 '기타'이며, 사고 원인은 '휴식 시간중 앉아있다가 갑자기 콘크리트 바닥으로 꼬끄라지며 안면부 부상'입니다. 재발 방지 대책 및 향후 조치 계획은 무엇인가요?\n"
          ]
        },
        {
          "name": "stderr",
          "output_type": "stream",
          "text": [
            "Processed prompts: 100%|██████████| 1/1 [00:05<00:00,  5.39s/it, est. speed input: 173.78 toks/s, output: 68.62 toks/s]\n"
          ]
        },
        {
          "name": "stdout",
          "output_type": "stream",
          "text": [
            "iter 21 완료 : 5.41332745552063초\n",
            "\n",
            "[샘플 23/100] 진행 중...\n",
            "공사종류 대분류 '건축', 중분류 '건축물' 공사 중 공종 대분류 '건축', 중분류 '철근콘크리트공사' 작업에서 사고객체 '가시설'(중분류: '작업발판')와 관련된 사고가 발생했습니다. 작업 프로세스는 '이동'이며, 사고 원인은 '2021년 12월 20일 오전 7시 30분경 판교제2테크노밸리 E8-5BL 신축공사 현장에서 아침 TBM 후 재해자(철근반장)화장실 이동 중 미끄러운 유공발판에서 발목을 접지르면서 넘어짐'입니다. 재발 방지 대책 및 향후 조치 계획은 무엇인가요?\n"
          ]
        },
        {
          "name": "stderr",
          "output_type": "stream",
          "text": [
            "Processed prompts: 100%|██████████| 1/1 [00:07<00:00,  7.75s/it, est. speed input: 179.23 toks/s, output: 66.12 toks/s]\n"
          ]
        },
        {
          "name": "stdout",
          "output_type": "stream",
          "text": [
            "iter 22 완료 : 7.767230987548828초\n",
            "\n",
            "[샘플 24/100] 진행 중...\n",
            "공사종류 대분류 '건축', 중분류 '건축물' 공사 중 공종 대분류 '건축', 중분류 '철근콘크리트공사' 작업에서 사고객체 '기타'(중분류: '기타')와 관련된 사고가 발생했습니다. 작업 프로세스는 '기타'이며, 사고 원인은 '엄지말뚝 해체구간 단차부위 차단막 미설치'입니다. 재발 방지 대책 및 향후 조치 계획은 무엇인가요?\n"
          ]
        },
        {
          "name": "stderr",
          "output_type": "stream",
          "text": [
            "Processed prompts: 100%|██████████| 1/1 [00:07<00:00,  7.30s/it, est. speed input: 136.25 toks/s, output: 44.82 toks/s]\n"
          ]
        },
        {
          "name": "stdout",
          "output_type": "stream",
          "text": [
            "iter 23 완료 : 7.318148612976074초\n",
            "\n",
            "[샘플 25/100] 진행 중...\n",
            "공사종류 대분류 '건축', 중분류 '건축물' 공사 중 공종 대분류 '건축', 중분류 '철근콘크리트공사' 작업에서 사고객체 '가시설'(중분류: '가설계단')와 관련된 사고가 발생했습니다. 작업 프로세스는 '이동'이며, 사고 원인은 '근로자 이동 중 미끄러지며 바닥에 왼쪽팔을 디디면서 팔목에 충격이 가해져 골절된 사고이며, 작업자의 단순과실로 판단됨'입니다. 재발 방지 대책 및 향후 조치 계획은 무엇인가요?\n"
          ]
        },
        {
          "name": "stderr",
          "output_type": "stream",
          "text": [
            "Processed prompts: 100%|██████████| 1/1 [00:07<00:00,  7.70s/it, est. speed input: 152.92 toks/s, output: 66.52 toks/s]\n"
          ]
        },
        {
          "name": "stdout",
          "output_type": "stream",
          "text": [
            "iter 24 완료 : 7.722188949584961초\n",
            "\n",
            "[샘플 26/100] 진행 중...\n",
            "공사종류 대분류 '건축', 중분류 '건축물' 공사 중 공종 대분류 '기타', 중분류 '기타' 작업에서 사고객체 '기타'(중분류: '기타')와 관련된 사고가 발생했습니다. 작업 프로세스는 '이동'이며, 사고 원인은 '작업자 단순과실'입니다. 재발 방지 대책 및 향후 조치 계획은 무엇인가요?\n"
          ]
        },
        {
          "name": "stderr",
          "output_type": "stream",
          "text": [
            "Processed prompts: 100%|██████████| 1/1 [00:07<00:00,  7.39s/it, est. speed input: 113.02 toks/s, output: 69.30 toks/s]\n"
          ]
        },
        {
          "name": "stdout",
          "output_type": "stream",
          "text": [
            "iter 25 완료 : 7.412332534790039초\n",
            "\n",
            "[샘플 27/100] 진행 중...\n",
            "공사종류 대분류 '토목', 중분류 '도로' 공사 중 공종 대분류 '토목', 중분류 '도로 및 포장공사' 작업에서 사고객체 '건설기계'(중분류: '덤프트럭')와 관련된 사고가 발생했습니다. 작업 프로세스는 '준비작업'이며, 사고 원인은 '현장 아스콘 운반차량 덤프트럭의 시동 꺼짐으로 인한 차량 씨스템이 작동하지 않아 발생한 사고로 보여짐(정확한 원인은 교통사고 조사중)'입니다. 재발 방지 대책 및 향후 조치 계획은 무엇인가요?\n"
          ]
        },
        {
          "name": "stderr",
          "output_type": "stream",
          "text": [
            "Processed prompts: 100%|██████████| 1/1 [00:05<00:00,  5.06s/it, est. speed input: 223.50 toks/s, output: 67.39 toks/s]\n"
          ]
        },
        {
          "name": "stdout",
          "output_type": "stream",
          "text": [
            "iter 26 완료 : 5.08513617515564초\n",
            "\n",
            "[샘플 28/100] 진행 중...\n",
            "공사종류 대분류 '건축', 중분류 '건축물' 공사 중 공종 대분류 '건축', 중분류 '건축 토공사' 작업에서 사고객체 '가시설'(중분류: '흙막이가시설')와 관련된 사고가 발생했습니다. 작업 프로세스는 '굴착작업'이며, 사고 원인은 '지하연속벽 굴착장비(BC컷터) 운용 중 장비와 차수판 사이에 우측 손가락(3수지) 협착 사고'입니다. 재발 방지 대책 및 향후 조치 계획은 무엇인가요?\n"
          ]
        },
        {
          "name": "stderr",
          "output_type": "stream",
          "text": [
            "Processed prompts: 100%|██████████| 1/1 [00:07<00:00,  7.67s/it, est. speed input: 142.69 toks/s, output: 66.78 toks/s]\n"
          ]
        },
        {
          "name": "stdout",
          "output_type": "stream",
          "text": [
            "iter 27 완료 : 7.692698001861572초\n",
            "\n",
            "[샘플 29/100] 진행 중...\n",
            "공사종류 대분류 '산업환경설비', 중분류 '산업생산시설' 공사 중 공종 대분류 '기계설비', 중분류 '기계설비공사' 작업에서 사고객체 '가시설'(중분류: '가설계단')와 관련된 사고가 발생했습니다. 작업 프로세스는 '이동'이며, 사고 원인은 '현장작업을 마치고 휴게실로 이동하던 중 가설계단(400mm*1800mm) 에서 발을 헛디뎌 오른쪽 발목을 접질림'입니다. 재발 방지 대책 및 향후 조치 계획은 무엇인가요?\n"
          ]
        },
        {
          "name": "stderr",
          "output_type": "stream",
          "text": [
            "Processed prompts: 100%|██████████| 1/1 [00:10<00:00, 10.06s/it, est. speed input: 126.50 toks/s, output: 50.88 toks/s]\n"
          ]
        },
        {
          "name": "stdout",
          "output_type": "stream",
          "text": [
            "iter 28 완료 : 10.086821556091309초\n",
            "\n",
            "[샘플 30/100] 진행 중...\n",
            "공사종류 대분류 '건축', 중분류 '건축물' 공사 중 공종 대분류 '건축', 중분류 '철근콘크리트공사' 작업에서 사고객체 '가시설'(중분류: '거푸집')와 관련된 사고가 발생했습니다. 작업 프로세스는 '설치작업'이며, 사고 원인은 '작업자 작업통로가 아닌 창문 개구부로 넘어서다 비계파이프를 잡아 고정이 풀린 상태에서 작업을 진행하다 비계파이프가 떨어져 손가락 골절이됨'입니다. 재발 방지 대책 및 향후 조치 계획은 무엇인가요?\n"
          ]
        },
        {
          "name": "stderr",
          "output_type": "stream",
          "text": [
            "Processed prompts: 100%|██████████| 1/1 [00:06<00:00,  6.75s/it, est. speed input: 191.10 toks/s, output: 65.53 toks/s]\n"
          ]
        },
        {
          "name": "stdout",
          "output_type": "stream",
          "text": [
            "iter 29 완료 : 6.76834511756897초\n",
            "\n",
            "[샘플 31/100] 진행 중...\n",
            "공사종류 대분류 '건축', 중분류 '건축물' 공사 중 공종 대분류 '건축', 중분류 '조적공사' 작업에서 사고객체 '기타'(중분류: '기타')와 관련된 사고가 발생했습니다. 작업 프로세스는 '이동'이며, 사고 원인은 '계단실 이동시 발을 헛디뎌 미끄러져 넘어짐'입니다. 재발 방지 대책 및 향후 조치 계획은 무엇인가요?\n"
          ]
        },
        {
          "name": "stderr",
          "output_type": "stream",
          "text": [
            "Processed prompts: 100%|██████████| 1/1 [00:06<00:00,  6.96s/it, est. speed input: 154.42 toks/s, output: 68.38 toks/s]\n"
          ]
        },
        {
          "name": "stdout",
          "output_type": "stream",
          "text": [
            "iter 30 완료 : 6.986515998840332초\n",
            "\n",
            "[샘플 32/100] 진행 중...\n",
            "공사종류 대분류 '산업환경설비', 중분류 '산업생산시설' 공사 중 공종 대분류 '기계설비', 중분류 '기계설비공사' 작업에서 사고객체 'nan'(중분류: 'nan')와 관련된 사고가 발생했습니다. 작업 프로세스는 '기타'이며, 사고 원인은 '플랜트 및 건설현장에서 배관공으로 근무하며 배관 취부 작업을 장기간 불안정한 자세로 수행했고 중량물 취급 등으로 인해 슬관절에 신체에 스트레스가 누적되어 업무상 질병 발병'입니다. 재발 방지 대책 및 향후 조치 계획은 무엇인가요?\n"
          ]
        },
        {
          "name": "stderr",
          "output_type": "stream",
          "text": [
            "Processed prompts: 100%|██████████| 1/1 [00:07<00:00,  7.63s/it, est. speed input: 167.26 toks/s, output: 67.11 toks/s]\n"
          ]
        },
        {
          "name": "stdout",
          "output_type": "stream",
          "text": [
            "iter 31 완료 : 7.652902603149414초\n",
            "\n",
            "[샘플 33/100] 진행 중...\n",
            "공사종류 대분류 '건축', 중분류 '건축물' 공사 중 공종 대분류 '건축', 중분류 '철근콘크리트공사' 작업에서 사고객체 '건설공구'(중분류: '사다리')와 관련된 사고가 발생했습니다. 작업 프로세스는 '설치작업'이며, 사고 원인은 '사다리를 오르는 중 미끄러짐으로 인한 균형 상실'입니다. 재발 방지 대책 및 향후 조치 계획은 무엇인가요?\n"
          ]
        },
        {
          "name": "stderr",
          "output_type": "stream",
          "text": [
            "Processed prompts: 100%|██████████| 1/1 [00:09<00:00,  9.61s/it, est. speed input: 128.69 toks/s, output: 49.94 toks/s]\n"
          ]
        },
        {
          "name": "stdout",
          "output_type": "stream",
          "text": [
            "iter 32 완료 : 9.634072065353394초\n",
            "\n",
            "[샘플 34/100] 진행 중...\n",
            "공사종류 대분류 '산업환경설비', 중분류 '산업생산시설' 공사 중 공종 대분류 '기계설비', 중분류 '기계설비공사' 작업에서 사고객체 '기타'(중분류: '기타')와 관련된 사고가 발생했습니다. 작업 프로세스는 '설치작업'이며, 사고 원인은 '서포트 그라우트 작업을 위해 믹서기를 사용하던 중 믹서기의 진동과 힘을 견디지 못하고 믹서기를 잡고 있던 손목이 믹서기 손잡이와 함께 회전함'입니다. 재발 방지 대책 및 향후 조치 계획은 무엇인가요?\n"
          ]
        },
        {
          "name": "stderr",
          "output_type": "stream",
          "text": [
            "Processed prompts: 100%|██████████| 1/1 [00:06<00:00,  6.59s/it, est. speed input: 209.18 toks/s, output: 65.38 toks/s]\n"
          ]
        },
        {
          "name": "stdout",
          "output_type": "stream",
          "text": [
            "iter 33 완료 : 6.61524772644043초\n",
            "\n",
            "[샘플 35/100] 진행 중...\n",
            "공사종류 대분류 '건축', 중분류 '건축물' 공사 중 공종 대분류 '건축', 중분류 '철근콘크리트공사' 작업에서 사고객체 '건설공구'(중분류: '공구류')와 관련된 사고가 발생했습니다. 작업 프로세스는 '형틀 및 목공'이며, 사고 원인은 '거푸집 마감작업을 위한 각목 절단 후 일어나던 중, 작업자의 불안정한 행동으로 고속절단기(안전장치있음) 원형톱날에 엄지손가락이 접촉'입니다. 재발 방지 대책 및 향후 조치 계획은 무엇인가요?\n"
          ]
        },
        {
          "name": "stderr",
          "output_type": "stream",
          "text": [
            "Processed prompts: 100%|██████████| 1/1 [00:07<00:00,  7.59s/it, est. speed input: 164.34 toks/s, output: 67.47 toks/s]\n"
          ]
        },
        {
          "name": "stdout",
          "output_type": "stream",
          "text": [
            "iter 34 완료 : 7.6120219230651855초\n",
            "\n",
            "[샘플 36/100] 진행 중...\n",
            "공사종류 대분류 '건축', 중분류 '건축물' 공사 중 공종 대분류 '건축', 중분류 '철골공사' 작업에서 사고객체 '건설기계'(중분류: '고소작업차(고소작업대 등)')와 관련된 사고가 발생했습니다. 작업 프로세스는 '설치작업'이며, 사고 원인은 '작업자가 고소작업대를 이용하여 빔 설치를 하다가 작업대를 벗어나 볼트 체결 중 추락함(개인보호구는 착용였음)'입니다. 재발 방지 대책 및 향후 조치 계획은 무엇인가요?\n"
          ]
        },
        {
          "name": "stderr",
          "output_type": "stream",
          "text": [
            "Processed prompts: 100%|██████████| 1/1 [00:07<00:00,  7.53s/it, est. speed input: 162.13 toks/s, output: 68.04 toks/s]\n"
          ]
        },
        {
          "name": "stdout",
          "output_type": "stream",
          "text": [
            "iter 35 완료 : 7.54888391494751초\n",
            "\n",
            "[샘플 37/100] 진행 중...\n",
            "공사종류 대분류 '토목', 중분류 '상하수도' 공사 중 공종 대분류 '토목', 중분류 '관공사' 작업에서 사고객체 '건설자재'(중분류: '자재')와 관련된 사고가 발생했습니다. 작업 프로세스는 '운반작업'이며, 사고 원인은 '관로 운반 작업 완료후  집에서 휴식하던중 갈비뼈 통증 발생'입니다. 재발 방지 대책 및 향후 조치 계획은 무엇인가요?\n"
          ]
        },
        {
          "name": "stderr",
          "output_type": "stream",
          "text": [
            "Processed prompts: 100%|██████████| 1/1 [00:07<00:00,  7.65s/it, est. speed input: 135.12 toks/s, output: 66.97 toks/s]\n"
          ]
        },
        {
          "name": "stdout",
          "output_type": "stream",
          "text": [
            "iter 36 완료 : 7.6686601638793945초\n",
            "\n",
            "[샘플 38/100] 진행 중...\n",
            "공사종류 대분류 '토목', 중분류 '하천' 공사 중 공종 대분류 '토목', 중분류 '하천공사' 작업에서 사고객체 '기타'(중분류: '기타')와 관련된 사고가 발생했습니다. 작업 프로세스는 '기타'이며, 사고 원인은 '작업중 개이 부주의에 따른 미끄러짐'입니다. 재발 방지 대책 및 향후 조치 계획은 무엇인가요?\n"
          ]
        },
        {
          "name": "stderr",
          "output_type": "stream",
          "text": [
            "Processed prompts: 100%|██████████| 1/1 [00:04<00:00,  4.80s/it, est. speed input: 196.85 toks/s, output: 30.41 toks/s]\n"
          ]
        },
        {
          "name": "stdout",
          "output_type": "stream",
          "text": [
            "iter 37 완료 : 4.823634386062622초\n",
            "\n",
            "[샘플 39/100] 진행 중...\n",
            "공사종류 대분류 '건축', 중분류 '건축물' 공사 중 공종 대분류 '건축', 중분류 '철근콘크리트공사' 작업에서 사고객체 '건설자재'(중분류: '철근')와 관련된 사고가 발생했습니다. 작업 프로세스는 '설치작업'이며, 사고 원인은 '2층바닥 슬라브 철근 조립을 하던 중 조립된 6번코어 벽체 철근이 전도되어 깔림'입니다. 재발 방지 대책 및 향후 조치 계획은 무엇인가요?\n"
          ]
        },
        {
          "name": "stderr",
          "output_type": "stream",
          "text": [
            "Processed prompts: 100%|██████████| 1/1 [00:05<00:00,  5.18s/it, est. speed input: 230.53 toks/s, output: 64.73 toks/s]\n"
          ]
        },
        {
          "name": "stdout",
          "output_type": "stream",
          "text": [
            "iter 38 완료 : 5.19815993309021초\n",
            "\n",
            "[샘플 40/100] 진행 중...\n",
            "공사종류 대분류 '건축', 중분류 '건축물' 공사 중 공종 대분류 '건축', 중분류 '철근콘크리트공사' 작업에서 사고객체 '질병'(중분류: '질병')와 관련된 사고가 발생했습니다. 작업 프로세스는 '설치작업'이며, 사고 원인은 '올바르지 않은 자세로 장시간 작업을 하여 허리통증'입니다. 재발 방지 대책 및 향후 조치 계획은 무엇인가요?\n"
          ]
        },
        {
          "name": "stderr",
          "output_type": "stream",
          "text": [
            "Processed prompts: 100%|██████████| 1/1 [00:07<00:00,  7.60s/it, est. speed input: 150.37 toks/s, output: 67.42 toks/s]\n"
          ]
        },
        {
          "name": "stdout",
          "output_type": "stream",
          "text": [
            "iter 39 완료 : 7.620738744735718초\n",
            "\n",
            "[샘플 41/100] 진행 중...\n",
            "공사종류 대분류 '토목', 중분류 '도로' 공사 중 공종 대분류 '토목', 중분류 '도로 및 포장공사' 작업에서 사고객체 '기타'(중분류: '차량')와 관련된 사고가 발생했습니다. 작업 프로세스는 '이동'이며, 사고 원인은 '재해자는 시공사의 직영인부로서 사건 당일 화물차량을 이용하여 인근 마트에서 음료수 등을 구입한 후 사고 현장인 **터널  전기판넬 옆 우측 공터로 진입후 정차를 한후 마트에서 사갖고온 음료수를 인근에서 일하고 있던 동료들에게 배급하고 동 화물차로 돌아와 그곳을 벗어나고자 후진을 계속하였으나 운전조작실수로  공터 옆 절개지로 동 화물차와 함께 굴러서 재해를 입음'입니다. 재발 방지 대책 및 향후 조치 계획은 무엇인가요?\n"
          ]
        },
        {
          "name": "stderr",
          "output_type": "stream",
          "text": [
            "Processed prompts: 100%|██████████| 1/1 [00:07<00:00,  7.51s/it, est. speed input: 176.95 toks/s, output: 68.17 toks/s]\n"
          ]
        },
        {
          "name": "stdout",
          "output_type": "stream",
          "text": [
            "iter 40 완료 : 7.534131288528442초\n",
            "\n",
            "[샘플 42/100] 진행 중...\n",
            "공사종류 대분류 '토목', 중분류 '터널' 공사 중 공종 대분류 '토목', 중분류 '터널공사' 작업에서 사고객체 '건설기계'(중분류: '콘크리트펌프')와 관련된 사고가 발생했습니다. 작업 프로세스는 '정리작업'이며, 사고 원인은 '숏크리트 타설완료후 배관청소위해 배관 점검중 잔여 골재가 남아 있는것을 미쳐 인지하지 못하고 분출구 하부에서 작업중배용물을 얼굴에 맞음'입니다. 재발 방지 대책 및 향후 조치 계획은 무엇인가요?\n"
          ]
        },
        {
          "name": "stderr",
          "output_type": "stream",
          "text": [
            "Processed prompts: 100%|██████████| 1/1 [00:07<00:00,  7.63s/it, est. speed input: 178.20 toks/s, output: 65.91 toks/s]\n"
          ]
        },
        {
          "name": "stdout",
          "output_type": "stream",
          "text": [
            "iter 41 완료 : 7.658198356628418초\n",
            "\n",
            "[샘플 43/100] 진행 중...\n",
            "공사종류 대분류 '건축', 중분류 '건축물' 공사 중 공종 대분류 '건축', 중분류 '철근콘크리트공사' 작업에서 사고객체 '건설기계'(중분류: '타워크레인')와 관련된 사고가 발생했습니다. 작업 프로세스는 '설치작업'이며, 사고 원인은 '타워크레인 작업자4명을 관리하는 관리자로 작업자4명은 21층에서 작업중, 사고자는 20층에서 사고를 당한 것으로 추정. 사고자가 20층에서 어떤 경위로 사고를 당했는지는 현재 인천지방경찰청, 산업안전보건공단, 고용노동부에서 조사중'입니다. 재발 방지 대책 및 향후 조치 계획은 무엇인가요?\n"
          ]
        },
        {
          "name": "stderr",
          "output_type": "stream",
          "text": [
            "Processed prompts: 100%|██████████| 1/1 [00:07<00:00,  7.45s/it, est. speed input: 192.40 toks/s, output: 43.37 toks/s]\n"
          ]
        },
        {
          "name": "stdout",
          "output_type": "stream",
          "text": [
            "iter 42 완료 : 7.470413684844971초\n",
            "\n",
            "[샘플 44/100] 진행 중...\n",
            "공사종류 대분류 '건축', 중분류 '건축물' 공사 중 공종 대분류 '건축', 중분류 '가설공사' 작업에서 사고객체 '시설물'(중분류: '건물')와 관련된 사고가 발생했습니다. 작업 프로세스는 '이동'이며, 사고 원인은 '지정된 이동통로가 아닌 곳으로 무리하게 진입'입니다. 재발 방지 대책 및 향후 조치 계획은 무엇인가요?\n"
          ]
        },
        {
          "name": "stderr",
          "output_type": "stream",
          "text": [
            "Processed prompts: 100%|██████████| 1/1 [00:05<00:00,  5.98s/it, est. speed input: 184.06 toks/s, output: 65.59 toks/s]\n"
          ]
        },
        {
          "name": "stdout",
          "output_type": "stream",
          "text": [
            "iter 43 완료 : 5.999661445617676초\n",
            "\n",
            "[샘플 45/100] 진행 중...\n",
            "공사종류 대분류 '건축', 중분류 '건축물' 공사 중 공종 대분류 '건축', 중분류 '철근콘크리트공사' 작업에서 사고객체 '가시설'(중분류: '거푸집')와 관련된 사고가 발생했습니다. 작업 프로세스는 '형틀 및 목공'이며, 사고 원인은 '2층 바닥 형틀 작업 후 이동 중 작업자의 부주의로 계단챌판 거푸집에 발이 걸린 사고임.'입니다. 재발 방지 대책 및 향후 조치 계획은 무엇인가요?\n"
          ]
        },
        {
          "name": "stderr",
          "output_type": "stream",
          "text": [
            "Processed prompts: 100%|██████████| 1/1 [00:07<00:00,  7.57s/it, est. speed input: 159.79 toks/s, output: 67.61 toks/s]\n"
          ]
        },
        {
          "name": "stdout",
          "output_type": "stream",
          "text": [
            "iter 44 완료 : 7.594902276992798초\n",
            "\n",
            "[샘플 46/100] 진행 중...\n",
            "공사종류 대분류 '토목', 중분류 '상하수도' 공사 중 공종 대분류 '토목', 중분류 '관공사' 작업에서 사고객체 '건설기계'(중분류: '굴착기')와 관련된 사고가 발생했습니다. 작업 프로세스는 '준비작업'이며, 사고 원인은 '원대지하차도 인근 노상에서 자재 상차 중 장비 유도자가 배치 되지 않아 굴착기 차륜에 작업자 발등이 밟힌 사고 임.'입니다. 재발 방지 대책 및 향후 조치 계획은 무엇인가요?\n"
          ]
        },
        {
          "name": "stderr",
          "output_type": "stream",
          "text": [
            "Processed prompts: 100%|██████████| 1/1 [00:05<00:00,  5.32s/it, est. speed input: 222.59 toks/s, output: 67.74 toks/s]\n"
          ]
        },
        {
          "name": "stdout",
          "output_type": "stream",
          "text": [
            "iter 45 완료 : 5.336648464202881초\n",
            "\n",
            "[샘플 47/100] 진행 중...\n",
            "공사종류 대분류 '토목', 중분류 '상하수도' 공사 중 공종 대분류 '토목', 중분류 '관공사' 작업에서 사고객체 '건설자재'(중분류: '자재')와 관련된 사고가 발생했습니다. 작업 프로세스는 '운반작업'이며, 사고 원인은 '트럭에 올라가 자재를 백호에 벤딩하는 과정에서 트럭에 실려있던 관이 흔들려 작업자가 트럭에서 떨어지고 관 1개가 같이 떨어져 작업자를 가격.환경부 상수도공사 표준시방서 3.2 상수도관의 취급,운반에 규정에 관을 상차할때 반드시 고임목이 설치되어 있어야 하지만 한국주철관공업에서 현장에 실려온 자재는 고임목 없이 지그재그로 적재함 보다 높게 쌓아져있었으며, 시공자는 고임목이 확실히 설치되어있는지 확인 후 작업자를 올려 하차 작업을 진행했어야 했지만 그러지 아니함.'입니다. 재발 방지 대책 및 향후 조치 계획은 무엇인가요?\n"
          ]
        },
        {
          "name": "stderr",
          "output_type": "stream",
          "text": [
            "Processed prompts: 100%|██████████| 1/1 [00:06<00:00,  6.12s/it, est. speed input: 212.88 toks/s, output: 65.02 toks/s]\n"
          ]
        },
        {
          "name": "stdout",
          "output_type": "stream",
          "text": [
            "iter 46 완료 : 6.142858505249023초\n",
            "\n",
            "[샘플 48/100] 진행 중...\n",
            "공사종류 대분류 '토목', 중분류 '기타' 공사 중 공종 대분류 '토목', 중분류 '토공사' 작업에서 사고객체 '건설자재'(중분류: '자재')와 관련된 사고가 발생했습니다. 작업 프로세스는 '이동'이며, 사고 원인은 '지형지물에 익숙하지 않았고 재해자 과실에 의한 사고임'입니다. 재발 방지 대책 및 향후 조치 계획은 무엇인가요?\n"
          ]
        },
        {
          "name": "stderr",
          "output_type": "stream",
          "text": [
            "Processed prompts: 100%|██████████| 1/1 [00:10<00:00, 10.09s/it, est. speed input: 102.70 toks/s, output: 50.75 toks/s]\n"
          ]
        },
        {
          "name": "stdout",
          "output_type": "stream",
          "text": [
            "iter 47 완료 : 10.109632730484009초\n",
            "\n",
            "[샘플 49/100] 진행 중...\n",
            "공사종류 대분류 '건축', 중분류 '건축물' 공사 중 공종 대분류 '건축', 중분류 '타일 및 돌공사' 작업에서 사고객체 '가시설'(중분류: '작업발판')와 관련된 사고가 발생했습니다. 작업 프로세스는 '정비작업'이며, 사고 원인은 '발판에서 내려올때 미끄러져 넘어짐'입니다. 재발 방지 대책 및 향후 조치 계획은 무엇인가요?\n"
          ]
        },
        {
          "name": "stderr",
          "output_type": "stream",
          "text": [
            "Processed prompts: 100%|██████████| 1/1 [00:04<00:00,  4.54s/it, est. speed input: 239.22 toks/s, output: 63.94 toks/s]\n"
          ]
        },
        {
          "name": "stdout",
          "output_type": "stream",
          "text": [
            "iter 48 완료 : 4.559117317199707초\n",
            "\n",
            "[샘플 50/100] 진행 중...\n",
            "공사종류 대분류 '토목', 중분류 '터널' 공사 중 공종 대분류 '토목', 중분류 '터널공사' 작업에서 사고객체 '건설기계'(중분류: '고소작업차(고소작업대 등)')와 관련된 사고가 발생했습니다. 작업 프로세스는 '설치작업'이며, 사고 원인은 '재해자가 개인안전보호구를 지급받고 고소 작업차의 안전방호조치가 제대로 조치되어있음에도 불구하고 고소작업차 작업대 문을 열고 안전걸이를 미체결하는 등 무리하게 작업을 시도'입니다. 재발 방지 대책 및 향후 조치 계획은 무엇인가요?\n"
          ]
        },
        {
          "name": "stderr",
          "output_type": "stream",
          "text": [
            "Processed prompts: 100%|██████████| 1/1 [00:07<00:00,  7.57s/it, est. speed input: 162.49 toks/s, output: 67.64 toks/s]\n"
          ]
        },
        {
          "name": "stdout",
          "output_type": "stream",
          "text": [
            "iter 49 완료 : 7.591672658920288초\n",
            "\n",
            "[샘플 51/100] 진행 중...\n",
            "공사종류 대분류 '토목', 중분류 '철도' 공사 중 공종 대분류 '토목', 중분류 '가설공사' 작업에서 사고객체 '기타'(중분류: '지하매설물')와 관련된 사고가 발생했습니다. 작업 프로세스는 '설치작업'이며, 사고 원인은 '전력관 활선 여부 미파악으로 인한 스파크로, 이후 작업 시공방법 변경하여 사고 재발생 방지 예정'입니다. 재발 방지 대책 및 향후 조치 계획은 무엇인가요?\n"
          ]
        },
        {
          "name": "stderr",
          "output_type": "stream",
          "text": [
            "Processed prompts: 100%|██████████| 1/1 [00:07<00:00,  7.44s/it, est. speed input: 148.26 toks/s, output: 68.82 toks/s]\n"
          ]
        },
        {
          "name": "stdout",
          "output_type": "stream",
          "text": [
            "iter 50 완료 : 7.461542367935181초\n",
            "\n",
            "[샘플 52/100] 진행 중...\n",
            "공사종류 대분류 '건축', 중분류 '건축물' 공사 중 공종 대분류 '건축', 중분류 '철근콘크리트공사' 작업에서 사고객체 '가시설'(중분류: '작업발판')와 관련된 사고가 발생했습니다. 작업 프로세스는 '설치작업'이며, 사고 원인은 '안전화 바닥에 묻은 박리제로 인해 발판에서 미끄러짐'입니다. 재발 방지 대책 및 향후 조치 계획은 무엇인가요?\n"
          ]
        },
        {
          "name": "stderr",
          "output_type": "stream",
          "text": [
            "Processed prompts: 100%|██████████| 1/1 [00:07<00:00,  7.65s/it, est. speed input: 151.19 toks/s, output: 66.91 toks/s]\n"
          ]
        },
        {
          "name": "stdout",
          "output_type": "stream",
          "text": [
            "iter 51 완료 : 7.674208641052246초\n",
            "\n",
            "[샘플 53/100] 진행 중...\n",
            "공사종류 대분류 '건축', 중분류 '건축물' 공사 중 공종 대분류 '기계설비', 중분류 '기계설비공사' 작업에서 사고객체 '건설기계'(중분류: '고소작업차(고소작업대 등)')와 관련된 사고가 발생했습니다. 작업 프로세스는 '설치작업'이며, 사고 원인은 '작업자 단순과실'입니다. 재발 방지 대책 및 향후 조치 계획은 무엇인가요?\n"
          ]
        },
        {
          "name": "stderr",
          "output_type": "stream",
          "text": [
            "Processed prompts: 100%|██████████| 1/1 [00:09<00:00,  9.23s/it, est. speed input: 140.25 toks/s, output: 47.98 toks/s]\n"
          ]
        },
        {
          "name": "stdout",
          "output_type": "stream",
          "text": [
            "iter 52 완료 : 9.255699396133423초\n",
            "\n",
            "[샘플 54/100] 진행 중...\n",
            "공사종류 대분류 '토목', 중분류 '터널' 공사 중 공종 대분류 '토목', 중분류 '터널공사' 작업에서 사고객체 '토사 및 암반'(중분류: '터널 막장면')와 관련된 사고가 발생했습니다. 작업 프로세스는 '확인 및 점검작업'이며, 사고 원인은 '부석정리 후 편리에 의해 이완된 블록 발생'입니다. 재발 방지 대책 및 향후 조치 계획은 무엇인가요?\n"
          ]
        },
        {
          "name": "stderr",
          "output_type": "stream",
          "text": [
            "Processed prompts: 100%|██████████| 1/1 [00:07<00:00,  7.65s/it, est. speed input: 156.86 toks/s, output: 66.93 toks/s]\n"
          ]
        },
        {
          "name": "stdout",
          "output_type": "stream",
          "text": [
            "iter 53 완료 : 7.673213958740234초\n",
            "\n",
            "[샘플 55/100] 진행 중...\n",
            "공사종류 대분류 '건축', 중분류 '건축물' 공사 중 공종 대분류 '건축', 중분류 '철근콘크리트공사' 작업에서 사고객체 '건설자재'(중분류: '창호')와 관련된 사고가 발생했습니다. 작업 프로세스는 '설치작업'이며, 사고 원인은 '협소한 작업공간내 유로폼이 손에서 미끌려 이탈하여 발등 골절'입니다. 재발 방지 대책 및 향후 조치 계획은 무엇인가요?\n"
          ]
        },
        {
          "name": "stderr",
          "output_type": "stream",
          "text": [
            "Processed prompts: 100%|██████████| 1/1 [00:07<00:00,  7.41s/it, est. speed input: 162.95 toks/s, output: 69.12 toks/s]\n"
          ]
        },
        {
          "name": "stdout",
          "output_type": "stream",
          "text": [
            "iter 54 완료 : 7.428895711898804초\n",
            "\n",
            "[샘플 56/100] 진행 중...\n",
            "공사종류 대분류 '토목', 중분류 '도로' 공사 중 공종 대분류 '토목', 중분류 '가설공사' 작업에서 사고객체 '건설기계'(중분류: '기중기(이동식크레인 등)')와 관련된 사고가 발생했습니다. 작업 프로세스는 '인양작업'이며, 사고 원인은 '카고크레인 표지판자재 적재로 인한 상부공간 협소 및 작업자 이동통로 확보  부적정(원형지주 상부로 이동)'입니다. 재발 방지 대책 및 향후 조치 계획은 무엇인가요?\n"
          ]
        },
        {
          "name": "stderr",
          "output_type": "stream",
          "text": [
            "Processed prompts: 100%|██████████| 1/1 [00:07<00:00,  7.65s/it, est. speed input: 163.09 toks/s, output: 66.91 toks/s]\n"
          ]
        },
        {
          "name": "stdout",
          "output_type": "stream",
          "text": [
            "iter 55 완료 : 7.674657344818115초\n",
            "\n",
            "[샘플 57/100] 진행 중...\n",
            "공사종류 대분류 '토목', 중분류 '상하수도' 공사 중 공종 대분류 '토목', 중분류 '관공사' 작업에서 사고객체 '기타'(중분류: '건설폐기물')와 관련된 사고가 발생했습니다. 작업 프로세스는 '매설작업'이며, 사고 원인은 '관로 터파기 후 포장 절단구간의 균열 확인 점검이 미흡하였으며, 현장 인부 및 장비등 이동에 따른 아스팔트 포장 조각이 가시설 내 현장 작업자에게 낙하하여 부상'입니다. 재발 방지 대책 및 향후 조치 계획은 무엇인가요?\n"
          ]
        },
        {
          "name": "stderr",
          "output_type": "stream",
          "text": [
            "Processed prompts: 100%|██████████| 1/1 [00:10<00:00, 10.25s/it, est. speed input: 122.70 toks/s, output: 49.98 toks/s]\n"
          ]
        },
        {
          "name": "stdout",
          "output_type": "stream",
          "text": [
            "iter 56 완료 : 10.267044067382812초\n",
            "\n",
            "[샘플 58/100] 진행 중...\n",
            "공사종류 대분류 '토목', 중분류 '기타' 공사 중 공종 대분류 '토목', 중분류 '관공사' 작업에서 사고객체 '건설자재'(중분류: '자재')와 관련된 사고가 발생했습니다. 작업 프로세스는 '해체작업'이며, 사고 원인은 '흄관 보호공 거푸집 해체중 흄관으로 올라가다 미끄러져 무릎이 흄관과 부딪힘'입니다. 재발 방지 대책 및 향후 조치 계획은 무엇인가요?\n"
          ]
        },
        {
          "name": "stderr",
          "output_type": "stream",
          "text": [
            "Processed prompts: 100%|██████████| 1/1 [00:07<00:00,  7.61s/it, est. speed input: 147.12 toks/s, output: 67.32 toks/s]\n"
          ]
        },
        {
          "name": "stdout",
          "output_type": "stream",
          "text": [
            "iter 57 완료 : 7.627300977706909초\n",
            "\n",
            "[샘플 59/100] 진행 중...\n",
            "공사종류 대분류 '건축', 중분류 '건축물' 공사 중 공종 대분류 '건축', 중분류 '철근콘크리트공사' 작업에서 사고객체 '건설자재'(중분류: '철근')와 관련된 사고가 발생했습니다. 작업 프로세스는 '이동'이며, 사고 원인은 '철근 상부 이동시 주변상황을 확인하지않아 철근에 걸려 넘어짐'입니다. 재발 방지 대책 및 향후 조치 계획은 무엇인가요?\n"
          ]
        },
        {
          "name": "stderr",
          "output_type": "stream",
          "text": [
            "Processed prompts: 100%|██████████| 1/1 [00:07<00:00,  7.33s/it, est. speed input: 151.57 toks/s, output: 68.76 toks/s]\n"
          ]
        },
        {
          "name": "stdout",
          "output_type": "stream",
          "text": [
            "iter 58 완료 : 7.351768732070923초\n",
            "\n",
            "[샘플 60/100] 진행 중...\n",
            "공사종류 대분류 '건축', 중분류 '건축물' 공사 중 공종 대분류 '건축', 중분류 '철근콘크리트공사' 작업에서 사고객체 '건설자재'(중분류: '데크플레이트')와 관련된 사고가 발생했습니다. 작업 프로세스는 '조립작업'이며, 사고 원인은 '지하층 슬래브와 슬래브 사이 철근 조립중 덱플레이트 상부 이동하면서 발을 헛 디뎌 접질림'입니다. 재발 방지 대책 및 향후 조치 계획은 무엇인가요?\n"
          ]
        },
        {
          "name": "stderr",
          "output_type": "stream",
          "text": [
            "Processed prompts: 100%|██████████| 1/1 [00:07<00:00,  7.66s/it, est. speed input: 156.71 toks/s, output: 66.81 toks/s]\n"
          ]
        },
        {
          "name": "stdout",
          "output_type": "stream",
          "text": [
            "iter 59 완료 : 7.684918642044067초\n",
            "\n",
            "[샘플 61/100] 진행 중...\n",
            "공사종류 대분류 '건축', 중분류 '건축물' 공사 중 공종 대분류 '건축', 중분류 '타일 및 돌공사' 작업에서 사고객체 '가시설'(중분류: '비계')와 관련된 사고가 발생했습니다. 작업 프로세스는 '설치작업'이며, 사고 원인은 '가슴부위를 부딪혀 다쳤다고 하며 목격자 없음'입니다. 재발 방지 대책 및 향후 조치 계획은 무엇인가요?\n"
          ]
        },
        {
          "name": "stderr",
          "output_type": "stream",
          "text": [
            "Processed prompts: 100%|██████████| 1/1 [00:07<00:00,  7.62s/it, est. speed input: 142.68 toks/s, output: 67.21 toks/s]\n"
          ]
        },
        {
          "name": "stdout",
          "output_type": "stream",
          "text": [
            "iter 60 완료 : 7.641541242599487초\n",
            "\n",
            "[샘플 62/100] 진행 중...\n",
            "공사종류 대분류 '건축', 중분류 '건축물' 공사 중 공종 대분류 '건축', 중분류 '철근콘크리트공사' 작업에서 사고객체 '기타'(중분류: '기타')와 관련된 사고가 발생했습니다. 작업 프로세스는 '정리작업'이며, 사고 원인은 '강설에 따른 오르막길 눈길로 인한 미끄러짐'입니다. 재발 방지 대책 및 향후 조치 계획은 무엇인가요?\n"
          ]
        },
        {
          "name": "stderr",
          "output_type": "stream",
          "text": [
            "Processed prompts: 100%|██████████| 1/1 [00:07<00:00,  7.13s/it, est. speed input: 141.97 toks/s, output: 42.51 toks/s]\n"
          ]
        },
        {
          "name": "stdout",
          "output_type": "stream",
          "text": [
            "iter 61 완료 : 7.15114688873291초\n",
            "\n",
            "[샘플 63/100] 진행 중...\n",
            "공사종류 대분류 '건축', 중분류 '건축물' 공사 중 공종 대분류 '건축', 중분류 '철근콘크리트공사' 작업에서 사고객체 '가시설'(중분류: '비계')와 관련된 사고가 발생했습니다. 작업 프로세스는 '설치작업'이며, 사고 원인은 '가(언제) : 2020년 10월 30일(금요일) 11시 00분경나(어디서) : 406동 B2F다(누가) : 중현테크 소속 형틀공 ***(62년생/대한민국)씨가라(무엇을) : 거푸집 상부에 있던 사각파이프를마(어떻게) : 어깨로 짊어지던 중바(왜) : 휘어진 사각파이프가 비스듬하게 있던 옆에 사각 파이프를 치면서 굴러 오른손가락에 떨어짐'입니다. 재발 방지 대책 및 향후 조치 계획은 무엇인가요?\n"
          ]
        },
        {
          "name": "stderr",
          "output_type": "stream",
          "text": [
            "Processed prompts: 100%|██████████| 1/1 [00:04<00:00,  4.66s/it, est. speed input: 360.92 toks/s, output: 64.24 toks/s]\n"
          ]
        },
        {
          "name": "stdout",
          "output_type": "stream",
          "text": [
            "iter 62 완료 : 4.67879843711853초\n",
            "\n",
            "[샘플 64/100] 진행 중...\n",
            "공사종류 대분류 '토목', 중분류 '상하수도' 공사 중 공종 대분류 '기타', 중분류 '기타' 작업에서 사고객체 '기타'(중분류: '기타')와 관련된 사고가 발생했습니다. 작업 프로세스는 '기타'이며, 사고 원인은 '근로자가 근로자의 옷을 잡고있던 재해자의 팔을 뿌리치면서 손가락이 다침.'입니다. 재발 방지 대책 및 향후 조치 계획은 무엇인가요?\n"
          ]
        },
        {
          "name": "stderr",
          "output_type": "stream",
          "text": [
            "Processed prompts: 100%|██████████| 1/1 [00:07<00:00,  7.40s/it, est. speed input: 152.30 toks/s, output: 69.19 toks/s]\n"
          ]
        },
        {
          "name": "stdout",
          "output_type": "stream",
          "text": [
            "iter 63 완료 : 7.420772314071655초\n",
            "\n",
            "[샘플 65/100] 진행 중...\n",
            "공사종류 대분류 '토목', 중분류 '기타' 공사 중 공종 대분류 '토목', 중분류 '해체 및 철거공사' 작업에서 사고객체 '기타'(중분류: '건설폐기물')와 관련된 사고가 발생했습니다. 작업 프로세스는 '해체작업'이며, 사고 원인은 '지붕트러스목재의부식현상'입니다. 재발 방지 대책 및 향후 조치 계획은 무엇인가요?\n"
          ]
        },
        {
          "name": "stderr",
          "output_type": "stream",
          "text": [
            "Processed prompts: 100%|██████████| 1/1 [00:07<00:00,  7.63s/it, est. speed input: 138.02 toks/s, output: 67.11 toks/s]\n"
          ]
        },
        {
          "name": "stdout",
          "output_type": "stream",
          "text": [
            "iter 64 완료 : 7.651751518249512초\n",
            "\n",
            "[샘플 66/100] 진행 중...\n",
            "공사종류 대분류 '건축', 중분류 '건축물' 공사 중 공종 대분류 '건축', 중분류 '철근콘크리트공사' 작업에서 사고객체 '건설자재'(중분류: '자재')와 관련된 사고가 발생했습니다. 작업 프로세스는 '설치작업'이며, 사고 원인은 '단관파이프를 이용하여 철근을 눌러놓았고 고정된 결속선을 해체할 경우 단관파이프가 반발력에 의해 튀어오를 수 있다는 생각을 하지 못함.'입니다. 재발 방지 대책 및 향후 조치 계획은 무엇인가요?\n"
          ]
        },
        {
          "name": "stderr",
          "output_type": "stream",
          "text": [
            "Processed prompts: 100%|██████████| 1/1 [00:05<00:00,  5.58s/it, est. speed input: 224.95 toks/s, output: 65.37 toks/s]\n"
          ]
        },
        {
          "name": "stdout",
          "output_type": "stream",
          "text": [
            "iter 65 완료 : 5.605395317077637초\n",
            "\n",
            "[샘플 67/100] 진행 중...\n",
            "공사종류 대분류 '건축', 중분류 '건축물' 공사 중 공종 대분류 '건축', 중분류 '철근콘크리트공사' 작업에서 사고객체 '건설자재'(중분류: '자재')와 관련된 사고가 발생했습니다. 작업 프로세스는 '형틀 및 목공'이며, 사고 원인은 '자재 이동중 균형을 잃고 넘어짐'입니다. 재발 방지 대책 및 향후 조치 계획은 무엇인가요?\n"
          ]
        },
        {
          "name": "stderr",
          "output_type": "stream",
          "text": [
            "Processed prompts: 100%|██████████| 1/1 [00:10<00:00, 10.25s/it, est. speed input: 115.93 toks/s, output: 49.96 toks/s]\n"
          ]
        },
        {
          "name": "stdout",
          "output_type": "stream",
          "text": [
            "iter 66 완료 : 10.26976227760315초\n",
            "\n",
            "[샘플 68/100] 진행 중...\n",
            "공사종류 대분류 '건축', 중분류 '건축물' 공사 중 공종 대분류 '건축', 중분류 '가설공사' 작업에서 사고객체 '기타'(중분류: '기타')와 관련된 사고가 발생했습니다. 작업 프로세스는 '청소작업'이며, 사고 원인은 '휴식 중 복통, 헛구역질, 식은땀 등 증상을 호소하여 휴식을 취하게 지시하였으나, 병원 이송 후 사망(병원측 사망원인 사인불명)'입니다. 재발 방지 대책 및 향후 조치 계획은 무엇인가요?\n"
          ]
        },
        {
          "name": "stderr",
          "output_type": "stream",
          "text": [
            "Processed prompts: 100%|██████████| 1/1 [00:06<00:00,  6.67s/it, est. speed input: 158.98 toks/s, output: 68.33 toks/s]\n"
          ]
        },
        {
          "name": "stdout",
          "output_type": "stream",
          "text": [
            "iter 67 완료 : 6.697259187698364초\n",
            "\n",
            "[샘플 69/100] 진행 중...\n",
            "공사종류 대분류 '토목', 중분류 '상하수도' 공사 중 공종 대분류 '토목', 중분류 '관공사' 작업에서 사고객체 '건설자재'(중분류: '자재')와 관련된 사고가 발생했습니다. 작업 프로세스는 '준비작업'이며, 사고 원인은 '상수도관 옮기는 작업 중 자재에 부딪힘'입니다. 재발 방지 대책 및 향후 조치 계획은 무엇인가요?\n"
          ]
        },
        {
          "name": "stderr",
          "output_type": "stream",
          "text": [
            "Processed prompts: 100%|██████████| 1/1 [00:07<00:00,  7.63s/it, est. speed input: 156.20 toks/s, output: 67.15 toks/s]\n"
          ]
        },
        {
          "name": "stdout",
          "output_type": "stream",
          "text": [
            "iter 68 완료 : 7.647184133529663초\n",
            "\n",
            "[샘플 70/100] 진행 중...\n",
            "공사종류 대분류 '토목', 중분류 '상하수도' 공사 중 공종 대분류 '토목', 중분류 '토공사' 작업에서 사고객체 '건설기계'(중분류: '굴착기')와 관련된 사고가 발생했습니다. 작업 프로세스는 '부설 및 다짐작업'이며, 사고 원인은 '장비 유도수의 부재에 따른 일반인 접근 사실을 알지 못함'입니다. 재발 방지 대책 및 향후 조치 계획은 무엇인가요?\n"
          ]
        },
        {
          "name": "stderr",
          "output_type": "stream",
          "text": [
            "Processed prompts: 100%|██████████| 1/1 [00:05<00:00,  5.53s/it, est. speed input: 204.54 toks/s, output: 66.19 toks/s]\n"
          ]
        },
        {
          "name": "stdout",
          "output_type": "stream",
          "text": [
            "iter 69 완료 : 5.550615549087524초\n",
            "\n",
            "[샘플 71/100] 진행 중...\n",
            "공사종류 대분류 '토목', 중분류 '교량' 공사 중 공종 대분류 '토목', 중분류 '교량공사' 작업에서 사고객체 '가시설'(중분류: '안전시설물')와 관련된 사고가 발생했습니다. 작업 프로세스는 '해체작업'이며, 사고 원인은 '삼자현교 교각 강재거푸집 해체중 무게중심을 잃고 약10미터 높이에서 추락'입니다. 재발 방지 대책 및 향후 조치 계획은 무엇인가요?\n"
          ]
        },
        {
          "name": "stderr",
          "output_type": "stream",
          "text": [
            "Processed prompts: 100%|██████████| 1/1 [00:10<00:00, 10.14s/it, est. speed input: 112.23 toks/s, output: 50.49 toks/s]\n"
          ]
        },
        {
          "name": "stdout",
          "output_type": "stream",
          "text": [
            "iter 70 완료 : 10.161653518676758초\n",
            "\n",
            "[샘플 72/100] 진행 중...\n",
            "공사종류 대분류 '토목', 중분류 '하천' 공사 중 공종 대분류 '기타', 중분류 '기타' 작업에서 사고객체 '기타'(중분류: '기타')와 관련된 사고가 발생했습니다. 작업 프로세스는 '기타'이며, 사고 원인은 '일과 후 휴식중 사망사고'입니다. 재발 방지 대책 및 향후 조치 계획은 무엇인가요?\n"
          ]
        },
        {
          "name": "stderr",
          "output_type": "stream",
          "text": [
            "Processed prompts: 100%|██████████| 1/1 [00:07<00:00,  7.39s/it, est. speed input: 112.21 toks/s, output: 69.30 toks/s]\n"
          ]
        },
        {
          "name": "stdout",
          "output_type": "stream",
          "text": [
            "iter 71 완료 : 7.410609245300293초\n",
            "\n",
            "[샘플 73/100] 진행 중...\n",
            "공사종류 대분류 '건축', 중분류 '건축물' 공사 중 공종 대분류 '건축', 중분류 '철근콘크리트공사' 작업에서 사고객체 '부재'(중분류: '슬래브')와 관련된 사고가 발생했습니다. 작업 프로세스는 '상차 및 하역작업'이며, 사고 원인은 '자재 이동중 발을 헛디디며 넘어져 오른쪽 팔목을 부딪힘'입니다. 재발 방지 대책 및 향후 조치 계획은 무엇인가요?\n"
          ]
        },
        {
          "name": "stderr",
          "output_type": "stream",
          "text": [
            "Processed prompts: 100%|██████████| 1/1 [00:04<00:00,  4.77s/it, est. speed input: 234.14 toks/s, output: 66.09 toks/s]\n"
          ]
        },
        {
          "name": "stdout",
          "output_type": "stream",
          "text": [
            "iter 72 완료 : 4.7884416580200195초\n",
            "\n",
            "[샘플 74/100] 진행 중...\n",
            "공사종류 대분류 '토목', 중분류 '도로' 공사 중 공종 대분류 '기타', 중분류 '기타' 작업에서 사고객체 '기타'(중분류: '기타')와 관련된 사고가 발생했습니다. 작업 프로세스는 '청소작업'이며, 사고 원인은 '트럭에 장비 상차 후 적재함에서 내려오던 중 발을 삐끗함'입니다. 재발 방지 대책 및 향후 조치 계획은 무엇인가요?\n"
          ]
        },
        {
          "name": "stderr",
          "output_type": "stream",
          "text": [
            "Processed prompts: 100%|██████████| 1/1 [00:07<00:00,  7.64s/it, est. speed input: 157.95 toks/s, output: 67.06 toks/s]\n"
          ]
        },
        {
          "name": "stdout",
          "output_type": "stream",
          "text": [
            "iter 73 완료 : 7.6574907302856445초\n",
            "\n",
            "[샘플 75/100] 진행 중...\n",
            "공사종류 대분류 '건축', 중분류 '건축물' 공사 중 공종 대분류 '건축', 중분류 '철근콘크리트공사' 작업에서 사고객체 '건설자재'(중분류: '자재')와 관련된 사고가 발생했습니다. 작업 프로세스는 '기타'이며, 사고 원인은 '공사현장 옥상에서 자재 정리 중 쇠파이프에 걸려서 넘어짐'입니다. 재발 방지 대책 및 향후 조치 계획은 무엇인가요?\n"
          ]
        },
        {
          "name": "stderr",
          "output_type": "stream",
          "text": [
            "Processed prompts: 100%|██████████| 1/1 [00:07<00:00,  7.34s/it, est. speed input: 150.63 toks/s, output: 67.14 toks/s]\n"
          ]
        },
        {
          "name": "stdout",
          "output_type": "stream",
          "text": [
            "iter 74 완료 : 7.364349603652954초\n",
            "\n",
            "[샘플 76/100] 진행 중...\n",
            "공사종류 대분류 '건축', 중분류 '건축물' 공사 중 공종 대분류 '건축', 중분류 '철근콘크리트공사' 작업에서 사고객체 '기타'(중분류: '기타')와 관련된 사고가 발생했습니다. 작업 프로세스는 '마감작업'이며, 사고 원인은 '작업자 단순과실'입니다. 재발 방지 대책 및 향후 조치 계획은 무엇인가요?\n"
          ]
        },
        {
          "name": "stderr",
          "output_type": "stream",
          "text": [
            "Processed prompts: 100%|██████████| 1/1 [00:09<00:00,  9.72s/it, est. speed input: 92.26 toks/s, output: 49.98 toks/s]\n"
          ]
        },
        {
          "name": "stdout",
          "output_type": "stream",
          "text": [
            "iter 75 완료 : 9.745046615600586초\n",
            "\n",
            "[샘플 77/100] 진행 중...\n",
            "공사종류 대분류 '건축', 중분류 '건축물' 공사 중 공종 대분류 '건축', 중분류 '철근콘크리트공사' 작업에서 사고객체 '가시설'(중분류: '거푸집')와 관련된 사고가 발생했습니다. 작업 프로세스는 '해체작업'이며, 사고 원인은 '1층 벽체 거푸집 폼 제거 시에 웨지핀이 튀어서 눈 근처에 맞음'입니다. 재발 방지 대책 및 향후 조치 계획은 무엇인가요?\n"
          ]
        },
        {
          "name": "stderr",
          "output_type": "stream",
          "text": [
            "Processed prompts: 100%|██████████| 1/1 [00:07<00:00,  7.44s/it, est. speed input: 154.02 toks/s, output: 68.81 toks/s]\n"
          ]
        },
        {
          "name": "stdout",
          "output_type": "stream",
          "text": [
            "iter 76 완료 : 7.461073160171509초\n",
            "\n",
            "[샘플 78/100] 진행 중...\n",
            "공사종류 대분류 '토목', 중분류 '상하수도' 공사 중 공종 대분류 '토목', 중분류 '관공사' 작업에서 사고객체 '건설자재'(중분류: '자재')와 관련된 사고가 발생했습니다. 작업 프로세스는 '부설 및 다짐작업'이며, 사고 원인은 '장비작업자와 신호수간에 신호가 불량(요청:1cm 인상, 실제 : 1m 이상인상)으로 인해 사건이 발생되고 피해자(작업자)가 부적정한 위치에서 작업중에 발생된 사고 임'입니다. 재발 방지 대책 및 향후 조치 계획은 무엇인가요?\n"
          ]
        },
        {
          "name": "stderr",
          "output_type": "stream",
          "text": [
            "Processed prompts: 100%|██████████| 1/1 [00:06<00:00,  6.22s/it, est. speed input: 222.11 toks/s, output: 67.82 toks/s]\n"
          ]
        },
        {
          "name": "stdout",
          "output_type": "stream",
          "text": [
            "iter 77 완료 : 6.243098497390747초\n",
            "\n",
            "[샘플 79/100] 진행 중...\n",
            "공사종류 대분류 '건축', 중분류 '건축물' 공사 중 공종 대분류 '토목', 중분류 '도로 및 포장공사' 작업에서 사고객체 '건설기계'(중분류: '롤러')와 관련된 사고가 발생했습니다. 작업 프로세스는 '상차 및 하역작업'이며, 사고 원인은 '장비하역장소가 경사지였으며, 또한 경사지 또한 좌우측불균형하여, 장비 무게중심이 한쪽으로 기울어 전도된 것으로 현재까지는 판단됨.'입니다. 재발 방지 대책 및 향후 조치 계획은 무엇인가요?\n"
          ]
        },
        {
          "name": "stderr",
          "output_type": "stream",
          "text": [
            "Processed prompts: 100%|██████████| 1/1 [00:04<00:00,  4.96s/it, est. speed input: 293.98 toks/s, output: 66.94 toks/s]\n"
          ]
        },
        {
          "name": "stdout",
          "output_type": "stream",
          "text": [
            "iter 78 완료 : 4.984484434127808초\n",
            "\n",
            "[샘플 80/100] 진행 중...\n",
            "공사종류 대분류 '토목', 중분류 '옹벽 및 절토사면' 공사 중 공종 대분류 '토목', 중분류 '토공사' 작업에서 사고객체 '토사 및 암반'(중분류: '경사면')와 관련된 사고가 발생했습니다. 작업 프로세스는 '이동'이며, 사고 원인은 '식당으로 작업자 이동중 노선을 줄이기 위해  위험구간으로 이동'입니다. 재발 방지 대책 및 향후 조치 계획은 무엇인가요?\n"
          ]
        },
        {
          "name": "stderr",
          "output_type": "stream",
          "text": [
            "Processed prompts: 100%|██████████| 1/1 [00:07<00:00,  7.62s/it, est. speed input: 156.44 toks/s, output: 67.20 toks/s]\n"
          ]
        },
        {
          "name": "stdout",
          "output_type": "stream",
          "text": [
            "iter 79 완료 : 7.64160418510437초\n",
            "\n",
            "[샘플 81/100] 진행 중...\n",
            "공사종류 대분류 '건축', 중분류 '건축물' 공사 중 공종 대분류 '건축', 중분류 '철근콘크리트공사' 작업에서 사고객체 '가시설'(중분류: '거푸집')와 관련된 사고가 발생했습니다. 작업 프로세스는 '타설작업'이며, 사고 원인은 '계단 이동 중 작업자 전도'입니다. 재발 방지 대책 및 향후 조치 계획은 무엇인가요?\n"
          ]
        },
        {
          "name": "stderr",
          "output_type": "stream",
          "text": [
            "Processed prompts: 100%|██████████| 1/1 [00:10<00:00, 10.56s/it, est. speed input: 105.50 toks/s, output: 48.49 toks/s]\n"
          ]
        },
        {
          "name": "stdout",
          "output_type": "stream",
          "text": [
            "iter 80 완료 : 10.582423686981201초\n",
            "\n",
            "[샘플 82/100] 진행 중...\n",
            "공사종류 대분류 '건축', 중분류 '건축물' 공사 중 공종 대분류 '건축', 중분류 '철근콘크리트공사' 작업에서 사고객체 '기타'(중분류: '기타')와 관련된 사고가 발생했습니다. 작업 프로세스는 '기타'이며, 사고 원인은 '높이90cm, 경사길이 2m 경사로 사고자가 이동 중(급격히 힘을 주어 올라감) 우측 종아리 근육 손상'입니다. 재발 방지 대책 및 향후 조치 계획은 무엇인가요?\n"
          ]
        },
        {
          "name": "stderr",
          "output_type": "stream",
          "text": [
            "Processed prompts: 100%|██████████| 1/1 [00:07<00:00,  7.47s/it, est. speed input: 152.28 toks/s, output: 68.57 toks/s]\n"
          ]
        },
        {
          "name": "stdout",
          "output_type": "stream",
          "text": [
            "iter 81 완료 : 7.490757465362549초\n",
            "\n",
            "[샘플 83/100] 진행 중...\n",
            "공사종류 대분류 '건축', 중분류 '건축물' 공사 중 공종 대분류 '건축', 중분류 '철근콘크리트공사' 작업에서 사고객체 '건설자재'(중분류: '자재')와 관련된 사고가 발생했습니다. 작업 프로세스는 '형틀 및 목공'이며, 사고 원인은 '계단시공 작업 중 미끄러지면서 손으로 미끄러지지 않기위해 옆을 잡으면서 어께이 충격이 가해짐'입니다. 재발 방지 대책 및 향후 조치 계획은 무엇인가요?\n"
          ]
        },
        {
          "name": "stderr",
          "output_type": "stream",
          "text": [
            "Processed prompts: 100%|██████████| 1/1 [00:07<00:00,  7.40s/it, est. speed input: 176.86 toks/s, output: 66.74 toks/s]\n"
          ]
        },
        {
          "name": "stdout",
          "output_type": "stream",
          "text": [
            "iter 82 완료 : 7.422771453857422초\n",
            "\n",
            "[샘플 84/100] 진행 중...\n",
            "공사종류 대분류 '건축', 중분류 '건축물' 공사 중 공종 대분류 '건축', 중분류 '철근콘크리트공사' 작업에서 사고객체 '기타'(중분류: '기타')와 관련된 사고가 발생했습니다. 작업 프로세스는 '기타'이며, 사고 원인은 '휴식중 온수사용 부주의로 화상'입니다. 재발 방지 대책 및 향후 조치 계획은 무엇인가요?\n"
          ]
        },
        {
          "name": "stderr",
          "output_type": "stream",
          "text": [
            "Processed prompts: 100%|██████████| 1/1 [00:07<00:00,  7.51s/it, est. speed input: 132.29 toks/s, output: 68.21 toks/s]\n"
          ]
        },
        {
          "name": "stdout",
          "output_type": "stream",
          "text": [
            "iter 83 완료 : 7.530168294906616초\n",
            "\n",
            "[샘플 85/100] 진행 중...\n",
            "공사종류 대분류 '건축', 중분류 '건축물' 공사 중 공종 대분류 '건축', 중분류 '철근콘크리트공사' 작업에서 사고객체 '건설공구'(중분류: '공구류')와 관련된 사고가 발생했습니다. 작업 프로세스는 '기타'이며, 사고 원인은 '철근 절곡작업 중 작업자가 넘어지면서 가동중인 절곡기를 짚어 왼손 손가락이 협착됨'입니다. 재발 방지 대책 및 향후 조치 계획은 무엇인가요?\n"
          ]
        },
        {
          "name": "stderr",
          "output_type": "stream",
          "text": [
            "Processed prompts: 100%|██████████| 1/1 [00:08<00:00,  8.96s/it, est. speed input: 135.05 toks/s, output: 47.10 toks/s]\n"
          ]
        },
        {
          "name": "stdout",
          "output_type": "stream",
          "text": [
            "iter 84 완료 : 8.983380556106567초\n",
            "\n",
            "[샘플 86/100] 진행 중...\n",
            "공사종류 대분류 '건축', 중분류 '건축물' 공사 중 공종 대분류 '건축', 중분류 '철근콘크리트공사' 작업에서 사고객체 '건설자재'(중분류: '철근')와 관련된 사고가 발생했습니다. 작업 프로세스는 '설치작업'이며, 사고 원인은 '재해자의 불안전한 행동'입니다. 재발 방지 대책 및 향후 조치 계획은 무엇인가요?\n"
          ]
        },
        {
          "name": "stderr",
          "output_type": "stream",
          "text": [
            "Processed prompts: 100%|██████████| 1/1 [00:07<00:00,  7.38s/it, est. speed input: 127.44 toks/s, output: 69.34 toks/s]\n"
          ]
        },
        {
          "name": "stdout",
          "output_type": "stream",
          "text": [
            "iter 85 완료 : 7.409752368927002초\n",
            "\n",
            "[샘플 87/100] 진행 중...\n",
            "공사종류 대분류 '건축', 중분류 '건축물' 공사 중 공종 대분류 '기타', 중분류 '기타' 작업에서 사고객체 '건설공구'(중분류: '사다리')와 관련된 사고가 발생했습니다. 작업 프로세스는 '설치작업'이며, 사고 원인은 '벽 상단부 패널 부착 중 미니사다리가 기울어져 줌심을 잃고 넘어지면 서팔꿈치를 부딪혔음'입니다. 재발 방지 대책 및 향후 조치 계획은 무엇인가요?\n"
          ]
        },
        {
          "name": "stderr",
          "output_type": "stream",
          "text": [
            "Processed prompts: 100%|██████████| 1/1 [00:04<00:00,  4.85s/it, est. speed input: 237.57 toks/s, output: 65.99 toks/s]\n"
          ]
        },
        {
          "name": "stdout",
          "output_type": "stream",
          "text": [
            "iter 86 완료 : 4.871510028839111초\n",
            "\n",
            "[샘플 88/100] 진행 중...\n",
            "공사종류 대분류 '건축', 중분류 '건축물' 공사 중 공종 대분류 '건축', 중분류 '철근콘크리트공사' 작업에서 사고객체 '기타'(중분류: '기타')와 관련된 사고가 발생했습니다. 작업 프로세스는 '운반작업'이며, 사고 원인은 '개구부용 덮개가 설치된 상태에서 철근 소운반 작업중 오픈된 곳으로 우측 발이 빠지며 골절된 재해 (작업자 부주의)'입니다. 재발 방지 대책 및 향후 조치 계획은 무엇인가요?\n"
          ]
        },
        {
          "name": "stderr",
          "output_type": "stream",
          "text": [
            "Processed prompts: 100%|██████████| 1/1 [00:07<00:00,  7.55s/it, est. speed input: 145.80 toks/s, output: 67.86 toks/s]\n"
          ]
        },
        {
          "name": "stdout",
          "output_type": "stream",
          "text": [
            "iter 87 완료 : 7.565779209136963초\n",
            "\n",
            "[샘플 89/100] 진행 중...\n",
            "공사종류 대분류 '토목', 중분류 '터널' 공사 중 공종 대분류 '토목', 중분류 '터널공사' 작업에서 사고객체 '건설자재'(중분류: '철근')와 관련된 사고가 발생했습니다. 작업 프로세스는 '조립작업'이며, 사고 원인은 '터널 철근 조립 작업 중 무릎 부딪힘과 반복적인 어깨 사용으로'입니다. 재발 방지 대책 및 향후 조치 계획은 무엇인가요?\n"
          ]
        },
        {
          "name": "stderr",
          "output_type": "stream",
          "text": [
            "Processed prompts: 100%|██████████| 1/1 [00:07<00:00,  7.59s/it, est. speed input: 153.65 toks/s, output: 67.47 toks/s]\n"
          ]
        },
        {
          "name": "stdout",
          "output_type": "stream",
          "text": [
            "iter 88 완료 : 7.611412763595581초\n",
            "\n",
            "[샘플 90/100] 진행 중...\n",
            "공사종류 대분류 '건축', 중분류 '건축물' 공사 중 공종 대분류 '건축', 중분류 '철골공사' 작업에서 사고객체 'nan'(중분류: 'nan')와 관련된 사고가 발생했습니다. 작업 프로세스는 '이동'이며, 사고 원인은 '뒷걸음 하시다 넘어짐'입니다. 재발 방지 대책 및 향후 조치 계획은 무엇인가요?\n"
          ]
        },
        {
          "name": "stderr",
          "output_type": "stream",
          "text": [
            "Processed prompts: 100%|██████████| 1/1 [00:08<00:00,  8.61s/it, est. speed input: 118.62 toks/s, output: 46.24 toks/s]\n"
          ]
        },
        {
          "name": "stdout",
          "output_type": "stream",
          "text": [
            "iter 89 완료 : 8.628629446029663초\n",
            "\n",
            "[샘플 91/100] 진행 중...\n",
            "공사종류 대분류 '건축', 중분류 '건축물' 공사 중 공종 대분류 '건축', 중분류 '수장공사' 작업에서 사고객체 '기타'(중분류: '작업대차')와 관련된 사고가 발생했습니다. 작업 프로세스는 '운반작업'이며, 사고 원인은 '모든 마감이 완료된 준공이후이기에 현장정리를 위하여 안전모와 실내화를 착용하고 작업하던중 작업자의 부주의로 대차에 발가락이 끼임사고 발생'입니다. 재발 방지 대책 및 향후 조치 계획은 무엇인가요?\n"
          ]
        },
        {
          "name": "stderr",
          "output_type": "stream",
          "text": [
            "Processed prompts: 100%|██████████| 1/1 [00:04<00:00,  4.64s/it, est. speed input: 245.35 toks/s, output: 67.21 toks/s]\n"
          ]
        },
        {
          "name": "stdout",
          "output_type": "stream",
          "text": [
            "iter 90 완료 : 4.664857864379883초\n",
            "\n",
            "[샘플 92/100] 진행 중...\n",
            "공사종류 대분류 '토목', 중분류 '기타' 공사 중 공종 대분류 '토목', 중분류 '말뚝공사' 작업에서 사고객체 '건설기계'(중분류: '항타 및 항발기')와 관련된 사고가 발생했습니다. 작업 프로세스는 '항타 및 항발작업'이며, 사고 원인은 '오랜시간 근무로 인한 허리통증'입니다. 재발 방지 대책 및 향후 조치 계획은 무엇인가요?\n"
          ]
        },
        {
          "name": "stderr",
          "output_type": "stream",
          "text": [
            "Processed prompts: 100%|██████████| 1/1 [00:07<00:00,  7.50s/it, est. speed input: 152.49 toks/s, output: 68.25 toks/s]\n"
          ]
        },
        {
          "name": "stdout",
          "output_type": "stream",
          "text": [
            "iter 91 완료 : 7.524029731750488초\n",
            "\n",
            "[샘플 93/100] 진행 중...\n",
            "공사종류 대분류 '토목', 중분류 '항만' 공사 중 공종 대분류 '기타', 중분류 '기타' 작업에서 사고객체 '기타'(중분류: '기타')와 관련된 사고가 발생했습니다. 작업 프로세스는 '이동'이며, 사고 원인은 '작업장으로 이동 중 선박 충격에 의한 넘어짐'입니다. 재발 방지 대책 및 향후 조치 계획은 무엇인가요?\n"
          ]
        },
        {
          "name": "stderr",
          "output_type": "stream",
          "text": [
            "Processed prompts: 100%|██████████| 1/1 [00:07<00:00,  7.52s/it, est. speed input: 152.00 toks/s, output: 68.09 toks/s]\n"
          ]
        },
        {
          "name": "stdout",
          "output_type": "stream",
          "text": [
            "iter 92 완료 : 7.54136848449707초\n",
            "\n",
            "[샘플 94/100] 진행 중...\n",
            "공사종류 대분류 '토목', 중분류 '상하수도' 공사 중 공종 대분류 '토목', 중분류 '관공사' 작업에서 사고객체 '건설자재'(중분류: '자재')와 관련된 사고가 발생했습니다. 작업 프로세스는 '운반작업'이며, 사고 원인은 '자재 하차를 위해 차량 적재함 작업도중 자재의 이동으로 인해(경사지반 차량 주차) 재해자의 손이 부딪혀 좌측 엄지 부위가 골절 되었음'입니다. 재발 방지 대책 및 향후 조치 계획은 무엇인가요?\n"
          ]
        },
        {
          "name": "stderr",
          "output_type": "stream",
          "text": [
            "Processed prompts: 100%|██████████| 1/1 [00:07<00:00,  7.56s/it, est. speed input: 146.79 toks/s, output: 67.77 toks/s]\n"
          ]
        },
        {
          "name": "stdout",
          "output_type": "stream",
          "text": [
            "iter 93 완료 : 7.576102256774902초\n",
            "\n",
            "[샘플 95/100] 진행 중...\n",
            "공사종류 대분류 '건축', 중분류 '건축물' 공사 중 공종 대분류 '건축', 중분류 '미장공사' 작업에서 사고객체 '건설공구'(중분류: '공구류')와 관련된 사고가 발생했습니다. 작업 프로세스는 '마감작업'이며, 사고 원인은 '지면 평탄작업 미흡'입니다. 재발 방지 대책 및 향후 조치 계획은 무엇인가요?\n"
          ]
        },
        {
          "name": "stderr",
          "output_type": "stream",
          "text": [
            "Processed prompts: 100%|██████████| 1/1 [00:09<00:00,  9.15s/it, est. speed input: 113.87 toks/s, output: 46.77 toks/s]\n"
          ]
        },
        {
          "name": "stdout",
          "output_type": "stream",
          "text": [
            "iter 94 완료 : 9.174331665039062초\n",
            "\n",
            "[샘플 96/100] 진행 중...\n",
            "공사종류 대분류 '토목', 중분류 '도로' 공사 중 공종 대분류 '토목', 중분류 '도로 및 포장공사' 작업에서 사고객체 '기타'(중분류: '기타')와 관련된 사고가 발생했습니다. 작업 프로세스는 '운반작업'이며, 사고 원인은 '자재를 용기에 넣고 차량에서 도로로 내리는 중 무릎 통증'입니다. 재발 방지 대책 및 향후 조치 계획은 무엇인가요?\n"
          ]
        },
        {
          "name": "stderr",
          "output_type": "stream",
          "text": [
            "Processed prompts: 100%|██████████| 1/1 [00:06<00:00,  6.10s/it, est. speed input: 188.20 toks/s, output: 67.38 toks/s]\n"
          ]
        },
        {
          "name": "stdout",
          "output_type": "stream",
          "text": [
            "iter 95 완료 : 6.123439073562622초\n",
            "\n",
            "[샘플 97/100] 진행 중...\n",
            "공사종류 대분류 '토목', 중분류 '기타' 공사 중 공종 대분류 '토목', 중분류 '토공사' 작업에서 사고객체 '건설공구'(중분류: '공구류')와 관련된 사고가 발생했습니다. 작업 프로세스는 '운반작업'이며, 사고 원인은 '부주의'입니다. 재발 방지 대책 및 향후 조치 계획은 무엇인가요?\n"
          ]
        },
        {
          "name": "stderr",
          "output_type": "stream",
          "text": [
            "Processed prompts: 100%|██████████| 1/1 [00:07<00:00,  7.58s/it, est. speed input: 137.87 toks/s, output: 67.55 toks/s]\n"
          ]
        },
        {
          "name": "stdout",
          "output_type": "stream",
          "text": [
            "iter 96 완료 : 7.601775646209717초\n",
            "\n",
            "[샘플 98/100] 진행 중...\n",
            "공사종류 대분류 '토목', 중분류 '도로' 공사 중 공종 대분류 '토목', 중분류 '해체 및 철거공사' 작업에서 사고객체 '기타'(중분류: '기타')와 관련된 사고가 발생했습니다. 작업 프로세스는 '설치작업'이며, 사고 원인은 '작업도중 발을 헛딛임'입니다. 재발 방지 대책 및 향후 조치 계획은 무엇인가요?\n"
          ]
        },
        {
          "name": "stderr",
          "output_type": "stream",
          "text": [
            "Processed prompts: 100%|██████████| 1/1 [00:07<00:00,  7.55s/it, est. speed input: 143.03 toks/s, output: 67.81 toks/s]\n"
          ]
        },
        {
          "name": "stdout",
          "output_type": "stream",
          "text": [
            "iter 97 완료 : 7.5757293701171875초\n",
            "\n",
            "[샘플 99/100] 진행 중...\n",
            "공사종류 대분류 '건축', 중분류 '건축물' 공사 중 공종 대분류 '건축', 중분류 '철골공사' 작업에서 사고객체 '기타'(중분류: '기타')와 관련된 사고가 발생했습니다. 작업 프로세스는 '이동'이며, 사고 원인은 '1층바닥에서 미끄러짐'입니다. 재발 방지 대책 및 향후 조치 계획은 무엇인가요?\n"
          ]
        },
        {
          "name": "stderr",
          "output_type": "stream",
          "text": [
            "Processed prompts: 100%|██████████| 1/1 [00:07<00:00,  7.48s/it, est. speed input: 129.67 toks/s, output: 68.45 toks/s]\n"
          ]
        },
        {
          "name": "stdout",
          "output_type": "stream",
          "text": [
            "iter 98 완료 : 7.504142761230469초\n",
            "\n",
            "[샘플 100/100] 진행 중...\n",
            "공사종류 대분류 '건축', 중분류 '건축물' 공사 중 공종 대분류 '기타', 중분류 '기타' 작업에서 사고객체 '기타'(중분류: '기타')와 관련된 사고가 발생했습니다. 작업 프로세스는 '이동'이며, 사고 원인은 '공사작업끝나고 술한잔 먹고 내려오다가 계단에서 미끄러져서 다침'입니다. 재발 방지 대책 및 향후 조치 계획은 무엇인가요?\n"
          ]
        },
        {
          "name": "stderr",
          "output_type": "stream",
          "text": [
            "Processed prompts: 100%|██████████| 1/1 [00:08<00:00,  8.87s/it, est. speed input: 133.93 toks/s, output: 47.91 toks/s]"
          ]
        },
        {
          "name": "stdout",
          "output_type": "stream",
          "text": [
            "iter 99 완료 : 8.896803140640259초\n",
            "\n",
            "테스트 실행 완료! 총 결과 수: 100\n"
          ]
        },
        {
          "name": "stderr",
          "output_type": "stream",
          "text": [
            "\n"
          ]
        }
      ],
      "source": [
        "# 테스트 실행 및 결과 저장\n",
        "test_results = []\n",
        "\n",
        "print(\"테스트 실행 시작... 총 테스트 샘플 수:\", len(combined_test_data))\n",
        "\n",
        "for idx, row in combined_test_data.iterrows():\n",
        "\n",
        "    t = time.time()\n",
        "    print(f\"\\n[샘플 {idx + 1}/{len(combined_test_data)}] 진행 중...\")\n",
        "    print(row['question'])\n",
        "    # RAG 체인 호출 및 결과 생성\n",
        "    prevention_result = qa_chain.invoke(\n",
        "        row['question'],\n",
        "        # llm_kwargs={\"max_new_tokens\": 50, \"use_cache\": True, \"do_sample\": False}\n",
        "        )\n",
        "\n",
        "    # 결과 저장\n",
        "    result_text = prevention_result['result']\n",
        "    test_results.append(result_text)\n",
        "    print(f\"iter {idx} 완료 : {time.time()-t}초\")\n",
        "print(\"\\n테스트 실행 완료! 총 결과 수:\", len(test_results))"
      ]
    },
    {
      "cell_type": "code",
      "execution_count": 52,
      "id": "26e71c08",
      "metadata": {},
      "outputs": [],
      "source": [
        "pd.DataFrame(test_results, columns = ['answer']).to_csv('./vllm_result.csv')"
      ]
    },
    {
      "cell_type": "markdown",
      "id": "e9022911",
      "metadata": {
        "id": "e9022911"
      },
      "source": [
        "# Submission"
      ]
    },
    {
      "cell_type": "code",
      "execution_count": null,
      "id": "178e21c6",
      "metadata": {
        "id": "178e21c6"
      },
      "outputs": [
        {
          "name": "stdout",
          "output_type": "stream",
          "text": [
            "(964, 768)\n"
          ]
        }
      ],
      "source": [
        "from sentence_transformers import SentenceTransformer\n",
        "\n",
        "embedding_model_name = \"jhgan/ko-sbert-sts\"\n",
        "embedding = SentenceTransformer(embedding_model_name)\n",
        "\n",
        "# 문장 리스트를 입력하여 임베딩 생성\n",
        "pred_embeddings = embedding.encode(test_results)\n",
        "print(pred_embeddings.shape)  # (샘플 개수, 768)"
      ]
    },
    {
      "cell_type": "code",
      "execution_count": null,
      "id": "ae869742-4a0b-45bc-8a50-e385b67a9030",
      "metadata": {
        "id": "ae869742-4a0b-45bc-8a50-e385b67a9030"
      },
      "outputs": [],
      "source": [
        "submission = pd.read_csv('/workspace/Storage/hansoldeco3/Data/sample_submission.csv', encoding = 'utf-8-sig')\n",
        "\n",
        "# 최종 결과 저장\n",
        "submission.iloc[:,1] = test_results\n",
        "submission.iloc[:,2:] = pred_embeddings\n",
        "submission.head()\n",
        "\n",
        "# 최종 결과를 CSV로 저장\n",
        "submission.to_csv('./baseline_submission.csv', index=False, encoding='utf-8-sig')"
      ]
    }
  ],
  "metadata": {
    "accelerator": "GPU",
    "colab": {
      "gpuType": "T4",
      "provenance": []
    },
    "kernelspec": {
      "display_name": "hansoldeco3",
      "language": "python",
      "name": "hansoldeco3"
    },
    "widgets": {
      "application/vnd.jupyter.widget-state+json": {
        "0a4d918019514ae7bbfc4c94eb1d701f": {
          "model_module": "@jupyter-widgets/controls",
          "model_module_version": "1.5.0",
          "model_name": "HTMLModel",
          "state": {
            "_dom_classes": [],
            "_model_module": "@jupyter-widgets/controls",
            "_model_module_version": "1.5.0",
            "_model_name": "HTMLModel",
            "_view_count": null,
            "_view_module": "@jupyter-widgets/controls",
            "_view_module_version": "1.5.0",
            "_view_name": "HTMLView",
            "description": "",
            "description_tooltip": null,
            "layout": "IPY_MODEL_69e55c9e65534a308e7f73cd58dabd9d",
            "placeholder": "​",
            "style": "IPY_MODEL_77746380b28f47e7af11aae31baed046",
            "value": "Loading checkpoint shards: 100%"
          }
        },
        "2b9e4fc586a2407ba635f71d43848f30": {
          "model_module": "@jupyter-widgets/controls",
          "model_module_version": "1.5.0",
          "model_name": "HBoxModel",
          "state": {
            "_dom_classes": [],
            "_model_module": "@jupyter-widgets/controls",
            "_model_module_version": "1.5.0",
            "_model_name": "HBoxModel",
            "_view_count": null,
            "_view_module": "@jupyter-widgets/controls",
            "_view_module_version": "1.5.0",
            "_view_name": "HBoxView",
            "box_style": "",
            "children": [
              "IPY_MODEL_0a4d918019514ae7bbfc4c94eb1d701f",
              "IPY_MODEL_6897f9c37ad44384b114596a48dde628",
              "IPY_MODEL_45fc8662d4e24fd8bc48ac70e61ad924"
            ],
            "layout": "IPY_MODEL_9c7f083ae939450680c137cd8c10a961"
          }
        },
        "44be7fc920384187836269f9ae923de9": {
          "model_module": "@jupyter-widgets/base",
          "model_module_version": "1.2.0",
          "model_name": "LayoutModel",
          "state": {
            "_model_module": "@jupyter-widgets/base",
            "_model_module_version": "1.2.0",
            "_model_name": "LayoutModel",
            "_view_count": null,
            "_view_module": "@jupyter-widgets/base",
            "_view_module_version": "1.2.0",
            "_view_name": "LayoutView",
            "align_content": null,
            "align_items": null,
            "align_self": null,
            "border": null,
            "bottom": null,
            "display": null,
            "flex": null,
            "flex_flow": null,
            "grid_area": null,
            "grid_auto_columns": null,
            "grid_auto_flow": null,
            "grid_auto_rows": null,
            "grid_column": null,
            "grid_gap": null,
            "grid_row": null,
            "grid_template_areas": null,
            "grid_template_columns": null,
            "grid_template_rows": null,
            "height": null,
            "justify_content": null,
            "justify_items": null,
            "left": null,
            "margin": null,
            "max_height": null,
            "max_width": null,
            "min_height": null,
            "min_width": null,
            "object_fit": null,
            "object_position": null,
            "order": null,
            "overflow": null,
            "overflow_x": null,
            "overflow_y": null,
            "padding": null,
            "right": null,
            "top": null,
            "visibility": null,
            "width": null
          }
        },
        "45fc8662d4e24fd8bc48ac70e61ad924": {
          "model_module": "@jupyter-widgets/controls",
          "model_module_version": "1.5.0",
          "model_name": "HTMLModel",
          "state": {
            "_dom_classes": [],
            "_model_module": "@jupyter-widgets/controls",
            "_model_module_version": "1.5.0",
            "_model_name": "HTMLModel",
            "_view_count": null,
            "_view_module": "@jupyter-widgets/controls",
            "_view_module_version": "1.5.0",
            "_view_name": "HTMLView",
            "description": "",
            "description_tooltip": null,
            "layout": "IPY_MODEL_ad70dfa415ce4f2e8272f838946437c9",
            "placeholder": "​",
            "style": "IPY_MODEL_48f5e671465348d589618fbcea047f07",
            "value": " 4/4 [01:23&lt;00:00, 17.76s/it]"
          }
        },
        "48f5e671465348d589618fbcea047f07": {
          "model_module": "@jupyter-widgets/controls",
          "model_module_version": "1.5.0",
          "model_name": "DescriptionStyleModel",
          "state": {
            "_model_module": "@jupyter-widgets/controls",
            "_model_module_version": "1.5.0",
            "_model_name": "DescriptionStyleModel",
            "_view_count": null,
            "_view_module": "@jupyter-widgets/base",
            "_view_module_version": "1.2.0",
            "_view_name": "StyleView",
            "description_width": ""
          }
        },
        "6897f9c37ad44384b114596a48dde628": {
          "model_module": "@jupyter-widgets/controls",
          "model_module_version": "1.5.0",
          "model_name": "FloatProgressModel",
          "state": {
            "_dom_classes": [],
            "_model_module": "@jupyter-widgets/controls",
            "_model_module_version": "1.5.0",
            "_model_name": "FloatProgressModel",
            "_view_count": null,
            "_view_module": "@jupyter-widgets/controls",
            "_view_module_version": "1.5.0",
            "_view_name": "ProgressView",
            "bar_style": "success",
            "description": "",
            "description_tooltip": null,
            "layout": "IPY_MODEL_44be7fc920384187836269f9ae923de9",
            "max": 4,
            "min": 0,
            "orientation": "horizontal",
            "style": "IPY_MODEL_d98c24507e604efbbb9a24fcf346ab5a",
            "value": 4
          }
        },
        "69e55c9e65534a308e7f73cd58dabd9d": {
          "model_module": "@jupyter-widgets/base",
          "model_module_version": "1.2.0",
          "model_name": "LayoutModel",
          "state": {
            "_model_module": "@jupyter-widgets/base",
            "_model_module_version": "1.2.0",
            "_model_name": "LayoutModel",
            "_view_count": null,
            "_view_module": "@jupyter-widgets/base",
            "_view_module_version": "1.2.0",
            "_view_name": "LayoutView",
            "align_content": null,
            "align_items": null,
            "align_self": null,
            "border": null,
            "bottom": null,
            "display": null,
            "flex": null,
            "flex_flow": null,
            "grid_area": null,
            "grid_auto_columns": null,
            "grid_auto_flow": null,
            "grid_auto_rows": null,
            "grid_column": null,
            "grid_gap": null,
            "grid_row": null,
            "grid_template_areas": null,
            "grid_template_columns": null,
            "grid_template_rows": null,
            "height": null,
            "justify_content": null,
            "justify_items": null,
            "left": null,
            "margin": null,
            "max_height": null,
            "max_width": null,
            "min_height": null,
            "min_width": null,
            "object_fit": null,
            "object_position": null,
            "order": null,
            "overflow": null,
            "overflow_x": null,
            "overflow_y": null,
            "padding": null,
            "right": null,
            "top": null,
            "visibility": null,
            "width": null
          }
        },
        "77746380b28f47e7af11aae31baed046": {
          "model_module": "@jupyter-widgets/controls",
          "model_module_version": "1.5.0",
          "model_name": "DescriptionStyleModel",
          "state": {
            "_model_module": "@jupyter-widgets/controls",
            "_model_module_version": "1.5.0",
            "_model_name": "DescriptionStyleModel",
            "_view_count": null,
            "_view_module": "@jupyter-widgets/base",
            "_view_module_version": "1.2.0",
            "_view_name": "StyleView",
            "description_width": ""
          }
        },
        "9c7f083ae939450680c137cd8c10a961": {
          "model_module": "@jupyter-widgets/base",
          "model_module_version": "1.2.0",
          "model_name": "LayoutModel",
          "state": {
            "_model_module": "@jupyter-widgets/base",
            "_model_module_version": "1.2.0",
            "_model_name": "LayoutModel",
            "_view_count": null,
            "_view_module": "@jupyter-widgets/base",
            "_view_module_version": "1.2.0",
            "_view_name": "LayoutView",
            "align_content": null,
            "align_items": null,
            "align_self": null,
            "border": null,
            "bottom": null,
            "display": null,
            "flex": null,
            "flex_flow": null,
            "grid_area": null,
            "grid_auto_columns": null,
            "grid_auto_flow": null,
            "grid_auto_rows": null,
            "grid_column": null,
            "grid_gap": null,
            "grid_row": null,
            "grid_template_areas": null,
            "grid_template_columns": null,
            "grid_template_rows": null,
            "height": null,
            "justify_content": null,
            "justify_items": null,
            "left": null,
            "margin": null,
            "max_height": null,
            "max_width": null,
            "min_height": null,
            "min_width": null,
            "object_fit": null,
            "object_position": null,
            "order": null,
            "overflow": null,
            "overflow_x": null,
            "overflow_y": null,
            "padding": null,
            "right": null,
            "top": null,
            "visibility": null,
            "width": null
          }
        },
        "ad70dfa415ce4f2e8272f838946437c9": {
          "model_module": "@jupyter-widgets/base",
          "model_module_version": "1.2.0",
          "model_name": "LayoutModel",
          "state": {
            "_model_module": "@jupyter-widgets/base",
            "_model_module_version": "1.2.0",
            "_model_name": "LayoutModel",
            "_view_count": null,
            "_view_module": "@jupyter-widgets/base",
            "_view_module_version": "1.2.0",
            "_view_name": "LayoutView",
            "align_content": null,
            "align_items": null,
            "align_self": null,
            "border": null,
            "bottom": null,
            "display": null,
            "flex": null,
            "flex_flow": null,
            "grid_area": null,
            "grid_auto_columns": null,
            "grid_auto_flow": null,
            "grid_auto_rows": null,
            "grid_column": null,
            "grid_gap": null,
            "grid_row": null,
            "grid_template_areas": null,
            "grid_template_columns": null,
            "grid_template_rows": null,
            "height": null,
            "justify_content": null,
            "justify_items": null,
            "left": null,
            "margin": null,
            "max_height": null,
            "max_width": null,
            "min_height": null,
            "min_width": null,
            "object_fit": null,
            "object_position": null,
            "order": null,
            "overflow": null,
            "overflow_x": null,
            "overflow_y": null,
            "padding": null,
            "right": null,
            "top": null,
            "visibility": null,
            "width": null
          }
        },
        "d98c24507e604efbbb9a24fcf346ab5a": {
          "model_module": "@jupyter-widgets/controls",
          "model_module_version": "1.5.0",
          "model_name": "ProgressStyleModel",
          "state": {
            "_model_module": "@jupyter-widgets/controls",
            "_model_module_version": "1.5.0",
            "_model_name": "ProgressStyleModel",
            "_view_count": null,
            "_view_module": "@jupyter-widgets/base",
            "_view_module_version": "1.2.0",
            "_view_name": "StyleView",
            "bar_color": null,
            "description_width": ""
          }
        }
      }
    }
  },
  "nbformat": 4,
  "nbformat_minor": 5
}
