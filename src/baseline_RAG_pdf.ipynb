{
  "cells": [
    {
      "cell_type": "markdown",
      "id": "e50eee59-b527-44e0-afa8-7e4ee190affb",
      "metadata": {
        "id": "e50eee59-b527-44e0-afa8-7e4ee190affb"
      },
      "source": [
        "# Import"
      ]
    },
    {
      "cell_type": "code",
      "execution_count": null,
      "id": "e8de54bc",
      "metadata": {},
      "outputs": [],
      "source": [
        "import os\n",
        "import time"
      ]
    },
    {
      "cell_type": "code",
      "execution_count": null,
      "id": "493a074b-5e32-44c1-aee9-d378b1b37003",
      "metadata": {
        "id": "493a074b-5e32-44c1-aee9-d378b1b37003"
      },
      "outputs": [],
      "source": [
        "import pandas as pd\n",
        "\n",
        "from langchain.embeddings import HuggingFaceEmbeddings\n",
        "from langchain.vectorstores import FAISS\n",
        "from langchain.prompts import PromptTemplate\n",
        "from langchain.chains import RetrievalQA\n",
        "from langchain.llms import HuggingFacePipeline\n",
        "from langchain.document_loaders import PyPDFLoader\n",
        "from langchain.text_splitter import RecursiveCharacterTextSplitter\n",
        "\n",
        "from transformers import pipeline, AutoModelForCausalLM, AutoTokenizer, BitsAndBytesConfig\n",
        "import torch"
      ]
    },
    {
      "cell_type": "code",
      "execution_count": null,
      "id": "WTtQ70sm2xgW",
      "metadata": {
        "colab": {
          "base_uri": "https://localhost:8080/"
        },
        "id": "WTtQ70sm2xgW",
        "outputId": "969d60e8-7f38-4d15-c709-766039e9d6c5"
      },
      "outputs": [],
      "source": [
        "import transformers\n",
        "import accelerate\n",
        "print(transformers.__version__)\n",
        "print(accelerate.__version__)"
      ]
    },
    {
      "cell_type": "code",
      "execution_count": null,
      "id": "KfzwRJkilrEB",
      "metadata": {
        "colab": {
          "base_uri": "https://localhost:8080/"
        },
        "id": "KfzwRJkilrEB",
        "outputId": "f25c5a74-0086-4bb2-b0f2-57f162550773"
      },
      "outputs": [],
      "source": [
        "print(\"CUDA 사용 가능:\", torch.cuda.is_available())\n",
        "print(\"GPU 개수:\", torch.cuda.device_count())\n",
        "print(\"사용 중인 GPU:\", torch.cuda.get_device_name(0) if torch.cuda.is_available() else \"CPU 사용 중\")"
      ]
    },
    {
      "cell_type": "markdown",
      "id": "37f4223e-111b-49a8-a716-5f98caacf12f",
      "metadata": {
        "id": "37f4223e-111b-49a8-a716-5f98caacf12f"
      },
      "source": [
        "# Data Load & Pre-processing"
      ]
    },
    {
      "cell_type": "code",
      "execution_count": null,
      "id": "b5105439",
      "metadata": {},
      "outputs": [],
      "source": [
        "path_train = \"/workspace/Storage/hansoldeco3/Data/raw/train.csv\"\n",
        "path_test = \"/workspace/Storage/hansoldeco3/Data/raw/test.csv\"\n",
        "base_pdf_dir = \"/workspace/Storage/hansoldeco3/Data/raw/건설안전지침\"\n",
        "paths_pdf = os.listdir(base_pdf_dir)\n",
        "pdf_paths = [os.path.join(base_pdf_dir, pdf_file) for pdf_file in paths_pdf]"
      ]
    },
    {
      "cell_type": "code",
      "execution_count": null,
      "id": "f871264a-ecd6-430d-ab1f-8edad746bd14",
      "metadata": {
        "id": "f871264a-ecd6-430d-ab1f-8edad746bd14"
      },
      "outputs": [],
      "source": [
        "train = pd.read_csv(path_train, encoding = 'utf-8-sig')\n",
        "test = pd.read_csv(path_test, encoding = 'utf-8-sig')"
      ]
    },
    {
      "cell_type": "code",
      "execution_count": null,
      "id": "5dcc0921-e9a7-407a-a070-148abb06aca5",
      "metadata": {
        "id": "5dcc0921-e9a7-407a-a070-148abb06aca5"
      },
      "outputs": [],
      "source": [
        "# 데이터 전처리\n",
        "train['공사종류(대분류)'] = train['공사종류'].str.split(' / ').str[0]\n",
        "train['공사종류(중분류)'] = train['공사종류'].str.split(' / ').str[1]\n",
        "train['공종(대분류)'] = train['공종'].str.split(' > ').str[0]\n",
        "train['공종(중분류)'] = train['공종'].str.split(' > ').str[1]\n",
        "train['사고객체(대분류)'] = train['사고객체'].str.split(' > ').str[0]\n",
        "train['사고객체(중분류)'] = train['사고객체'].str.split(' > ').str[1]\n",
        "\n",
        "test['공사종류(대분류)'] = test['공사종류'].str.split(' / ').str[0]\n",
        "test['공사종류(중분류)'] = test['공사종류'].str.split(' / ').str[1]\n",
        "test['공종(대분류)'] = test['공종'].str.split(' > ').str[0]\n",
        "test['공종(중분류)'] = test['공종'].str.split(' > ').str[1]\n",
        "test['사고객체(대분류)'] = test['사고객체'].str.split(' > ').str[0]\n",
        "test['사고객체(중분류)'] = test['사고객체'].str.split(' > ').str[1]"
      ]
    },
    {
      "cell_type": "code",
      "execution_count": null,
      "id": "90e51bca-0c93-4412-9634-9f86ea9a36ef",
      "metadata": {
        "id": "90e51bca-0c93-4412-9634-9f86ea9a36ef"
      },
      "outputs": [],
      "source": [
        "# 훈련 데이터 통합 생성\n",
        "combined_training_data = train.apply(\n",
        "    lambda row: {\n",
        "        \"question\": (\n",
        "            f\"공사종류 대분류 '{row['공사종류(대분류)']}', 중분류 '{row['공사종류(중분류)']}' 공사 중 \"\n",
        "            f\"공종 대분류 '{row['공종(대분류)']}', 중분류 '{row['공종(중분류)']}' 작업에서 \"\n",
        "            f\"사고객체 '{row['사고객체(대분류)']}'(중분류: '{row['사고객체(중분류)']}')와 관련된 사고가 발생했습니다. \"\n",
        "            f\"작업 프로세스는 '{row['작업프로세스']}'이며, 사고 원인은 '{row['사고원인']}'입니다. \"\n",
        "            f\"재발 방지 대책 및 향후 조치 계획은 무엇인가요?\"\n",
        "        ),\n",
        "        \"answer\": row[\"재발방지대책 및 향후조치계획\"]\n",
        "    },\n",
        "    axis=1\n",
        ")\n",
        "\n",
        "# DataFrame으로 변환\n",
        "combined_training_data = pd.DataFrame(list(combined_training_data))"
      ]
    },
    {
      "cell_type": "code",
      "execution_count": null,
      "id": "cbf53249-8aae-4308-a476-4200814da53d",
      "metadata": {
        "id": "cbf53249-8aae-4308-a476-4200814da53d",
        "scrolled": true
      },
      "outputs": [],
      "source": [
        "# 테스트 데이터 통합 생성\n",
        "combined_test_data = test.apply(\n",
        "    lambda row: {\n",
        "        \"question\": (\n",
        "            f\"공사종류 대분류 '{row['공사종류(대분류)']}', 중분류 '{row['공사종류(중분류)']}' 공사 중 \"\n",
        "            f\"공종 대분류 '{row['공종(대분류)']}', 중분류 '{row['공종(중분류)']}' 작업에서 \"\n",
        "            f\"사고객체 '{row['사고객체(대분류)']}'(중분류: '{row['사고객체(중분류)']}')와 관련된 사고가 발생했습니다. \"\n",
        "            f\"작업 프로세스는 '{row['작업프로세스']}'이며, 사고 원인은 '{row['사고원인']}'입니다. \"\n",
        "            f\"재발 방지 대책 및 향후 조치 계획은 무엇인가요?\"\n",
        "        )\n",
        "    },\n",
        "    axis=1\n",
        ")\n",
        "\n",
        "# DataFrame으로 변환\n",
        "combined_test_data = pd.DataFrame(list(combined_test_data))"
      ]
    },
    {
      "cell_type": "markdown",
      "id": "45bea209-6521-4974-a785-c2faf5af427c",
      "metadata": {
        "id": "45bea209-6521-4974-a785-c2faf5af427c"
      },
      "source": [
        "# Model import"
      ]
    },
    {
      "cell_type": "code",
      "execution_count": null,
      "id": "b3b1d4ec-a335-4a3e-803e-1ee0a8e8b482",
      "metadata": {
        "id": "b3b1d4ec-a335-4a3e-803e-1ee0a8e8b482"
      },
      "outputs": [],
      "source": [
        "bnb_config = BitsAndBytesConfig(\n",
        "    load_in_4bit=True,\n",
        "    bnb_4bit_use_double_quant=True,\n",
        "    bnb_4bit_quant_type=\"nf4\",\n",
        "    bnb_4bit_compute_dtype=torch.float16\n",
        ")"
      ]
    },
    {
      "cell_type": "code",
      "execution_count": null,
      "id": "3fd9f2e5-4293-48b1-9c8a-347cf500b257",
      "metadata": {
        "colab": {
          "base_uri": "https://localhost:8080/",
          "height": 178,
          "referenced_widgets": [
            "2b9e4fc586a2407ba635f71d43848f30",
            "0a4d918019514ae7bbfc4c94eb1d701f",
            "6897f9c37ad44384b114596a48dde628",
            "45fc8662d4e24fd8bc48ac70e61ad924",
            "9c7f083ae939450680c137cd8c10a961",
            "69e55c9e65534a308e7f73cd58dabd9d",
            "77746380b28f47e7af11aae31baed046",
            "44be7fc920384187836269f9ae923de9",
            "d98c24507e604efbbb9a24fcf346ab5a",
            "ad70dfa415ce4f2e8272f838946437c9",
            "48f5e671465348d589618fbcea047f07"
          ]
        },
        "id": "3fd9f2e5-4293-48b1-9c8a-347cf500b257",
        "outputId": "d6118ba5-903a-42f1-db4d-7902b21be08b"
      },
      "outputs": [],
      "source": [
        "model_id = \"NCSOFT/Llama-VARCO-8B-Instruct\"\n",
        "\n",
        "tokenizer = AutoTokenizer.from_pretrained(model_id)\n",
        "\n",
        "model = AutoModelForCausalLM.from_pretrained(model_id, quantization_config=bnb_config, device_map=\"auto\")\n",
        "\n",
        "print(model.hf_device_map)  # GPU 정상 할당 여부 확인"
      ]
    },
    {
      "cell_type": "markdown",
      "id": "021ff667",
      "metadata": {
        "id": "021ff667"
      },
      "source": [
        "# Vector store 생성"
      ]
    },
    {
      "cell_type": "code",
      "execution_count": null,
      "id": "15a08330",
      "metadata": {},
      "outputs": [],
      "source": [
        "# 임베딩 생성\n",
        "embedding_model_name = \"jhgan/ko-sbert-nli\"  # 임베딩 모델 선택\n",
        "embedding = HuggingFaceEmbeddings(model_name=embedding_model_name)"
      ]
    },
    {
      "cell_type": "code",
      "execution_count": null,
      "id": "1af0e97b",
      "metadata": {},
      "outputs": [],
      "source": [
        "# PDF 로드\n",
        "pdf_docs = []\n",
        "for path in pdf_paths:\n",
        "    loader = PyPDFLoader(path)\n",
        "    docs = loader.load()  # 문서 리스트 반환\n",
        "    pdf_docs.extend(docs)\n",
        "\n",
        "# 텍스트 chunking\n",
        "text_splitter = RecursiveCharacterTextSplitter(chunk_size=1000, chunk_overlap=100)\n",
        "split_docs = text_splitter.split_documents(pdf_docs)\n",
        "\n",
        "# PDF 벡터 스토어\n",
        "vector_store_pdf = FAISS.from_documents(split_docs, embedding)"
      ]
    },
    {
      "cell_type": "code",
      "execution_count": null,
      "id": "118aca6c",
      "metadata": {},
      "outputs": [],
      "source": [
        "split_docs[:5]"
      ]
    },
    {
      "cell_type": "code",
      "execution_count": null,
      "id": "b4b47aa1",
      "metadata": {
        "colab": {
          "base_uri": "https://localhost:8080/"
        },
        "id": "b4b47aa1",
        "outputId": "29b18a18-285a-4760-b6b3-3336761bd372"
      },
      "outputs": [],
      "source": [
        "# Train 데이터 준비\n",
        "train_questions_prevention = combined_training_data['question'].tolist()\n",
        "train_answers_prevention = combined_training_data['answer'].tolist()\n",
        "\n",
        "train_documents = [\n",
        "    f\"Q: {q1}\\nA: {a1}\"\n",
        "    for q1, a1 in zip(train_questions_prevention, train_answers_prevention)\n",
        "]\n",
        "\n",
        "\n",
        "# # 벡터 스토어에 문서 추가\n",
        "# vector_store = FAISS.from_texts(train_documents, embedding)\n",
        "\n",
        "# # Retriever 정의\n",
        "# retriever = vector_store.as_retriever(search_type=\"similarity\", search_kwargs={\"k\": 5})\n",
        "\n",
        "\n",
        "vector_store_train = FAISS.from_texts(train_documents, embedding)\n",
        "vector_store_train.merge_from(vector_store_pdf)\n",
        "retriever = vector_store_train.as_retriever(search_type=\"similarity\", search_kwargs={\"k\": 5})"
      ]
    },
    {
      "cell_type": "markdown",
      "id": "2533fc9f",
      "metadata": {
        "id": "2533fc9f"
      },
      "source": [
        "# RAG chain 생성"
      ]
    },
    {
      "cell_type": "code",
      "execution_count": null,
      "id": "371d4e9e-fd99-4157-abab-a367a24fa269",
      "metadata": {
        "colab": {
          "base_uri": "https://localhost:8080/"
        },
        "id": "371d4e9e-fd99-4157-abab-a367a24fa269",
        "outputId": "8efba910-4fbe-476b-be11-3cbec5902447"
      },
      "outputs": [],
      "source": [
        "text_generation_pipeline = pipeline(\n",
        "    model=model,\n",
        "    tokenizer=tokenizer,\n",
        "    task=\"text-generation\",\n",
        "    do_sample=True,  # sampling 활성화\n",
        "    temperature=0.1,\n",
        "    return_full_text=False,\n",
        "    max_new_tokens=64,\n",
        ")\n",
        "\n",
        "prompt_template = \"\"\"\n",
        "### 지침: 당신은 건설 안전 전문가입니다.\n",
        "질문에 대한 답변을 핵심 내용만 요약하여 간략하게 작성하세요.\n",
        "- 서론, 배경 설명 또는 추가 설명을 절대 포함하지 마세요.\n",
        "- 다음과 같은 조치를 취할 것을 제안합니다: 와 같은 내용을 포함하지 마세요.\n",
        "\n",
        "{context}\n",
        "\n",
        "### 질문:\n",
        "{question}\n",
        "\n",
        "[/INST]\n",
        "\n",
        "\"\"\"\n",
        "\n",
        "llm = HuggingFacePipeline(pipeline=text_generation_pipeline)\n",
        "\n",
        "# 커스텀 프롬프트 생성\n",
        "prompt = PromptTemplate(\n",
        "    input_variables=[\"context\", \"question\"],\n",
        "    template=prompt_template,\n",
        ")\n",
        "\n",
        "\n",
        "# RAG 체인 생성\n",
        "qa_chain = RetrievalQA.from_chain_type(\n",
        "    llm=llm,\n",
        "    chain_type=\"stuff\",  # 단순 컨텍스트 결합 방식 사용\n",
        "    retriever=retriever,\n",
        "    return_source_documents=True,\n",
        "    chain_type_kwargs={\"prompt\": prompt}  # 커스텀 프롬프트 적용\n",
        ")"
      ]
    },
    {
      "cell_type": "markdown",
      "id": "7b0b3640-3968-4c2b-a7d4-30f586fadd66",
      "metadata": {
        "id": "7b0b3640-3968-4c2b-a7d4-30f586fadd66"
      },
      "source": [
        "# Inference"
      ]
    },
    {
      "cell_type": "code",
      "execution_count": 17,
      "id": "590331a4-75f0-4012-8f45-8f2652772c43",
      "metadata": {
        "colab": {
          "base_uri": "https://localhost:8080/",
          "height": 577
        },
        "id": "590331a4-75f0-4012-8f45-8f2652772c43",
        "outputId": "f81e62f7-31eb-4d7a-c4bb-091347bfa72b"
      },
      "outputs": [
        {
          "name": "stdout",
          "output_type": "stream",
          "text": [
            "테스트 실행 시작... 총 테스트 샘플 수: 964\n",
            "\n",
            "[샘플 1/964] 진행 중...\n",
            "공사종류 대분류 '건축', 중분류 '건축물' 공사 중 공종 대분류 '건축', 중분류 '철근콘크리트공사' 작업에서 사고객체 '건설기계'(중분류: '콘크리트펌프')와 관련된 사고가 발생했습니다. 작업 프로세스는 '타설작업'이며, 사고 원인은 '펌프카 아웃트리거 바닥 고임목을 3단으로 보강 했음에도, 지반 침하(아웃트리거 우측 상부 1개소)가 발생하였고,  좌, 우측 아웃트리거의 펼친 길이가 상이하고 타설 위치가 건물 끝부분 모서리에 위치하여 붐대호스를 최대로 펼치다 보니 장비에 대한 무게중심이 한쪽으로 쏠려 일부 전도되는 사고가 발생된 것으로 판단됨'입니다. 재발 방지 대책 및 향후 조치 계획은 무엇인가요?\n",
            "iter 0 완료 : 28.810788869857788초\n",
            "\n",
            "[참조된 문서/맥락]\n",
            "--- 문서 1 ---\n",
            "Q: 공사종류 대분류 '건축', 중분류 '건축물' 공사 중 공종 대분류 '건축', 중분류 '철근콘크리트공사' 작업에서 사고객체 '건설기계'(중분류: '콘크리트펌프')와 관련된 사고가 발생했습니다. 작업 프로세스는 '타설작업'이며, 사고 원인은 '콘크리트 펌핑중 아웃리거가 흙바닥으로 밀리면서 흙바닥이 침하되어 펌프카가 기울어짐, 진동에 의한 아웃리거 변위'입니다. 재발 방지 대책 및 향후 조치 계획은 무엇인가요?\n",
            "A: 펌프카 설치 위치 사전 검토와 아웃리거 변위 여부 점검을 통한 재발 방지 대책 마련. ...\n",
            "--- 문서 2 ---\n",
            "Q: 공사종류 대분류 '건축', 중분류 '건축물' 공사 중 공종 대분류 '건축', 중분류 '철근콘크리트공사' 작업에서 사고객체 '건설기계'(중분류: '콘크리트펌프')와 관련된 사고가 발생했습니다. 작업 프로세스는 '타설작업'이며, 사고 원인은 '펌프카 붐대를 최대거리로 사용하면서 하중이 집중되어 아웃트리거 지반이 붕괴.'입니다. 재발 방지 대책 및 향후 조치 계획은 무엇인가요?\n",
            "A: 관리적 대책으로 차량계 건설기계 작업계획서 작성 및 검토와 펌프카 안전점검 체크리스트에 의한 사전 점검, 기술적 대책으로 펌프카 아웃트리거 설치 시 지반상태 사전 점검 및 받침대 추가 설치 확인, 유도자 또는 신호수 배치, 작업구역 설정, 타 근로자 출입금지 조치, 교육적 대책으로 펌프카 작업 전 안전교육 실시 및 확인, 당 작업 전 TBM 시 작업내용 및 위험포인트 내용 공유, 향후 조치 계획으로 재발 방지 대책 수립 및 현장 관리 철저. ...\n",
            "--- 문서 3 ---\n",
            "Q: 공사종류 대분류 '건축', 중분류 '건축물' 공사 중 공종 대분류 '건축', 중분류 '철근콘크리트공사' 작업에서 사고객체 '건설기계'(중분류: '콘크리트펌프')와 관련된 사고가 발생했습니다. 작업 프로세스는 '타설작업'이며, 사고 원인은 '지반침하로 인하여 펌프카 왼쪽 앞 지지대가 침하되면서 전도 되었고 이에따라 붐대에 작업자가 깔리면서 사고 발생'입니다. 재발 방지 대책 및 향후 조치 계획은 무엇인가요?\n",
            "A: 안전교육 실시와 안전관리 강화를 통한 재발 방지 대책 마련. ...\n",
            "--- 문서 4 ---\n",
            "Q: 공사종류 대분류 '건축', 중분류 '건축물' 공사 중 공종 대분류 '건축', 중분류 '철근콘크리트공사' 작업에서 사고객체 '건설기계'(중분류: '콘크리트펌프')와 관련된 사고가 발생했습니다. 작업 프로세스는 '타설작업'이며, 사고 원인은 '펌프카 아웃트리거 받침목이 이탈하면서 붐대가 쓰러져 콘트리트 타설 작업자 타격'입니다. 재발 방지 대책 및 향후 조치 계획은 무엇인가요?\n",
            "A: 아웃트리거 사용 장비 받침 등 제반 사항의 철저한 확인과 안전사고 발생에 따른 부산지방고용노동청 조치사항 및 유가족 합의사항의 진행상황 확인 예정. ...\n",
            "--- 문서 5 ---\n",
            "Q: 공사종류 대분류 '건축', 중분류 '건축물' 공사 중 공종 대분류 '건축', 중분류 '철근콘크리트공사' 작업에서 사고객체 '건설기계'(중분류: '콘크리트펌프')와 관련된 사고가 발생했습니다. 작업 프로세스는 '타설작업'이며, 사고 원인은 '급하게 이동하다가 펌프카 아웃트리거와 충돌'입니다. 재발 방지 대책 및 향후 조치 계획은 무엇인가요?\n",
            "A: 아웃트리거에 쿠션재 설치와 주의표시, 근로자 이동통로 확보를 통한 재발 방지 대책. ...\n",
            "iter 0 완료 : 28.810957193374634초\n",
            "\n",
            "테스트 실행 완료! 총 결과 수: 1\n"
          ]
        }
      ],
      "source": [
        "# 테스트 실행 및 결과 저장\n",
        "test_results = []\n",
        "\n",
        "print(\"테스트 실행 시작... 총 테스트 샘플 수:\", len(combined_test_data))\n",
        "\n",
        "for idx, row in combined_test_data.iterrows():\n",
        "\n",
        "    t = time.time()\n",
        "    print(f\"\\n[샘플 {idx + 1}/{len(combined_test_data)}] 진행 중...\")\n",
        "    print(row['question'])\n",
        "    # RAG 체인 호출 및 결과 생성\n",
        "    prevention_result = qa_chain.invoke(\n",
        "        row['question'],\n",
        "        # llm_kwargs={\"max_new_tokens\": 50, \"use_cache\": True, \"do_sample\": False}\n",
        "        )\n",
        "\n",
        "    # 결과 저장\n",
        "    result_text = prevention_result['result']\n",
        "    test_results.append(result_text)\n",
        "    print(f\"iter {idx} 완료 : {time.time()-t}초\")\n",
        "\n",
        "\n",
        "    # ---- (추가) 참조된 문서(맥락) 출력 ----\n",
        "    source_docs = prevention_result['source_documents']\n",
        "    print(\"\\n[참조된 문서/맥락]\")\n",
        "    for i, doc in enumerate(source_docs):\n",
        "        # 필요 시 doc에 여러 정보가 있으므로, page_content만 간단히 출력\n",
        "        print(f\"--- 문서 {i+1} ---\")\n",
        "        print(doc.page_content, \"...\")  # 앞부분 500자만 잘라보기 등\n",
        "    \n",
        "    print(f\"iter {idx} 완료 : {time.time()-t}초\")\n",
        "    break\n",
        "\n",
        "print(\"\\n테스트 실행 완료! 총 결과 수:\", len(test_results))"
      ]
    },
    {
      "cell_type": "markdown",
      "id": "e9022911",
      "metadata": {
        "id": "e9022911"
      },
      "source": [
        "# Submission"
      ]
    },
    {
      "cell_type": "code",
      "execution_count": null,
      "id": "178e21c6",
      "metadata": {
        "id": "178e21c6"
      },
      "outputs": [],
      "source": [
        "from sentence_transformers import SentenceTransformer\n",
        "\n",
        "embedding_model_name = \"jhgan/ko-sbert-sts\"\n",
        "embedding = SentenceTransformer(embedding_model_name)\n",
        "\n",
        "# 문장 리스트를 입력하여 임베딩 생성\n",
        "pred_embeddings = embedding.encode(test_results)\n",
        "print(pred_embeddings.shape)  # (샘플 개수, 768)"
      ]
    },
    {
      "cell_type": "code",
      "execution_count": null,
      "id": "ae869742-4a0b-45bc-8a50-e385b67a9030",
      "metadata": {
        "id": "ae869742-4a0b-45bc-8a50-e385b67a9030"
      },
      "outputs": [],
      "source": [
        "submission = pd.read_csv('/workspace/Storage/hansoldeco3/Data/sample_submission.csv', encoding = 'utf-8-sig')\n",
        "\n",
        "# 최종 결과 저장\n",
        "submission.iloc[:,1] = test_results\n",
        "submission.iloc[:,2:] = pred_embeddings\n",
        "submission.head()\n",
        "\n",
        "# 최종 결과를 CSV로 저장\n",
        "submission.to_csv('./baseline_submission.csv', index=False, encoding='utf-8-sig')"
      ]
    }
  ],
  "metadata": {
    "accelerator": "GPU",
    "colab": {
      "gpuType": "T4",
      "provenance": []
    },
    "kernelspec": {
      "display_name": "hansoldeco3",
      "language": "python",
      "name": "hansoldeco3"
    },
    "language_info": {
      "codemirror_mode": {
        "name": "ipython",
        "version": 3
      },
      "file_extension": ".py",
      "mimetype": "text/x-python",
      "name": "python",
      "nbconvert_exporter": "python",
      "pygments_lexer": "ipython3",
      "version": "3.11.11"
    },
    "widgets": {
      "application/vnd.jupyter.widget-state+json": {
        "0a4d918019514ae7bbfc4c94eb1d701f": {
          "model_module": "@jupyter-widgets/controls",
          "model_module_version": "1.5.0",
          "model_name": "HTMLModel",
          "state": {
            "_dom_classes": [],
            "_model_module": "@jupyter-widgets/controls",
            "_model_module_version": "1.5.0",
            "_model_name": "HTMLModel",
            "_view_count": null,
            "_view_module": "@jupyter-widgets/controls",
            "_view_module_version": "1.5.0",
            "_view_name": "HTMLView",
            "description": "",
            "description_tooltip": null,
            "layout": "IPY_MODEL_69e55c9e65534a308e7f73cd58dabd9d",
            "placeholder": "​",
            "style": "IPY_MODEL_77746380b28f47e7af11aae31baed046",
            "value": "Loading checkpoint shards: 100%"
          }
        },
        "2b9e4fc586a2407ba635f71d43848f30": {
          "model_module": "@jupyter-widgets/controls",
          "model_module_version": "1.5.0",
          "model_name": "HBoxModel",
          "state": {
            "_dom_classes": [],
            "_model_module": "@jupyter-widgets/controls",
            "_model_module_version": "1.5.0",
            "_model_name": "HBoxModel",
            "_view_count": null,
            "_view_module": "@jupyter-widgets/controls",
            "_view_module_version": "1.5.0",
            "_view_name": "HBoxView",
            "box_style": "",
            "children": [
              "IPY_MODEL_0a4d918019514ae7bbfc4c94eb1d701f",
              "IPY_MODEL_6897f9c37ad44384b114596a48dde628",
              "IPY_MODEL_45fc8662d4e24fd8bc48ac70e61ad924"
            ],
            "layout": "IPY_MODEL_9c7f083ae939450680c137cd8c10a961"
          }
        },
        "44be7fc920384187836269f9ae923de9": {
          "model_module": "@jupyter-widgets/base",
          "model_module_version": "1.2.0",
          "model_name": "LayoutModel",
          "state": {
            "_model_module": "@jupyter-widgets/base",
            "_model_module_version": "1.2.0",
            "_model_name": "LayoutModel",
            "_view_count": null,
            "_view_module": "@jupyter-widgets/base",
            "_view_module_version": "1.2.0",
            "_view_name": "LayoutView",
            "align_content": null,
            "align_items": null,
            "align_self": null,
            "border": null,
            "bottom": null,
            "display": null,
            "flex": null,
            "flex_flow": null,
            "grid_area": null,
            "grid_auto_columns": null,
            "grid_auto_flow": null,
            "grid_auto_rows": null,
            "grid_column": null,
            "grid_gap": null,
            "grid_row": null,
            "grid_template_areas": null,
            "grid_template_columns": null,
            "grid_template_rows": null,
            "height": null,
            "justify_content": null,
            "justify_items": null,
            "left": null,
            "margin": null,
            "max_height": null,
            "max_width": null,
            "min_height": null,
            "min_width": null,
            "object_fit": null,
            "object_position": null,
            "order": null,
            "overflow": null,
            "overflow_x": null,
            "overflow_y": null,
            "padding": null,
            "right": null,
            "top": null,
            "visibility": null,
            "width": null
          }
        },
        "45fc8662d4e24fd8bc48ac70e61ad924": {
          "model_module": "@jupyter-widgets/controls",
          "model_module_version": "1.5.0",
          "model_name": "HTMLModel",
          "state": {
            "_dom_classes": [],
            "_model_module": "@jupyter-widgets/controls",
            "_model_module_version": "1.5.0",
            "_model_name": "HTMLModel",
            "_view_count": null,
            "_view_module": "@jupyter-widgets/controls",
            "_view_module_version": "1.5.0",
            "_view_name": "HTMLView",
            "description": "",
            "description_tooltip": null,
            "layout": "IPY_MODEL_ad70dfa415ce4f2e8272f838946437c9",
            "placeholder": "​",
            "style": "IPY_MODEL_48f5e671465348d589618fbcea047f07",
            "value": " 4/4 [01:23&lt;00:00, 17.76s/it]"
          }
        },
        "48f5e671465348d589618fbcea047f07": {
          "model_module": "@jupyter-widgets/controls",
          "model_module_version": "1.5.0",
          "model_name": "DescriptionStyleModel",
          "state": {
            "_model_module": "@jupyter-widgets/controls",
            "_model_module_version": "1.5.0",
            "_model_name": "DescriptionStyleModel",
            "_view_count": null,
            "_view_module": "@jupyter-widgets/base",
            "_view_module_version": "1.2.0",
            "_view_name": "StyleView",
            "description_width": ""
          }
        },
        "6897f9c37ad44384b114596a48dde628": {
          "model_module": "@jupyter-widgets/controls",
          "model_module_version": "1.5.0",
          "model_name": "FloatProgressModel",
          "state": {
            "_dom_classes": [],
            "_model_module": "@jupyter-widgets/controls",
            "_model_module_version": "1.5.0",
            "_model_name": "FloatProgressModel",
            "_view_count": null,
            "_view_module": "@jupyter-widgets/controls",
            "_view_module_version": "1.5.0",
            "_view_name": "ProgressView",
            "bar_style": "success",
            "description": "",
            "description_tooltip": null,
            "layout": "IPY_MODEL_44be7fc920384187836269f9ae923de9",
            "max": 4,
            "min": 0,
            "orientation": "horizontal",
            "style": "IPY_MODEL_d98c24507e604efbbb9a24fcf346ab5a",
            "value": 4
          }
        },
        "69e55c9e65534a308e7f73cd58dabd9d": {
          "model_module": "@jupyter-widgets/base",
          "model_module_version": "1.2.0",
          "model_name": "LayoutModel",
          "state": {
            "_model_module": "@jupyter-widgets/base",
            "_model_module_version": "1.2.0",
            "_model_name": "LayoutModel",
            "_view_count": null,
            "_view_module": "@jupyter-widgets/base",
            "_view_module_version": "1.2.0",
            "_view_name": "LayoutView",
            "align_content": null,
            "align_items": null,
            "align_self": null,
            "border": null,
            "bottom": null,
            "display": null,
            "flex": null,
            "flex_flow": null,
            "grid_area": null,
            "grid_auto_columns": null,
            "grid_auto_flow": null,
            "grid_auto_rows": null,
            "grid_column": null,
            "grid_gap": null,
            "grid_row": null,
            "grid_template_areas": null,
            "grid_template_columns": null,
            "grid_template_rows": null,
            "height": null,
            "justify_content": null,
            "justify_items": null,
            "left": null,
            "margin": null,
            "max_height": null,
            "max_width": null,
            "min_height": null,
            "min_width": null,
            "object_fit": null,
            "object_position": null,
            "order": null,
            "overflow": null,
            "overflow_x": null,
            "overflow_y": null,
            "padding": null,
            "right": null,
            "top": null,
            "visibility": null,
            "width": null
          }
        },
        "77746380b28f47e7af11aae31baed046": {
          "model_module": "@jupyter-widgets/controls",
          "model_module_version": "1.5.0",
          "model_name": "DescriptionStyleModel",
          "state": {
            "_model_module": "@jupyter-widgets/controls",
            "_model_module_version": "1.5.0",
            "_model_name": "DescriptionStyleModel",
            "_view_count": null,
            "_view_module": "@jupyter-widgets/base",
            "_view_module_version": "1.2.0",
            "_view_name": "StyleView",
            "description_width": ""
          }
        },
        "9c7f083ae939450680c137cd8c10a961": {
          "model_module": "@jupyter-widgets/base",
          "model_module_version": "1.2.0",
          "model_name": "LayoutModel",
          "state": {
            "_model_module": "@jupyter-widgets/base",
            "_model_module_version": "1.2.0",
            "_model_name": "LayoutModel",
            "_view_count": null,
            "_view_module": "@jupyter-widgets/base",
            "_view_module_version": "1.2.0",
            "_view_name": "LayoutView",
            "align_content": null,
            "align_items": null,
            "align_self": null,
            "border": null,
            "bottom": null,
            "display": null,
            "flex": null,
            "flex_flow": null,
            "grid_area": null,
            "grid_auto_columns": null,
            "grid_auto_flow": null,
            "grid_auto_rows": null,
            "grid_column": null,
            "grid_gap": null,
            "grid_row": null,
            "grid_template_areas": null,
            "grid_template_columns": null,
            "grid_template_rows": null,
            "height": null,
            "justify_content": null,
            "justify_items": null,
            "left": null,
            "margin": null,
            "max_height": null,
            "max_width": null,
            "min_height": null,
            "min_width": null,
            "object_fit": null,
            "object_position": null,
            "order": null,
            "overflow": null,
            "overflow_x": null,
            "overflow_y": null,
            "padding": null,
            "right": null,
            "top": null,
            "visibility": null,
            "width": null
          }
        },
        "ad70dfa415ce4f2e8272f838946437c9": {
          "model_module": "@jupyter-widgets/base",
          "model_module_version": "1.2.0",
          "model_name": "LayoutModel",
          "state": {
            "_model_module": "@jupyter-widgets/base",
            "_model_module_version": "1.2.0",
            "_model_name": "LayoutModel",
            "_view_count": null,
            "_view_module": "@jupyter-widgets/base",
            "_view_module_version": "1.2.0",
            "_view_name": "LayoutView",
            "align_content": null,
            "align_items": null,
            "align_self": null,
            "border": null,
            "bottom": null,
            "display": null,
            "flex": null,
            "flex_flow": null,
            "grid_area": null,
            "grid_auto_columns": null,
            "grid_auto_flow": null,
            "grid_auto_rows": null,
            "grid_column": null,
            "grid_gap": null,
            "grid_row": null,
            "grid_template_areas": null,
            "grid_template_columns": null,
            "grid_template_rows": null,
            "height": null,
            "justify_content": null,
            "justify_items": null,
            "left": null,
            "margin": null,
            "max_height": null,
            "max_width": null,
            "min_height": null,
            "min_width": null,
            "object_fit": null,
            "object_position": null,
            "order": null,
            "overflow": null,
            "overflow_x": null,
            "overflow_y": null,
            "padding": null,
            "right": null,
            "top": null,
            "visibility": null,
            "width": null
          }
        },
        "d98c24507e604efbbb9a24fcf346ab5a": {
          "model_module": "@jupyter-widgets/controls",
          "model_module_version": "1.5.0",
          "model_name": "ProgressStyleModel",
          "state": {
            "_model_module": "@jupyter-widgets/controls",
            "_model_module_version": "1.5.0",
            "_model_name": "ProgressStyleModel",
            "_view_count": null,
            "_view_module": "@jupyter-widgets/base",
            "_view_module_version": "1.2.0",
            "_view_name": "StyleView",
            "bar_color": null,
            "description_width": ""
          }
        }
      }
    }
  },
  "nbformat": 4,
  "nbformat_minor": 5
}
