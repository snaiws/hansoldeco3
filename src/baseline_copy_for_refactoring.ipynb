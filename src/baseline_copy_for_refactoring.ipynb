{
  "cells": [
    {
      "cell_type": "markdown",
      "id": "e50eee59-b527-44e0-afa8-7e4ee190affb",
      "metadata": {
        "id": "e50eee59-b527-44e0-afa8-7e4ee190affb"
      },
      "source": [
        "# Import"
      ]
    },
    {
      "cell_type": "code",
      "execution_count": null,
      "id": "331a1009",
      "metadata": {},
      "outputs": [
        {
          "name": "stderr",
          "output_type": "stream",
          "text": [
            "/home/container_user/.cache/pypoetry/virtualenvs/hansoldeco3-QckXwucX-py3.11/lib/python3.11/site-packages/tqdm/auto.py:21: TqdmWarning: IProgress not found. Please update jupyter and ipywidgets. See https://ipywidgets.readthedocs.io/en/stable/user_install.html\n",
            "  from .autonotebook import tqdm as notebook_tqdm\n"
          ]
        }
      ],
      "source": [
        "import os\n",
        "\n",
        "from langchain.chains import RetrievalQA\n",
        "from langchain.prompts import PromptTemplate\n",
        "import pandas as pd\n",
        "\n",
        "from configs import build_exp, EnvDefineUnit\n",
        "from data_engineering.dataset.precendent import CSVPrecendentDataset, install_pipeline\n",
        "from data_engineering.prompt_engineering.LLM_template import get_prompt_template\n",
        "from data_engineering.prompt_engineering.precendent_to_docs import get_prompt_precendent\n",
        "from data_engineering.prompt_engineering.precendent_to_question import get_prompt_question\n",
        "from data_engineering.dataset.guideline import PDFDataset\n",
        "from data_engineering.RAG import build_vectorstore\n",
        "from model.LLM import load_LLM"
      ]
    },
    {
      "cell_type": "code",
      "execution_count": 2,
      "id": "9e1587b1",
      "metadata": {},
      "outputs": [],
      "source": [
        "env = EnvDefineUnit()\n",
        "config_exp = build_exp('exp_1')\n",
        "# 경로\n",
        "path_train = os.path.join(env.PATH_DATA_DIR, config_exp.train)\n",
        "path_test = os.path.join(env.PATH_DATA_DIR, config_exp.test)\n",
        "paths_pdf = os.path.join(env.PATH_DATA_DIR, 'raw', '건설안전지침')\n",
        "paths_pdf = [os.path.join(paths_pdf, x) for x in os.listdir(paths_pdf)]\n"
      ]
    },
    {
      "cell_type": "code",
      "execution_count": 3,
      "id": "9a51a48a",
      "metadata": {},
      "outputs": [],
      "source": [
        "# 실험 파라미터\n",
        "encoding = config_exp.data_encoding\n",
        "pipeline = config_exp.data_pipeline\n",
        "prompt_template = config_exp.prompt_template\n",
        "chain_type1 = config_exp.RAG_chain_type1\n",
        "chain_type2 = config_exp.RAG_chain_type2\n",
        "model_name = config_exp.model_name\n",
        "temperature = config_exp.temperature\n",
        "top_p = config_exp.top_p\n",
        "top_k = config_exp.top_k\n",
        "max_new_tokens = config_exp.max_new_tokens"
      ]
    },
    {
      "cell_type": "code",
      "execution_count": 4,
      "id": "9ba2b345",
      "metadata": {},
      "outputs": [],
      "source": [
        "model_params = {\n",
        "    \"model_name\":model_name,\n",
        "    \"temperature\":temperature,\n",
        "    \"top_p\" :top_p,\n",
        "    \"top_k\":top_k,\n",
        "    \"max_new_tokens\":max_new_tokens\n",
        "}"
      ]
    },
    {
      "cell_type": "code",
      "execution_count": null,
      "id": "3af6d28e",
      "metadata": {},
      "outputs": [
        {
          "data": {
            "text/plain": [
              "{'model_name': 'NCSOFT/Llama-VARCO-8B-Instruct',\n",
              " 'temperature': 0.1,\n",
              " 'top_p': (1.0,),\n",
              " 'top_k': (-1,),\n",
              " 'max_new_tokens': 64}"
            ]
          },
          "execution_count": 5,
          "metadata": {},
          "output_type": "execute_result"
        }
      ],
      "source": [
        "model_params"
      ]
    },
    {
      "cell_type": "markdown",
      "id": "37f4223e-111b-49a8-a716-5f98caacf12f",
      "metadata": {
        "id": "37f4223e-111b-49a8-a716-5f98caacf12f"
      },
      "source": [
        "# Data Load & Pre-processing"
      ]
    },
    {
      "cell_type": "code",
      "execution_count": 4,
      "id": "11bced36",
      "metadata": {},
      "outputs": [],
      "source": [
        "pipeline = install_pipeline(pipeline)"
      ]
    },
    {
      "cell_type": "code",
      "execution_count": 5,
      "id": "579d1ec1",
      "metadata": {},
      "outputs": [],
      "source": [
        "# 데이터 로드\n",
        "test_data = pd.read_csv(path_test, encoding = encoding)\n",
        "precendent = pd.read_csv(path_train, encoding = encoding)\n",
        "guidelines = PDFDataset(paths_pdf)\n",
        "\n",
        "test_data = pipeline(test_data)\n",
        "precendent = pipeline(precendent)\n",
        "\n",
        "precendents = []\n",
        "for i, row in precendent.iterrows():\n",
        "    prec = get_prompt_precendent(row)\n",
        "    precendents.append(prec)"
      ]
    },
    {
      "cell_type": "markdown",
      "id": "021ff667",
      "metadata": {
        "id": "021ff667"
      },
      "source": [
        "# Vector store 생성"
      ]
    },
    {
      "cell_type": "code",
      "execution_count": 6,
      "id": "4a7fe021",
      "metadata": {},
      "outputs": [
        {
          "name": "stderr",
          "output_type": "stream",
          "text": [
            "/workspace/Projects/hansoldeco3/src/data_engineering/RAG.py:24: LangChainDeprecationWarning: The class `HuggingFaceEmbeddings` was deprecated in LangChain 0.2.2 and will be removed in 1.0. An updated version of the class exists in the :class:`~langchain-huggingface package and should be used instead. To use it run `pip install -U :class:`~langchain-huggingface` and import as `from :class:`~langchain_huggingface import HuggingFaceEmbeddings``.\n",
            "  embedding = HuggingFaceEmbeddings(model_name=embedding_model_name)\n",
            "23322it [00:00, 2995637.84it/s]\n"
          ]
        },
        {
          "name": "stdout",
          "output_type": "stream",
          "text": [
            "벡터스토어 생성 완료\n",
            "벡터스토어 생성 완료\n"
          ]
        }
      ],
      "source": [
        "# 벡터스토어 생성\n",
        "retriever_precendent = build_vectorstore(precendents)\n",
        "print(\"벡터스토어 생성 완료\")\n",
        "\n",
        "# retriever_guidelines = build_vectorstore(guidelines)\n",
        "\n",
        "print(\"벡터스토어 생성 완료\")\n",
        "# 템플릿 프롬프트\n",
        "prompt_template = get_prompt_template(exp = prompt_template)\n",
        "prompt = PromptTemplate(\n",
        "    input_variables=[\"context\", \"question\"],\n",
        "    template=prompt_template.template,\n",
        ")"
      ]
    },
    {
      "cell_type": "markdown",
      "id": "45bea209-6521-4974-a785-c2faf5af427c",
      "metadata": {
        "id": "45bea209-6521-4974-a785-c2faf5af427c"
      },
      "source": [
        "# Model import"
      ]
    },
    {
      "cell_type": "code",
      "execution_count": 7,
      "id": "5afd3c47",
      "metadata": {},
      "outputs": [
        {
          "name": "stderr",
          "output_type": "stream",
          "text": [
            "2025-03-07 09:24:49,736\tINFO util.py:154 -- Missing packages: ['ipywidgets']. Run `pip install -U ipywidgets`, then restart the notebook server for rich notebook output.\n"
          ]
        },
        {
          "name": "stdout",
          "output_type": "stream",
          "text": [
            "INFO 03-07 09:24:49 __init__.py:207] Automatically detected platform cuda.\n",
            "WARNING 03-07 09:24:50 config.py:2448] Casting torch.bfloat16 to torch.float16.\n",
            "INFO 03-07 09:24:55 config.py:549] This model supports multiple tasks: {'classify', 'score', 'generate', 'reward', 'embed'}. Defaulting to 'generate'.\n",
            "WARNING 03-07 09:24:55 config.py:628] bitsandbytes quantization is not fully optimized yet. The speed can be slower than non-quantized models.\n",
            "INFO 03-07 09:24:56 llm_engine.py:234] Initializing a V0 LLM engine (v0.7.3) with config: model='NCSOFT/Llama-VARCO-8B-Instruct', speculative_config=None, tokenizer='NCSOFT/Llama-VARCO-8B-Instruct', skip_tokenizer_init=False, tokenizer_mode=auto, revision=None, override_neuron_config=None, tokenizer_revision=None, trust_remote_code=False, dtype=torch.float16, max_seq_len=8192, download_dir=None, load_format=LoadFormat.BITSANDBYTES, tensor_parallel_size=1, pipeline_parallel_size=1, disable_custom_all_reduce=False, quantization=bitsandbytes, enforce_eager=False, kv_cache_dtype=auto,  device_config=cuda, decoding_config=DecodingConfig(guided_decoding_backend='xgrammar'), observability_config=ObservabilityConfig(otlp_traces_endpoint=None, collect_model_forward_time=False, collect_model_execute_time=False), seed=0, served_model_name=NCSOFT/Llama-VARCO-8B-Instruct, num_scheduler_steps=1, multi_step_stream_outputs=True, enable_prefix_caching=False, chunked_prefill_enabled=False, use_async_output_proc=True, disable_mm_preprocessor_cache=False, mm_processor_kwargs=None, pooler_config=None, compilation_config={\"splitting_ops\":[],\"compile_sizes\":[],\"cudagraph_capture_sizes\":[256,248,240,232,224,216,208,200,192,184,176,168,160,152,144,136,128,120,112,104,96,88,80,72,64,56,48,40,32,24,16,8,4,2,1],\"max_capture_size\":256}, use_cached_outputs=False, \n",
            "WARNING 03-07 09:24:57 interface.py:304] Using 'pin_memory=False' as WSL is detected. This may slow down the performance.\n",
            "INFO 03-07 09:24:57 cuda.py:229] Using Flash Attention backend.\n",
            "INFO 03-07 09:24:58 model_runner.py:1110] Starting to load model NCSOFT/Llama-VARCO-8B-Instruct...\n",
            "INFO 03-07 09:24:58 loader.py:1089] Loading weights with BitsAndBytes quantization.  May take a while ...\n",
            "INFO 03-07 09:24:58 weight_utils.py:254] Using model weights format ['*.safetensors']\n"
          ]
        },
        {
          "name": "stderr",
          "output_type": "stream",
          "text": [
            "Loading safetensors checkpoint shards:   0% Completed | 0/4 [00:00<?, ?it/s]\n",
            "Loading safetensors checkpoint shards:  25% Completed | 1/4 [00:01<00:03,  1.00s/it]\n",
            "Loading safetensors checkpoint shards:  50% Completed | 2/4 [00:05<00:05,  2.96s/it]\n",
            "Loading safetensors checkpoint shards:  75% Completed | 3/4 [00:09<00:03,  3.42s/it]\n",
            "Loading safetensors checkpoint shards: 100% Completed | 4/4 [00:13<00:00,  3.73s/it]\n",
            "Loading safetensors checkpoint shards: 100% Completed | 4/4 [00:13<00:00,  3.38s/it]\n",
            "\n"
          ]
        },
        {
          "name": "stdout",
          "output_type": "stream",
          "text": [
            "INFO 03-07 09:25:12 model_runner.py:1115] Loading model weights took 5.3129 GB\n",
            "INFO 03-07 09:25:15 worker.py:267] Memory profiling takes 2.42 seconds\n",
            "INFO 03-07 09:25:15 worker.py:267] the current vLLM instance can use total_gpu_memory (10.00GiB) x gpu_memory_utilization (0.90) = 9.00GiB\n",
            "INFO 03-07 09:25:15 worker.py:267] model weights take 5.31GiB; non_torch_memory takes 0.01GiB; PyTorch activation peak memory takes 1.22GiB; the rest of the memory reserved for KV Cache is 2.45GiB.\n",
            "INFO 03-07 09:25:15 executor_base.py:111] # cuda blocks: 1254, # CPU blocks: 2048\n",
            "INFO 03-07 09:25:15 executor_base.py:116] Maximum concurrency for 8192 tokens per request: 2.45x\n",
            "INFO 03-07 09:25:15 model_runner.py:1434] Capturing cudagraphs for decoding. This may lead to unexpected consequences if the model is not static. To run the model in eager mode, set 'enforce_eager=True' or use '--enforce-eager' in the CLI. If out-of-memory error occurs during cudagraph capture, consider decreasing `gpu_memory_utilization` or switching to eager mode. You can also reduce the `max_num_seqs` as needed to decrease memory usage.\n"
          ]
        },
        {
          "name": "stderr",
          "output_type": "stream",
          "text": [
            "Capturing CUDA graph shapes: 100%|██████████| 35/35 [00:22<00:00,  1.53it/s]"
          ]
        },
        {
          "name": "stdout",
          "output_type": "stream",
          "text": [
            "INFO 03-07 09:25:38 model_runner.py:1562] Graph capturing finished in 20 secs, took 0.52 GiB\n",
            "INFO 03-07 09:25:38 llm_engine.py:436] init engine (profile, create kv cache, warmup model) took 26.11 seconds\n",
            "모델로드완료\n"
          ]
        },
        {
          "name": "stderr",
          "output_type": "stream",
          "text": [
            "\n"
          ]
        }
      ],
      "source": [
        "\n",
        "# LLM 모델 로드\n",
        "llm = load_LLM('load_vllm', model_params)\n",
        "print(\"모델로드완료\")"
      ]
    },
    {
      "cell_type": "markdown",
      "id": "2533fc9f",
      "metadata": {
        "id": "2533fc9f"
      },
      "source": [
        "# RAG chain 생성"
      ]
    },
    {
      "cell_type": "code",
      "execution_count": null,
      "id": "51b09d51",
      "metadata": {},
      "outputs": [],
      "source": [
        "# RAG 체인 (DF 기반)\n",
        "chain_df = RetrievalQA.from_chain_type(\n",
        "    llm=llm,\n",
        "    chain_type=chain_type1,\n",
        "    retriever=retriever_precendent,\n",
        "    return_source_documents=True,\n",
        "    chain_type_kwargs={\"prompt\": prompt}\n",
        ")"
      ]
    },
    {
      "cell_type": "markdown",
      "id": "7b0b3640-3968-4c2b-a7d4-30f586fadd66",
      "metadata": {
        "id": "7b0b3640-3968-4c2b-a7d4-30f586fadd66"
      },
      "source": [
        "# Inference"
      ]
    },
    {
      "cell_type": "code",
      "execution_count": null,
      "id": "017d6fdf",
      "metadata": {},
      "outputs": [],
      "source": [
        "from tqdm import tqdm"
      ]
    },
    {
      "cell_type": "code",
      "execution_count": null,
      "id": "590331a4-75f0-4012-8f45-8f2652772c43",
      "metadata": {
        "colab": {
          "base_uri": "https://localhost:8080/",
          "height": 577
        },
        "id": "590331a4-75f0-4012-8f45-8f2652772c43",
        "outputId": "f81e62f7-31eb-4d7a-c4bb-091347bfa72b"
      },
      "outputs": [
        {
          "name": "stderr",
          "output_type": "stream",
          "text": [
            "Processed prompts: 100%|██████████| 1/1 [00:01<00:00,  1.27s/it, est. speed input: 896.94 toks/s, output: 50.40 toks/s]\n",
            "Processed prompts: 100%|██████████| 1/1 [00:01<00:00,  1.49s/it, est. speed input: 828.30 toks/s, output: 43.03 toks/s]\n",
            "Processed prompts: 100%|██████████| 1/1 [00:01<00:00,  1.35s/it, est. speed input: 825.01 toks/s, output: 47.31 toks/s]\n",
            "Processed prompts: 100%|██████████| 1/1 [00:01<00:00,  1.37s/it, est. speed input: 767.59 toks/s, output: 46.87 toks/s]\n",
            "Processed prompts: 100%|██████████| 1/1 [00:03<00:00,  3.69s/it, est. speed input: 329.22 toks/s, output: 17.34 toks/s]\n",
            "Processed prompts: 100%|██████████| 1/1 [00:01<00:00,  1.46s/it, est. speed input: 877.44 toks/s, output: 43.80 toks/s]\n",
            "Processed prompts: 100%|██████████| 1/1 [00:01<00:00,  1.38s/it, est. speed input: 800.48 toks/s, output: 46.49 toks/s]\n",
            "Processed prompts: 100%|██████████| 1/1 [00:01<00:00,  1.47s/it, est. speed input: 974.37 toks/s, output: 43.58 toks/s]\n",
            "Processed prompts: 100%|██████████| 1/1 [00:01<00:00,  1.32s/it, est. speed input: 707.70 toks/s, output: 48.65 toks/s]\n",
            "Processed prompts: 100%|██████████| 1/1 [00:01<00:00,  1.40s/it, est. speed input: 841.38 toks/s, output: 45.67 toks/s]\n",
            "Processed prompts: 100%|██████████| 1/1 [00:01<00:00,  1.39s/it, est. speed input: 853.50 toks/s, output: 46.17 toks/s]\n",
            "Processed prompts: 100%|██████████| 1/1 [00:01<00:00,  1.43s/it, est. speed input: 769.03 toks/s, output: 44.82 toks/s]\n",
            "Processed prompts: 100%|██████████| 1/1 [00:01<00:00,  1.40s/it, est. speed input: 762.98 toks/s, output: 45.81 toks/s]\n",
            "Processed prompts: 100%|██████████| 1/1 [00:01<00:00,  1.37s/it, est. speed input: 674.18 toks/s, output: 46.80 toks/s]\n",
            "Processed prompts: 100%|██████████| 1/1 [00:01<00:00,  1.42s/it, est. speed input: 744.25 toks/s, output: 45.15 toks/s]\n",
            "Processed prompts: 100%|██████████| 1/1 [00:01<00:00,  1.47s/it, est. speed input: 1024.82 toks/s, output: 43.46 toks/s]\n",
            "Processed prompts: 100%|██████████| 1/1 [00:01<00:00,  1.35s/it, est. speed input: 713.61 toks/s, output: 47.52 toks/s]\n",
            "Processed prompts: 100%|██████████| 1/1 [00:01<00:00,  1.37s/it, est. speed input: 778.87 toks/s, output: 46.63 toks/s]\n",
            "Processed prompts: 100%|██████████| 1/1 [00:01<00:00,  1.36s/it, est. speed input: 858.39 toks/s, output: 47.24 toks/s]\n",
            "Processed prompts: 100%|██████████| 1/1 [00:01<00:00,  1.40s/it, est. speed input: 735.38 toks/s, output: 45.92 toks/s]\n",
            "Processed prompts: 100%|██████████| 1/1 [00:01<00:00,  1.36s/it, est. speed input: 842.32 toks/s, output: 47.20 toks/s]\n",
            "Processed prompts: 100%|██████████| 1/1 [00:01<00:00,  1.33s/it, est. speed input: 691.37 toks/s, output: 48.25 toks/s]\n",
            "Processed prompts: 100%|██████████| 1/1 [00:01<00:00,  1.43s/it, est. speed input: 957.99 toks/s, output: 44.82 toks/s]\n",
            "Processed prompts: 100%|██████████| 1/1 [00:01<00:00,  1.34s/it, est. speed input: 729.98 toks/s, output: 47.97 toks/s]\n",
            "Processed prompts: 100%|██████████| 1/1 [00:01<00:00,  1.38s/it, est. speed input: 842.39 toks/s, output: 46.60 toks/s]\n",
            "Processed prompts: 100%|██████████| 1/1 [00:01<00:00,  1.29s/it, est. speed input: 633.02 toks/s, output: 49.65 toks/s]\n",
            "Processed prompts: 100%|██████████| 1/1 [00:01<00:00,  1.44s/it, est. speed input: 771.67 toks/s, output: 44.45 toks/s]\n",
            "Processed prompts: 100%|██████████| 1/1 [00:03<00:00,  3.81s/it, est. speed input: 282.55 toks/s, output: 16.82 toks/s]\n",
            "Processed prompts: 100%|██████████| 1/1 [00:01<00:00,  1.46s/it, est. speed input: 857.80 toks/s, output: 43.81 toks/s]\n",
            "Processed prompts: 100%|██████████| 1/1 [00:01<00:00,  1.44s/it, est. speed input: 884.30 toks/s, output: 44.60 toks/s]\n",
            "Processed prompts: 100%|██████████| 1/1 [00:01<00:00,  1.42s/it, est. speed input: 745.37 toks/s, output: 45.17 toks/s]\n",
            "Processed prompts: 100%|██████████| 1/1 [00:01<00:00,  1.45s/it, est. speed input: 867.88 toks/s, output: 44.22 toks/s]\n",
            "Processed prompts: 100%|██████████| 1/1 [00:01<00:00,  1.42s/it, est. speed input: 859.54 toks/s, output: 45.20 toks/s]\n",
            "Processed prompts: 100%|██████████| 1/1 [00:01<00:00,  1.43s/it, est. speed input: 952.52 toks/s, output: 44.86 toks/s]\n",
            "Processed prompts: 100%|██████████| 1/1 [00:01<00:00,  1.38s/it, est. speed input: 887.68 toks/s, output: 46.30 toks/s]\n",
            "Processed prompts: 100%|██████████| 1/1 [00:01<00:00,  1.41s/it, est. speed input: 851.16 toks/s, output: 45.39 toks/s]\n",
            "Processed prompts: 100%|██████████| 1/1 [00:01<00:00,  1.30s/it, est. speed input: 781.57 toks/s, output: 49.38 toks/s]\n",
            "Processed prompts: 100%|██████████| 1/1 [00:01<00:00,  1.33s/it, est. speed input: 696.10 toks/s, output: 48.16 toks/s]\n",
            "Processed prompts: 100%|██████████| 1/1 [00:01<00:00,  1.43s/it, est. speed input: 819.88 toks/s, output: 44.73 toks/s]\n",
            "Processed prompts: 100%|██████████| 1/1 [00:01<00:00,  1.42s/it, est. speed input: 790.36 toks/s, output: 45.08 toks/s]\n",
            "Processed prompts: 100%|██████████| 1/1 [00:01<00:00,  1.43s/it, est. speed input: 915.71 toks/s, output: 44.77 toks/s]\n",
            "Processed prompts: 100%|██████████| 1/1 [00:01<00:00,  1.46s/it, est. speed input: 917.22 toks/s, output: 43.81 toks/s]\n",
            "Processed prompts: 100%|██████████| 1/1 [00:01<00:00,  1.45s/it, est. speed input: 978.20 toks/s, output: 44.31 toks/s]\n",
            "Processed prompts: 100%|██████████| 1/1 [00:01<00:00,  1.41s/it, est. speed input: 765.15 toks/s, output: 45.34 toks/s]\n",
            "Processed prompts: 100%|██████████| 1/1 [00:01<00:00,  1.45s/it, est. speed input: 821.04 toks/s, output: 44.16 toks/s]\n",
            "Processed prompts: 100%|██████████| 1/1 [00:01<00:00,  1.37s/it, est. speed input: 852.70 toks/s, output: 46.92 toks/s]\n",
            "Processed prompts: 100%|██████████| 1/1 [00:01<00:00,  1.42s/it, est. speed input: 906.38 toks/s, output: 45.18 toks/s]\n",
            "Processed prompts: 100%|██████████| 1/1 [00:01<00:00,  1.32s/it, est. speed input: 770.36 toks/s, output: 48.53 toks/s]\n",
            "Processed prompts: 100%|██████████| 1/1 [00:01<00:00,  1.41s/it, est. speed input: 756.04 toks/s, output: 45.43 toks/s]\n",
            "Processed prompts: 100%|██████████| 1/1 [00:01<00:00,  1.43s/it, est. speed input: 846.45 toks/s, output: 44.77 toks/s]\n",
            "Processed prompts: 100%|██████████| 1/1 [00:04<00:00,  4.13s/it, est. speed input: 262.63 toks/s, output: 15.52 toks/s]\n",
            "Processed prompts: 100%|██████████| 1/1 [00:01<00:00,  1.48s/it, est. speed input: 768.50 toks/s, output: 43.26 toks/s]\n",
            "Processed prompts: 100%|██████████| 1/1 [00:01<00:00,  1.47s/it, est. speed input: 865.86 toks/s, output: 43.46 toks/s]\n",
            "Processed prompts: 100%|██████████| 1/1 [00:01<00:00,  1.48s/it, est. speed input: 800.26 toks/s, output: 43.40 toks/s]\n",
            "Processed prompts: 100%|██████████| 1/1 [00:01<00:00,  1.43s/it, est. speed input: 831.35 toks/s, output: 44.82 toks/s]\n",
            "Processed prompts: 100%|██████████| 1/1 [00:01<00:00,  1.45s/it, est. speed input: 849.24 toks/s, output: 44.26 toks/s]\n",
            "Processed prompts: 100%|██████████| 1/1 [00:01<00:00,  1.42s/it, est. speed input: 874.78 toks/s, output: 45.26 toks/s]\n",
            "Processed prompts: 100%|██████████| 1/1 [00:01<00:00,  1.43s/it, est. speed input: 770.36 toks/s, output: 44.82 toks/s]\n",
            "Processed prompts: 100%|██████████| 1/1 [00:01<00:00,  1.41s/it, est. speed input: 772.44 toks/s, output: 45.31 toks/s]\n",
            "Processed prompts: 100%|██████████| 1/1 [00:01<00:00,  1.44s/it, est. speed input: 821.77 toks/s, output: 44.53 toks/s]\n",
            "Processed prompts: 100%|██████████| 1/1 [00:01<00:00,  1.41s/it, est. speed input: 758.50 toks/s, output: 45.50 toks/s]\n",
            "Processed prompts: 100%|██████████| 1/1 [00:01<00:00,  1.31s/it, est. speed input: 756.15 toks/s, output: 48.78 toks/s]\n",
            "Processed prompts: 100%|██████████| 1/1 [00:01<00:00,  1.48s/it, est. speed input: 1121.08 toks/s, output: 43.22 toks/s]\n",
            "Processed prompts: 100%|██████████| 1/1 [00:01<00:00,  1.36s/it, est. speed input: 812.53 toks/s, output: 46.97 toks/s]\n",
            "Processed prompts: 100%|██████████| 1/1 [00:01<00:00,  1.39s/it, est. speed input: 745.23 toks/s, output: 46.08 toks/s]\n",
            "Processed prompts: 100%|██████████| 1/1 [00:01<00:00,  1.42s/it, est. speed input: 869.38 toks/s, output: 45.02 toks/s]\n",
            "Processed prompts: 100%|██████████| 1/1 [00:01<00:00,  1.39s/it, est. speed input: 839.25 toks/s, output: 45.99 toks/s]\n",
            "Processed prompts: 100%|██████████| 1/1 [00:01<00:00,  1.36s/it, est. speed input: 766.37 toks/s, output: 47.12 toks/s]\n",
            "Processed prompts: 100%|██████████| 1/1 [00:01<00:00,  1.40s/it, est. speed input: 835.16 toks/s, output: 45.64 toks/s]\n",
            "Processed prompts: 100%|██████████| 1/1 [00:01<00:00,  1.35s/it, est. speed input: 823.37 toks/s, output: 47.43 toks/s]\n",
            "Processed prompts: 100%|██████████| 1/1 [00:01<00:00,  1.40s/it, est. speed input: 797.42 toks/s, output: 45.65 toks/s]\n",
            "Processed prompts: 100%|██████████| 1/1 [00:01<00:00,  1.31s/it, est. speed input: 616.12 toks/s, output: 48.74 toks/s]\n",
            "Processed prompts: 100%|██████████| 1/1 [00:04<00:00,  4.02s/it, est. speed input: 272.95 toks/s, output: 15.94 toks/s]\n",
            "Processed prompts: 100%|██████████| 1/1 [00:01<00:00,  1.39s/it, est. speed input: 852.52 toks/s, output: 46.00 toks/s]\n",
            "Processed prompts: 100%|██████████| 1/1 [00:01<00:00,  1.37s/it, est. speed input: 794.52 toks/s, output: 46.82 toks/s]\n",
            "Processed prompts: 100%|██████████| 1/1 [00:01<00:00,  1.39s/it, est. speed input: 631.07 toks/s, output: 46.05 toks/s]\n",
            "Processed prompts: 100%|██████████| 1/1 [00:01<00:00,  1.55s/it, est. speed input: 727.02 toks/s, output: 41.32 toks/s]\n",
            "Processed prompts: 100%|██████████| 1/1 [00:01<00:00,  1.51s/it, est. speed input: 903.88 toks/s, output: 42.47 toks/s]\n",
            "Processed prompts: 100%|██████████| 1/1 [00:01<00:00,  1.47s/it, est. speed input: 982.51 toks/s, output: 43.73 toks/s]\n",
            "Processed prompts: 100%|██████████| 1/1 [00:01<00:00,  1.42s/it, est. speed input: 828.81 toks/s, output: 45.26 toks/s]\n",
            "Processed prompts: 100%|██████████| 1/1 [00:01<00:00,  1.40s/it, est. speed input: 782.24 toks/s, output: 45.76 toks/s]\n",
            "Processed prompts: 100%|██████████| 1/1 [00:01<00:00,  1.35s/it, est. speed input: 830.21 toks/s, output: 47.57 toks/s]\n",
            "Processed prompts: 100%|██████████| 1/1 [00:01<00:00,  1.44s/it, est. speed input: 895.16 toks/s, output: 44.44 toks/s]\n",
            "Processed prompts: 100%|██████████| 1/1 [00:01<00:00,  1.34s/it, est. speed input: 727.01 toks/s, output: 47.82 toks/s]\n",
            "Processed prompts: 100%|██████████| 1/1 [00:01<00:00,  1.41s/it, est. speed input: 845.63 toks/s, output: 45.48 toks/s]\n",
            "Processed prompts: 100%|██████████| 1/1 [00:01<00:00,  1.31s/it, est. speed input: 703.55 toks/s, output: 48.89 toks/s]\n",
            "Processed prompts: 100%|██████████| 1/1 [00:01<00:00,  1.38s/it, est. speed input: 823.52 toks/s, output: 46.56 toks/s]\n",
            "Processed prompts: 100%|██████████| 1/1 [00:01<00:00,  1.39s/it, est. speed input: 779.84 toks/s, output: 46.21 toks/s]\n",
            "Processed prompts: 100%|██████████| 1/1 [00:01<00:00,  1.41s/it, est. speed input: 813.47 toks/s, output: 45.43 toks/s]\n",
            "Processed prompts: 100%|██████████| 1/1 [00:01<00:00,  1.35s/it, est. speed input: 743.51 toks/s, output: 47.54 toks/s]\n",
            "Processed prompts: 100%|██████████| 1/1 [00:01<00:00,  1.32s/it, est. speed input: 846.12 toks/s, output: 48.39 toks/s]\n",
            "Processed prompts: 100%|██████████| 1/1 [00:01<00:00,  1.39s/it, est. speed input: 812.15 toks/s, output: 46.24 toks/s]\n",
            "Processed prompts: 100%|██████████| 1/1 [00:01<00:00,  1.38s/it, est. speed input: 817.36 toks/s, output: 46.58 toks/s]\n",
            "Processed prompts: 100%|██████████| 1/1 [00:01<00:00,  1.39s/it, est. speed input: 783.93 toks/s, output: 46.07 toks/s]\n",
            "Processed prompts: 100%|██████████| 1/1 [00:01<00:00,  1.34s/it, est. speed input: 764.24 toks/s, output: 47.86 toks/s]\n",
            "Processed prompts: 100%|██████████| 1/1 [00:03<00:00,  3.90s/it, est. speed input: 289.13 toks/s, output: 16.40 toks/s]\n",
            "Processed prompts: 100%|██████████| 1/1 [00:01<00:00,  1.38s/it, est. speed input: 742.37 toks/s, output: 46.35 toks/s]\n",
            "Processed prompts: 100%|██████████| 1/1 [00:01<00:00,  1.37s/it, est. speed input: 772.66 toks/s, output: 46.65 toks/s]\n",
            "Processed prompts: 100%|██████████| 1/1 [00:01<00:00,  1.39s/it, est. speed input: 683.13 toks/s, output: 46.02 toks/s]\n",
            "Processed prompts: 100%|██████████| 1/1 [00:01<00:00,  1.55s/it, est. speed input: 756.70 toks/s, output: 41.46 toks/s]\n",
            "100it [02:34,  1.55s/it]\n"
          ]
        }
      ],
      "source": [
        "# 추론\n",
        "test_results = []\n",
        "for idx, row in tqdm(test_data.iterrows()):\n",
        "    question = get_prompt_question(row)\n",
        "    result_df = chain_df.invoke(question)\n",
        "    \n",
        "    # result_pdf = chain_pdf.invoke(question)\n",
        "\n",
        "    # 사용자가 원하는 방식으로 두 결과를 합치거나, 둘 중 하나만 선택\n",
        "    # 여기서는 DF 결과와 PDF 결과를 단순 연결 예시\n",
        "    final_result = result_df['result']\n",
        "    test_results.append(final_result)"
      ]
    },
    {
      "cell_type": "code",
      "execution_count": null,
      "id": "02c1623c",
      "metadata": {},
      "outputs": [],
      "source": [
        "a = pd.DataFrame(test_results, columns = ['answer'])"
      ]
    },
    {
      "cell_type": "code",
      "execution_count": null,
      "id": "e7ec4eee",
      "metadata": {},
      "outputs": [],
      "source": [
        "b = pd.read_csv(\"/workspace/Storage/hansoldeco3/Data/sample_result.csv\")"
      ]
    },
    {
      "cell_type": "code",
      "execution_count": null,
      "id": "ffad3d58",
      "metadata": {},
      "outputs": [
        {
          "name": "stdout",
          "output_type": "stream",
          "text": [
            "0.3558504359625673\n"
          ]
        }
      ],
      "source": [
        "from wrapup.evaluation import calculate_similarities, scoring\n",
        "true_sample = pd.read_csv(\"/workspace/Storage/hansoldeco3/Data/sample/v1/test.csv\")\n",
        "cossims, jaccardsims = calculate_similarities(true_sample['재발방지대책 및 향후조치계획'], a['answer'])\n",
        "score = scoring(cossims, jaccardsims)\n",
        "print(score)"
      ]
    },
    {
      "cell_type": "markdown",
      "id": "e9022911",
      "metadata": {
        "id": "e9022911"
      },
      "source": [
        "# Submission"
      ]
    },
    {
      "cell_type": "code",
      "execution_count": null,
      "id": "7c891b75",
      "metadata": {},
      "outputs": [],
      "source": []
    }
  ],
  "metadata": {
    "accelerator": "GPU",
    "colab": {
      "gpuType": "T4",
      "provenance": []
    },
    "kernelspec": {
      "display_name": "hansoldeco3",
      "language": "python",
      "name": "hansoldeco3"
    },
    "language_info": {
      "codemirror_mode": {
        "name": "ipython",
        "version": 3
      },
      "file_extension": ".py",
      "mimetype": "text/x-python",
      "name": "python",
      "nbconvert_exporter": "python",
      "pygments_lexer": "ipython3",
      "version": "3.11.11"
    },
    "widgets": {
      "application/vnd.jupyter.widget-state+json": {
        "0a4d918019514ae7bbfc4c94eb1d701f": {
          "model_module": "@jupyter-widgets/controls",
          "model_module_version": "1.5.0",
          "model_name": "HTMLModel",
          "state": {
            "_dom_classes": [],
            "_model_module": "@jupyter-widgets/controls",
            "_model_module_version": "1.5.0",
            "_model_name": "HTMLModel",
            "_view_count": null,
            "_view_module": "@jupyter-widgets/controls",
            "_view_module_version": "1.5.0",
            "_view_name": "HTMLView",
            "description": "",
            "description_tooltip": null,
            "layout": "IPY_MODEL_69e55c9e65534a308e7f73cd58dabd9d",
            "placeholder": "​",
            "style": "IPY_MODEL_77746380b28f47e7af11aae31baed046",
            "value": "Loading checkpoint shards: 100%"
          }
        },
        "2b9e4fc586a2407ba635f71d43848f30": {
          "model_module": "@jupyter-widgets/controls",
          "model_module_version": "1.5.0",
          "model_name": "HBoxModel",
          "state": {
            "_dom_classes": [],
            "_model_module": "@jupyter-widgets/controls",
            "_model_module_version": "1.5.0",
            "_model_name": "HBoxModel",
            "_view_count": null,
            "_view_module": "@jupyter-widgets/controls",
            "_view_module_version": "1.5.0",
            "_view_name": "HBoxView",
            "box_style": "",
            "children": [
              "IPY_MODEL_0a4d918019514ae7bbfc4c94eb1d701f",
              "IPY_MODEL_6897f9c37ad44384b114596a48dde628",
              "IPY_MODEL_45fc8662d4e24fd8bc48ac70e61ad924"
            ],
            "layout": "IPY_MODEL_9c7f083ae939450680c137cd8c10a961"
          }
        },
        "44be7fc920384187836269f9ae923de9": {
          "model_module": "@jupyter-widgets/base",
          "model_module_version": "1.2.0",
          "model_name": "LayoutModel",
          "state": {
            "_model_module": "@jupyter-widgets/base",
            "_model_module_version": "1.2.0",
            "_model_name": "LayoutModel",
            "_view_count": null,
            "_view_module": "@jupyter-widgets/base",
            "_view_module_version": "1.2.0",
            "_view_name": "LayoutView",
            "align_content": null,
            "align_items": null,
            "align_self": null,
            "border": null,
            "bottom": null,
            "display": null,
            "flex": null,
            "flex_flow": null,
            "grid_area": null,
            "grid_auto_columns": null,
            "grid_auto_flow": null,
            "grid_auto_rows": null,
            "grid_column": null,
            "grid_gap": null,
            "grid_row": null,
            "grid_template_areas": null,
            "grid_template_columns": null,
            "grid_template_rows": null,
            "height": null,
            "justify_content": null,
            "justify_items": null,
            "left": null,
            "margin": null,
            "max_height": null,
            "max_width": null,
            "min_height": null,
            "min_width": null,
            "object_fit": null,
            "object_position": null,
            "order": null,
            "overflow": null,
            "overflow_x": null,
            "overflow_y": null,
            "padding": null,
            "right": null,
            "top": null,
            "visibility": null,
            "width": null
          }
        },
        "45fc8662d4e24fd8bc48ac70e61ad924": {
          "model_module": "@jupyter-widgets/controls",
          "model_module_version": "1.5.0",
          "model_name": "HTMLModel",
          "state": {
            "_dom_classes": [],
            "_model_module": "@jupyter-widgets/controls",
            "_model_module_version": "1.5.0",
            "_model_name": "HTMLModel",
            "_view_count": null,
            "_view_module": "@jupyter-widgets/controls",
            "_view_module_version": "1.5.0",
            "_view_name": "HTMLView",
            "description": "",
            "description_tooltip": null,
            "layout": "IPY_MODEL_ad70dfa415ce4f2e8272f838946437c9",
            "placeholder": "​",
            "style": "IPY_MODEL_48f5e671465348d589618fbcea047f07",
            "value": " 4/4 [01:23&lt;00:00, 17.76s/it]"
          }
        },
        "48f5e671465348d589618fbcea047f07": {
          "model_module": "@jupyter-widgets/controls",
          "model_module_version": "1.5.0",
          "model_name": "DescriptionStyleModel",
          "state": {
            "_model_module": "@jupyter-widgets/controls",
            "_model_module_version": "1.5.0",
            "_model_name": "DescriptionStyleModel",
            "_view_count": null,
            "_view_module": "@jupyter-widgets/base",
            "_view_module_version": "1.2.0",
            "_view_name": "StyleView",
            "description_width": ""
          }
        },
        "6897f9c37ad44384b114596a48dde628": {
          "model_module": "@jupyter-widgets/controls",
          "model_module_version": "1.5.0",
          "model_name": "FloatProgressModel",
          "state": {
            "_dom_classes": [],
            "_model_module": "@jupyter-widgets/controls",
            "_model_module_version": "1.5.0",
            "_model_name": "FloatProgressModel",
            "_view_count": null,
            "_view_module": "@jupyter-widgets/controls",
            "_view_module_version": "1.5.0",
            "_view_name": "ProgressView",
            "bar_style": "success",
            "description": "",
            "description_tooltip": null,
            "layout": "IPY_MODEL_44be7fc920384187836269f9ae923de9",
            "max": 4,
            "min": 0,
            "orientation": "horizontal",
            "style": "IPY_MODEL_d98c24507e604efbbb9a24fcf346ab5a",
            "value": 4
          }
        },
        "69e55c9e65534a308e7f73cd58dabd9d": {
          "model_module": "@jupyter-widgets/base",
          "model_module_version": "1.2.0",
          "model_name": "LayoutModel",
          "state": {
            "_model_module": "@jupyter-widgets/base",
            "_model_module_version": "1.2.0",
            "_model_name": "LayoutModel",
            "_view_count": null,
            "_view_module": "@jupyter-widgets/base",
            "_view_module_version": "1.2.0",
            "_view_name": "LayoutView",
            "align_content": null,
            "align_items": null,
            "align_self": null,
            "border": null,
            "bottom": null,
            "display": null,
            "flex": null,
            "flex_flow": null,
            "grid_area": null,
            "grid_auto_columns": null,
            "grid_auto_flow": null,
            "grid_auto_rows": null,
            "grid_column": null,
            "grid_gap": null,
            "grid_row": null,
            "grid_template_areas": null,
            "grid_template_columns": null,
            "grid_template_rows": null,
            "height": null,
            "justify_content": null,
            "justify_items": null,
            "left": null,
            "margin": null,
            "max_height": null,
            "max_width": null,
            "min_height": null,
            "min_width": null,
            "object_fit": null,
            "object_position": null,
            "order": null,
            "overflow": null,
            "overflow_x": null,
            "overflow_y": null,
            "padding": null,
            "right": null,
            "top": null,
            "visibility": null,
            "width": null
          }
        },
        "77746380b28f47e7af11aae31baed046": {
          "model_module": "@jupyter-widgets/controls",
          "model_module_version": "1.5.0",
          "model_name": "DescriptionStyleModel",
          "state": {
            "_model_module": "@jupyter-widgets/controls",
            "_model_module_version": "1.5.0",
            "_model_name": "DescriptionStyleModel",
            "_view_count": null,
            "_view_module": "@jupyter-widgets/base",
            "_view_module_version": "1.2.0",
            "_view_name": "StyleView",
            "description_width": ""
          }
        },
        "9c7f083ae939450680c137cd8c10a961": {
          "model_module": "@jupyter-widgets/base",
          "model_module_version": "1.2.0",
          "model_name": "LayoutModel",
          "state": {
            "_model_module": "@jupyter-widgets/base",
            "_model_module_version": "1.2.0",
            "_model_name": "LayoutModel",
            "_view_count": null,
            "_view_module": "@jupyter-widgets/base",
            "_view_module_version": "1.2.0",
            "_view_name": "LayoutView",
            "align_content": null,
            "align_items": null,
            "align_self": null,
            "border": null,
            "bottom": null,
            "display": null,
            "flex": null,
            "flex_flow": null,
            "grid_area": null,
            "grid_auto_columns": null,
            "grid_auto_flow": null,
            "grid_auto_rows": null,
            "grid_column": null,
            "grid_gap": null,
            "grid_row": null,
            "grid_template_areas": null,
            "grid_template_columns": null,
            "grid_template_rows": null,
            "height": null,
            "justify_content": null,
            "justify_items": null,
            "left": null,
            "margin": null,
            "max_height": null,
            "max_width": null,
            "min_height": null,
            "min_width": null,
            "object_fit": null,
            "object_position": null,
            "order": null,
            "overflow": null,
            "overflow_x": null,
            "overflow_y": null,
            "padding": null,
            "right": null,
            "top": null,
            "visibility": null,
            "width": null
          }
        },
        "ad70dfa415ce4f2e8272f838946437c9": {
          "model_module": "@jupyter-widgets/base",
          "model_module_version": "1.2.0",
          "model_name": "LayoutModel",
          "state": {
            "_model_module": "@jupyter-widgets/base",
            "_model_module_version": "1.2.0",
            "_model_name": "LayoutModel",
            "_view_count": null,
            "_view_module": "@jupyter-widgets/base",
            "_view_module_version": "1.2.0",
            "_view_name": "LayoutView",
            "align_content": null,
            "align_items": null,
            "align_self": null,
            "border": null,
            "bottom": null,
            "display": null,
            "flex": null,
            "flex_flow": null,
            "grid_area": null,
            "grid_auto_columns": null,
            "grid_auto_flow": null,
            "grid_auto_rows": null,
            "grid_column": null,
            "grid_gap": null,
            "grid_row": null,
            "grid_template_areas": null,
            "grid_template_columns": null,
            "grid_template_rows": null,
            "height": null,
            "justify_content": null,
            "justify_items": null,
            "left": null,
            "margin": null,
            "max_height": null,
            "max_width": null,
            "min_height": null,
            "min_width": null,
            "object_fit": null,
            "object_position": null,
            "order": null,
            "overflow": null,
            "overflow_x": null,
            "overflow_y": null,
            "padding": null,
            "right": null,
            "top": null,
            "visibility": null,
            "width": null
          }
        },
        "d98c24507e604efbbb9a24fcf346ab5a": {
          "model_module": "@jupyter-widgets/controls",
          "model_module_version": "1.5.0",
          "model_name": "ProgressStyleModel",
          "state": {
            "_model_module": "@jupyter-widgets/controls",
            "_model_module_version": "1.5.0",
            "_model_name": "ProgressStyleModel",
            "_view_count": null,
            "_view_module": "@jupyter-widgets/base",
            "_view_module_version": "1.2.0",
            "_view_name": "StyleView",
            "bar_color": null,
            "description_width": ""
          }
        }
      }
    }
  },
  "nbformat": 4,
  "nbformat_minor": 5
}
